{
 "cells": [
  {
   "cell_type": "code",
   "execution_count": 1,
   "id": "65427968",
   "metadata": {
    "_cell_guid": "b1076dfc-b9ad-4769-8c92-a6c4dae69d19",
    "_uuid": "8f2839f25d086af736a60e9eeb907d3b93b6e0e5",
    "execution": {
     "iopub.execute_input": "2022-09-29T21:03:14.336954Z",
     "iopub.status.busy": "2022-09-29T21:03:14.336502Z",
     "iopub.status.idle": "2022-09-29T21:03:19.812636Z",
     "shell.execute_reply": "2022-09-29T21:03:19.811698Z"
    },
    "papermill": {
     "duration": 5.49577,
     "end_time": "2022-09-29T21:03:19.815140",
     "exception": false,
     "start_time": "2022-09-29T21:03:14.319370",
     "status": "completed"
    },
    "tags": []
   },
   "outputs": [
    {
     "data": {
      "text/html": [
       "<style type='text/css'>\n",
       ".datatable table.frame { margin-bottom: 0; }\n",
       ".datatable table.frame thead { border-bottom: none; }\n",
       ".datatable table.frame tr.coltypes td {  color: #FFFFFF;  line-height: 6px;  padding: 0 0.5em;}\n",
       ".datatable .bool    { background: #DDDD99; }\n",
       ".datatable .object  { background: #565656; }\n",
       ".datatable .int     { background: #5D9E5D; }\n",
       ".datatable .float   { background: #4040CC; }\n",
       ".datatable .str     { background: #CC4040; }\n",
       ".datatable .time    { background: #40CC40; }\n",
       ".datatable .row_index {  background: var(--jp-border-color3);  border-right: 1px solid var(--jp-border-color0);  color: var(--jp-ui-font-color3);  font-size: 9px;}\n",
       ".datatable .frame tbody td { text-align: left; }\n",
       ".datatable .frame tr.coltypes .row_index {  background: var(--jp-border-color0);}\n",
       ".datatable th:nth-child(2) { padding-left: 12px; }\n",
       ".datatable .hellipsis {  color: var(--jp-cell-editor-border-color);}\n",
       ".datatable .vellipsis {  background: var(--jp-layout-color0);  color: var(--jp-cell-editor-border-color);}\n",
       ".datatable .na {  color: var(--jp-cell-editor-border-color);  font-size: 80%;}\n",
       ".datatable .sp {  opacity: 0.25;}\n",
       ".datatable .footer { font-size: 9px; }\n",
       ".datatable .frame_dimensions {  background: var(--jp-border-color3);  border-top: 1px solid var(--jp-border-color0);  color: var(--jp-ui-font-color3);  display: inline-block;  opacity: 0.6;  padding: 1px 10px 1px 5px;}\n",
       "</style>\n"
      ],
      "text/plain": [
       "<IPython.core.display.HTML object>"
      ]
     },
     "metadata": {},
     "output_type": "display_data"
    }
   ],
   "source": [
    "import pandas as pd\n",
    "from sklearn.model_selection import train_test_split\n",
    "from sklearn.dummy import DummyClassifier\n",
    "from sklearn.model_selection import ParameterGrid\n",
    "from sklearn.svm import SVC\n",
    "from sklearn.ensemble import AdaBoostClassifier, RandomForestClassifier, GradientBoostingClassifier, VotingClassifier\n",
    "from sklearn.linear_model import LogisticRegression\n",
    "from sklearn.neighbors import KNeighborsClassifier\n",
    "from transformers import AutoTokenizer, AutoModel\n",
    "from multiprocessing import Pool\n",
    "\n",
    "import lightgbm as lgb\n",
    "\n",
    "from torch.utils.data import DataLoader\n",
    "import torch\n",
    "from torch.optim import Adam\n",
    "from tqdm import tqdm\n",
    "\n",
    "import random\n",
    "import numpy as np\n",
    "\n",
    "import re\n",
    "import nltk\n",
    "import string\n",
    "import numpy as np\n",
    "from torch.utils.data import Dataset\n",
    "from torch import nn\n",
    "\n",
    "import seaborn as sns\n",
    "sns.set_theme(style=\"whitegrid\")\n",
    "\n",
    "import matplotlib.pyplot as plt\n",
    "from sklearn.preprocessing import StandardScaler"
   ]
  },
  {
   "cell_type": "markdown",
   "id": "f5c03a72",
   "metadata": {
    "papermill": {
     "duration": 0.00928,
     "end_time": "2022-09-29T21:03:19.834294",
     "exception": false,
     "start_time": "2022-09-29T21:03:19.825014",
     "status": "completed"
    },
    "tags": []
   },
   "source": [
    "# Load and split datasets"
   ]
  },
  {
   "cell_type": "code",
   "execution_count": 2,
   "id": "1956ec53",
   "metadata": {
    "execution": {
     "iopub.execute_input": "2022-09-29T21:03:19.854548Z",
     "iopub.status.busy": "2022-09-29T21:03:19.853981Z",
     "iopub.status.idle": "2022-09-29T21:03:19.998365Z",
     "shell.execute_reply": "2022-09-29T21:03:19.997440Z"
    },
    "papermill": {
     "duration": 0.157626,
     "end_time": "2022-09-29T21:03:20.000568",
     "exception": false,
     "start_time": "2022-09-29T21:03:19.842942",
     "status": "completed"
    },
    "tags": []
   },
   "outputs": [
    {
     "name": "stdout",
     "output_type": "stream",
     "text": [
      "*************** SAMPLE SUBMISSION *****************\n"
     ]
    },
    {
     "data": {
      "text/html": [
       "<div>\n",
       "<style scoped>\n",
       "    .dataframe tbody tr th:only-of-type {\n",
       "        vertical-align: middle;\n",
       "    }\n",
       "\n",
       "    .dataframe tbody tr th {\n",
       "        vertical-align: top;\n",
       "    }\n",
       "\n",
       "    .dataframe thead th {\n",
       "        text-align: right;\n",
       "    }\n",
       "</style>\n",
       "<table border=\"1\" class=\"dataframe\">\n",
       "  <thead>\n",
       "    <tr style=\"text-align: right;\">\n",
       "      <th></th>\n",
       "      <th>id</th>\n",
       "      <th>target</th>\n",
       "    </tr>\n",
       "  </thead>\n",
       "  <tbody>\n",
       "    <tr>\n",
       "      <th>0</th>\n",
       "      <td>0</td>\n",
       "      <td>0</td>\n",
       "    </tr>\n",
       "    <tr>\n",
       "      <th>1</th>\n",
       "      <td>2</td>\n",
       "      <td>0</td>\n",
       "    </tr>\n",
       "    <tr>\n",
       "      <th>2</th>\n",
       "      <td>3</td>\n",
       "      <td>0</td>\n",
       "    </tr>\n",
       "    <tr>\n",
       "      <th>3</th>\n",
       "      <td>9</td>\n",
       "      <td>0</td>\n",
       "    </tr>\n",
       "    <tr>\n",
       "      <th>4</th>\n",
       "      <td>11</td>\n",
       "      <td>0</td>\n",
       "    </tr>\n",
       "    <tr>\n",
       "      <th>...</th>\n",
       "      <td>...</td>\n",
       "      <td>...</td>\n",
       "    </tr>\n",
       "    <tr>\n",
       "      <th>3258</th>\n",
       "      <td>10861</td>\n",
       "      <td>0</td>\n",
       "    </tr>\n",
       "    <tr>\n",
       "      <th>3259</th>\n",
       "      <td>10865</td>\n",
       "      <td>0</td>\n",
       "    </tr>\n",
       "    <tr>\n",
       "      <th>3260</th>\n",
       "      <td>10868</td>\n",
       "      <td>0</td>\n",
       "    </tr>\n",
       "    <tr>\n",
       "      <th>3261</th>\n",
       "      <td>10874</td>\n",
       "      <td>0</td>\n",
       "    </tr>\n",
       "    <tr>\n",
       "      <th>3262</th>\n",
       "      <td>10875</td>\n",
       "      <td>0</td>\n",
       "    </tr>\n",
       "  </tbody>\n",
       "</table>\n",
       "<p>3263 rows × 2 columns</p>\n",
       "</div>"
      ],
      "text/plain": [
       "         id  target\n",
       "0         0       0\n",
       "1         2       0\n",
       "2         3       0\n",
       "3         9       0\n",
       "4        11       0\n",
       "...     ...     ...\n",
       "3258  10861       0\n",
       "3259  10865       0\n",
       "3260  10868       0\n",
       "3261  10874       0\n",
       "3262  10875       0\n",
       "\n",
       "[3263 rows x 2 columns]"
      ]
     },
     "metadata": {},
     "output_type": "display_data"
    },
    {
     "name": "stdout",
     "output_type": "stream",
     "text": [
      "\n",
      "*************** TRAIN DATA *****************\n"
     ]
    },
    {
     "data": {
      "text/html": [
       "<div>\n",
       "<style scoped>\n",
       "    .dataframe tbody tr th:only-of-type {\n",
       "        vertical-align: middle;\n",
       "    }\n",
       "\n",
       "    .dataframe tbody tr th {\n",
       "        vertical-align: top;\n",
       "    }\n",
       "\n",
       "    .dataframe thead th {\n",
       "        text-align: right;\n",
       "    }\n",
       "</style>\n",
       "<table border=\"1\" class=\"dataframe\">\n",
       "  <thead>\n",
       "    <tr style=\"text-align: right;\">\n",
       "      <th></th>\n",
       "      <th>id</th>\n",
       "      <th>keyword</th>\n",
       "      <th>location</th>\n",
       "      <th>text</th>\n",
       "      <th>target</th>\n",
       "    </tr>\n",
       "  </thead>\n",
       "  <tbody>\n",
       "    <tr>\n",
       "      <th>4996</th>\n",
       "      <td>7128</td>\n",
       "      <td>military</td>\n",
       "      <td>Texas</td>\n",
       "      <td>Courageous and honest analysis of need to use ...</td>\n",
       "      <td>1</td>\n",
       "    </tr>\n",
       "    <tr>\n",
       "      <th>3263</th>\n",
       "      <td>4688</td>\n",
       "      <td>engulfed</td>\n",
       "      <td>NaN</td>\n",
       "      <td>@ZachZaidman @670TheScore wld b a shame if tha...</td>\n",
       "      <td>0</td>\n",
       "    </tr>\n",
       "    <tr>\n",
       "      <th>4907</th>\n",
       "      <td>6984</td>\n",
       "      <td>massacre</td>\n",
       "      <td>Cottonwood Arizona</td>\n",
       "      <td>Tell @BarackObama to rescind medals of 'honor'...</td>\n",
       "      <td>1</td>\n",
       "    </tr>\n",
       "    <tr>\n",
       "      <th>2855</th>\n",
       "      <td>4103</td>\n",
       "      <td>drought</td>\n",
       "      <td>Spokane, WA</td>\n",
       "      <td>Worried about how the CA drought might affect ...</td>\n",
       "      <td>1</td>\n",
       "    </tr>\n",
       "    <tr>\n",
       "      <th>4716</th>\n",
       "      <td>6706</td>\n",
       "      <td>lava</td>\n",
       "      <td>Medan,Indonesia</td>\n",
       "      <td>@YoungHeroesID Lava Blast &amp;amp; Power Red #Pan...</td>\n",
       "      <td>0</td>\n",
       "    </tr>\n",
       "    <tr>\n",
       "      <th>...</th>\n",
       "      <td>...</td>\n",
       "      <td>...</td>\n",
       "      <td>...</td>\n",
       "      <td>...</td>\n",
       "      <td>...</td>\n",
       "    </tr>\n",
       "    <tr>\n",
       "      <th>5226</th>\n",
       "      <td>7470</td>\n",
       "      <td>obliteration</td>\n",
       "      <td>Merica!</td>\n",
       "      <td>@Eganator2000 There aren't many Obliteration s...</td>\n",
       "      <td>0</td>\n",
       "    </tr>\n",
       "    <tr>\n",
       "      <th>5390</th>\n",
       "      <td>7691</td>\n",
       "      <td>panic</td>\n",
       "      <td>NaN</td>\n",
       "      <td>just had a panic attack bc I don't have enough...</td>\n",
       "      <td>0</td>\n",
       "    </tr>\n",
       "    <tr>\n",
       "      <th>860</th>\n",
       "      <td>1242</td>\n",
       "      <td>blood</td>\n",
       "      <td>NaN</td>\n",
       "      <td>Omron HEM-712C Automatic Blood Pressure Monito...</td>\n",
       "      <td>0</td>\n",
       "    </tr>\n",
       "    <tr>\n",
       "      <th>7603</th>\n",
       "      <td>10862</td>\n",
       "      <td>NaN</td>\n",
       "      <td>NaN</td>\n",
       "      <td>Officials say a quarantine is in place at an A...</td>\n",
       "      <td>1</td>\n",
       "    </tr>\n",
       "    <tr>\n",
       "      <th>7270</th>\n",
       "      <td>10409</td>\n",
       "      <td>whirlwind</td>\n",
       "      <td>Stamford &amp; Cork (&amp; Shropshire)</td>\n",
       "      <td>I moved to England five years ago today. What ...</td>\n",
       "      <td>1</td>\n",
       "    </tr>\n",
       "  </tbody>\n",
       "</table>\n",
       "<p>6090 rows × 5 columns</p>\n",
       "</div>"
      ],
      "text/plain": [
       "         id       keyword                        location  \\\n",
       "4996   7128      military                           Texas   \n",
       "3263   4688      engulfed                             NaN   \n",
       "4907   6984      massacre              Cottonwood Arizona   \n",
       "2855   4103       drought                     Spokane, WA   \n",
       "4716   6706          lava                 Medan,Indonesia   \n",
       "...     ...           ...                             ...   \n",
       "5226   7470  obliteration                         Merica!   \n",
       "5390   7691         panic                             NaN   \n",
       "860    1242         blood                             NaN   \n",
       "7603  10862           NaN                             NaN   \n",
       "7270  10409     whirlwind  Stamford & Cork (& Shropshire)   \n",
       "\n",
       "                                                   text  target  \n",
       "4996  Courageous and honest analysis of need to use ...       1  \n",
       "3263  @ZachZaidman @670TheScore wld b a shame if tha...       0  \n",
       "4907  Tell @BarackObama to rescind medals of 'honor'...       1  \n",
       "2855  Worried about how the CA drought might affect ...       1  \n",
       "4716  @YoungHeroesID Lava Blast &amp; Power Red #Pan...       0  \n",
       "...                                                 ...     ...  \n",
       "5226  @Eganator2000 There aren't many Obliteration s...       0  \n",
       "5390  just had a panic attack bc I don't have enough...       0  \n",
       "860   Omron HEM-712C Automatic Blood Pressure Monito...       0  \n",
       "7603  Officials say a quarantine is in place at an A...       1  \n",
       "7270  I moved to England five years ago today. What ...       1  \n",
       "\n",
       "[6090 rows x 5 columns]"
      ]
     },
     "metadata": {},
     "output_type": "display_data"
    },
    {
     "name": "stdout",
     "output_type": "stream",
     "text": [
      "\n",
      "*************** VAL DATA *****************\n"
     ]
    },
    {
     "data": {
      "text/html": [
       "<div>\n",
       "<style scoped>\n",
       "    .dataframe tbody tr th:only-of-type {\n",
       "        vertical-align: middle;\n",
       "    }\n",
       "\n",
       "    .dataframe tbody tr th {\n",
       "        vertical-align: top;\n",
       "    }\n",
       "\n",
       "    .dataframe thead th {\n",
       "        text-align: right;\n",
       "    }\n",
       "</style>\n",
       "<table border=\"1\" class=\"dataframe\">\n",
       "  <thead>\n",
       "    <tr style=\"text-align: right;\">\n",
       "      <th></th>\n",
       "      <th>id</th>\n",
       "      <th>keyword</th>\n",
       "      <th>location</th>\n",
       "      <th>text</th>\n",
       "      <th>target</th>\n",
       "    </tr>\n",
       "  </thead>\n",
       "  <tbody>\n",
       "    <tr>\n",
       "      <th>2644</th>\n",
       "      <td>3796</td>\n",
       "      <td>destruction</td>\n",
       "      <td>NaN</td>\n",
       "      <td>So you have a new weapon that can cause un-ima...</td>\n",
       "      <td>1</td>\n",
       "    </tr>\n",
       "    <tr>\n",
       "      <th>2227</th>\n",
       "      <td>3185</td>\n",
       "      <td>deluge</td>\n",
       "      <td>NaN</td>\n",
       "      <td>The f$&amp;amp;@ing things I do for #GISHWHES Just...</td>\n",
       "      <td>0</td>\n",
       "    </tr>\n",
       "    <tr>\n",
       "      <th>5448</th>\n",
       "      <td>7769</td>\n",
       "      <td>police</td>\n",
       "      <td>UK</td>\n",
       "      <td>DT @georgegalloway: RT @Galloway4Mayor: ÛÏThe...</td>\n",
       "      <td>1</td>\n",
       "    </tr>\n",
       "    <tr>\n",
       "      <th>132</th>\n",
       "      <td>191</td>\n",
       "      <td>aftershock</td>\n",
       "      <td>NaN</td>\n",
       "      <td>Aftershock back to school kick off was great. ...</td>\n",
       "      <td>0</td>\n",
       "    </tr>\n",
       "    <tr>\n",
       "      <th>6845</th>\n",
       "      <td>9810</td>\n",
       "      <td>trauma</td>\n",
       "      <td>Montgomery County, MD</td>\n",
       "      <td>in response to trauma Children of Addicts deve...</td>\n",
       "      <td>0</td>\n",
       "    </tr>\n",
       "    <tr>\n",
       "      <th>...</th>\n",
       "      <td>...</td>\n",
       "      <td>...</td>\n",
       "      <td>...</td>\n",
       "      <td>...</td>\n",
       "      <td>...</td>\n",
       "    </tr>\n",
       "    <tr>\n",
       "      <th>1835</th>\n",
       "      <td>2640</td>\n",
       "      <td>crashed</td>\n",
       "      <td>Somewhere</td>\n",
       "      <td>@SmusX16475 Skype just crashed u host</td>\n",
       "      <td>0</td>\n",
       "    </tr>\n",
       "    <tr>\n",
       "      <th>506</th>\n",
       "      <td>731</td>\n",
       "      <td>attacked</td>\n",
       "      <td>Arundel</td>\n",
       "      <td>Christian Attacked by Muslims at the Temple Mo...</td>\n",
       "      <td>1</td>\n",
       "    </tr>\n",
       "    <tr>\n",
       "      <th>3592</th>\n",
       "      <td>5131</td>\n",
       "      <td>fatal</td>\n",
       "      <td>New South Wales, Australia</td>\n",
       "      <td>Man charged over fatal crash near Dubbo refuse...</td>\n",
       "      <td>1</td>\n",
       "    </tr>\n",
       "    <tr>\n",
       "      <th>6740</th>\n",
       "      <td>9657</td>\n",
       "      <td>thunderstorm</td>\n",
       "      <td>NaN</td>\n",
       "      <td>#usNWSgov Severe Weather Statement issued Augu...</td>\n",
       "      <td>1</td>\n",
       "    </tr>\n",
       "    <tr>\n",
       "      <th>1634</th>\n",
       "      <td>2361</td>\n",
       "      <td>collapsed</td>\n",
       "      <td>NaN</td>\n",
       "      <td>Great British &amp;lt;b&amp;gt;Bake&amp;lt;/b&amp;gt; Off's ba...</td>\n",
       "      <td>0</td>\n",
       "    </tr>\n",
       "  </tbody>\n",
       "</table>\n",
       "<p>1523 rows × 5 columns</p>\n",
       "</div>"
      ],
      "text/plain": [
       "        id       keyword                    location  \\\n",
       "2644  3796   destruction                         NaN   \n",
       "2227  3185        deluge                         NaN   \n",
       "5448  7769        police                          UK   \n",
       "132    191    aftershock                         NaN   \n",
       "6845  9810        trauma       Montgomery County, MD   \n",
       "...    ...           ...                         ...   \n",
       "1835  2640       crashed                   Somewhere   \n",
       "506    731      attacked                    Arundel    \n",
       "3592  5131         fatal  New South Wales, Australia   \n",
       "6740  9657  thunderstorm                         NaN   \n",
       "1634  2361     collapsed                         NaN   \n",
       "\n",
       "                                                   text  target  \n",
       "2644  So you have a new weapon that can cause un-ima...       1  \n",
       "2227  The f$&amp;@ing things I do for #GISHWHES Just...       0  \n",
       "5448  DT @georgegalloway: RT @Galloway4Mayor: ÛÏThe...       1  \n",
       "132   Aftershock back to school kick off was great. ...       0  \n",
       "6845  in response to trauma Children of Addicts deve...       0  \n",
       "...                                                 ...     ...  \n",
       "1835              @SmusX16475 Skype just crashed u host       0  \n",
       "506   Christian Attacked by Muslims at the Temple Mo...       1  \n",
       "3592  Man charged over fatal crash near Dubbo refuse...       1  \n",
       "6740  #usNWSgov Severe Weather Statement issued Augu...       1  \n",
       "1634  Great British &lt;b&gt;Bake&lt;/b&gt; Off's ba...       0  \n",
       "\n",
       "[1523 rows x 5 columns]"
      ]
     },
     "metadata": {},
     "output_type": "display_data"
    },
    {
     "name": "stdout",
     "output_type": "stream",
     "text": [
      "\n",
      "*************** TEST DATA *****************\n"
     ]
    },
    {
     "data": {
      "text/html": [
       "<div>\n",
       "<style scoped>\n",
       "    .dataframe tbody tr th:only-of-type {\n",
       "        vertical-align: middle;\n",
       "    }\n",
       "\n",
       "    .dataframe tbody tr th {\n",
       "        vertical-align: top;\n",
       "    }\n",
       "\n",
       "    .dataframe thead th {\n",
       "        text-align: right;\n",
       "    }\n",
       "</style>\n",
       "<table border=\"1\" class=\"dataframe\">\n",
       "  <thead>\n",
       "    <tr style=\"text-align: right;\">\n",
       "      <th></th>\n",
       "      <th>id</th>\n",
       "      <th>keyword</th>\n",
       "      <th>location</th>\n",
       "      <th>text</th>\n",
       "    </tr>\n",
       "  </thead>\n",
       "  <tbody>\n",
       "    <tr>\n",
       "      <th>0</th>\n",
       "      <td>0</td>\n",
       "      <td>NaN</td>\n",
       "      <td>NaN</td>\n",
       "      <td>Just happened a terrible car crash</td>\n",
       "    </tr>\n",
       "    <tr>\n",
       "      <th>1</th>\n",
       "      <td>2</td>\n",
       "      <td>NaN</td>\n",
       "      <td>NaN</td>\n",
       "      <td>Heard about #earthquake is different cities, s...</td>\n",
       "    </tr>\n",
       "    <tr>\n",
       "      <th>2</th>\n",
       "      <td>3</td>\n",
       "      <td>NaN</td>\n",
       "      <td>NaN</td>\n",
       "      <td>there is a forest fire at spot pond, geese are...</td>\n",
       "    </tr>\n",
       "    <tr>\n",
       "      <th>3</th>\n",
       "      <td>9</td>\n",
       "      <td>NaN</td>\n",
       "      <td>NaN</td>\n",
       "      <td>Apocalypse lighting. #Spokane #wildfires</td>\n",
       "    </tr>\n",
       "    <tr>\n",
       "      <th>4</th>\n",
       "      <td>11</td>\n",
       "      <td>NaN</td>\n",
       "      <td>NaN</td>\n",
       "      <td>Typhoon Soudelor kills 28 in China and Taiwan</td>\n",
       "    </tr>\n",
       "    <tr>\n",
       "      <th>...</th>\n",
       "      <td>...</td>\n",
       "      <td>...</td>\n",
       "      <td>...</td>\n",
       "      <td>...</td>\n",
       "    </tr>\n",
       "    <tr>\n",
       "      <th>3258</th>\n",
       "      <td>10861</td>\n",
       "      <td>NaN</td>\n",
       "      <td>NaN</td>\n",
       "      <td>EARTHQUAKE SAFETY LOS ANGELES ÛÒ SAFETY FASTE...</td>\n",
       "    </tr>\n",
       "    <tr>\n",
       "      <th>3259</th>\n",
       "      <td>10865</td>\n",
       "      <td>NaN</td>\n",
       "      <td>NaN</td>\n",
       "      <td>Storm in RI worse than last hurricane. My city...</td>\n",
       "    </tr>\n",
       "    <tr>\n",
       "      <th>3260</th>\n",
       "      <td>10868</td>\n",
       "      <td>NaN</td>\n",
       "      <td>NaN</td>\n",
       "      <td>Green Line derailment in Chicago http://t.co/U...</td>\n",
       "    </tr>\n",
       "    <tr>\n",
       "      <th>3261</th>\n",
       "      <td>10874</td>\n",
       "      <td>NaN</td>\n",
       "      <td>NaN</td>\n",
       "      <td>MEG issues Hazardous Weather Outlook (HWO) htt...</td>\n",
       "    </tr>\n",
       "    <tr>\n",
       "      <th>3262</th>\n",
       "      <td>10875</td>\n",
       "      <td>NaN</td>\n",
       "      <td>NaN</td>\n",
       "      <td>#CityofCalgary has activated its Municipal Eme...</td>\n",
       "    </tr>\n",
       "  </tbody>\n",
       "</table>\n",
       "<p>3263 rows × 4 columns</p>\n",
       "</div>"
      ],
      "text/plain": [
       "         id keyword location  \\\n",
       "0         0     NaN      NaN   \n",
       "1         2     NaN      NaN   \n",
       "2         3     NaN      NaN   \n",
       "3         9     NaN      NaN   \n",
       "4        11     NaN      NaN   \n",
       "...     ...     ...      ...   \n",
       "3258  10861     NaN      NaN   \n",
       "3259  10865     NaN      NaN   \n",
       "3260  10868     NaN      NaN   \n",
       "3261  10874     NaN      NaN   \n",
       "3262  10875     NaN      NaN   \n",
       "\n",
       "                                                   text  \n",
       "0                    Just happened a terrible car crash  \n",
       "1     Heard about #earthquake is different cities, s...  \n",
       "2     there is a forest fire at spot pond, geese are...  \n",
       "3              Apocalypse lighting. #Spokane #wildfires  \n",
       "4         Typhoon Soudelor kills 28 in China and Taiwan  \n",
       "...                                                 ...  \n",
       "3258  EARTHQUAKE SAFETY LOS ANGELES ÛÒ SAFETY FASTE...  \n",
       "3259  Storm in RI worse than last hurricane. My city...  \n",
       "3260  Green Line derailment in Chicago http://t.co/U...  \n",
       "3261  MEG issues Hazardous Weather Outlook (HWO) htt...  \n",
       "3262  #CityofCalgary has activated its Municipal Eme...  \n",
       "\n",
       "[3263 rows x 4 columns]"
      ]
     },
     "metadata": {},
     "output_type": "display_data"
    }
   ],
   "source": [
    "sample_submission = pd.read_csv(\"/kaggle/input/nlp-getting-started/sample_submission.csv\")\n",
    "train_df = pd.read_csv(\"/kaggle/input/nlp-getting-started/train.csv\")\n",
    "test_df = pd.read_csv(\"/kaggle/input/nlp-getting-started/test.csv\")\n",
    "\n",
    "train_df, val_df = train_test_split(train_df, test_size=0.2, random_state=42)\n",
    "\n",
    "\n",
    "print(\"*************** SAMPLE SUBMISSION *****************\")\n",
    "display(sample_submission)\n",
    "\n",
    "print(\"\\n*************** TRAIN DATA *****************\")\n",
    "display(train_df)\n",
    "\n",
    "print(\"\\n*************** VAL DATA *****************\")\n",
    "display(val_df)\n",
    "\n",
    "print(\"\\n*************** TEST DATA *****************\")\n",
    "display(test_df)"
   ]
  },
  {
   "cell_type": "code",
   "execution_count": 3,
   "id": "0c253393",
   "metadata": {
    "execution": {
     "iopub.execute_input": "2022-09-29T21:03:20.025681Z",
     "iopub.status.busy": "2022-09-29T21:03:20.024931Z",
     "iopub.status.idle": "2022-09-29T21:03:20.048735Z",
     "shell.execute_reply": "2022-09-29T21:03:20.047544Z"
    },
    "papermill": {
     "duration": 0.03924,
     "end_time": "2022-09-29T21:03:20.051576",
     "exception": false,
     "start_time": "2022-09-29T21:03:20.012336",
     "status": "completed"
    },
    "tags": []
   },
   "outputs": [
    {
     "name": "stdout",
     "output_type": "stream",
     "text": [
      "<class 'pandas.core.frame.DataFrame'>\n",
      "Int64Index: 6090 entries, 4996 to 7270\n",
      "Data columns (total 5 columns):\n",
      " #   Column    Non-Null Count  Dtype \n",
      "---  ------    --------------  ----- \n",
      " 0   id        6090 non-null   int64 \n",
      " 1   keyword   6042 non-null   object\n",
      " 2   location  4070 non-null   object\n",
      " 3   text      6090 non-null   object\n",
      " 4   target    6090 non-null   int64 \n",
      "dtypes: int64(2), object(3)\n",
      "memory usage: 285.5+ KB\n"
     ]
    }
   ],
   "source": [
    "train_df.info()"
   ]
  },
  {
   "cell_type": "code",
   "execution_count": 4,
   "id": "324c4e43",
   "metadata": {
    "execution": {
     "iopub.execute_input": "2022-09-29T21:03:20.074938Z",
     "iopub.status.busy": "2022-09-29T21:03:20.074645Z",
     "iopub.status.idle": "2022-09-29T21:03:20.081380Z",
     "shell.execute_reply": "2022-09-29T21:03:20.080556Z"
    },
    "papermill": {
     "duration": 0.020656,
     "end_time": "2022-09-29T21:03:20.083420",
     "exception": false,
     "start_time": "2022-09-29T21:03:20.062764",
     "status": "completed"
    },
    "tags": []
   },
   "outputs": [],
   "source": [
    "def reset_random_state():\n",
    "    torch.manual_seed(0)\n",
    "    random.seed(0)\n",
    "    np.random.seed(0)\n",
    "    \n",
    "reset_random_state()"
   ]
  },
  {
   "cell_type": "markdown",
   "id": "0096f6b2",
   "metadata": {
    "papermill": {
     "duration": 0.010034,
     "end_time": "2022-09-29T21:03:20.103665",
     "exception": false,
     "start_time": "2022-09-29T21:03:20.093631",
     "status": "completed"
    },
    "tags": []
   },
   "source": [
    "## Keyword Ranking\n",
    "Find correlation between the keyword and the likelihood of a disaster"
   ]
  },
  {
   "cell_type": "code",
   "execution_count": 5,
   "id": "1fd6bc78",
   "metadata": {
    "execution": {
     "iopub.execute_input": "2022-09-29T21:03:20.125292Z",
     "iopub.status.busy": "2022-09-29T21:03:20.124485Z",
     "iopub.status.idle": "2022-09-29T21:03:20.292154Z",
     "shell.execute_reply": "2022-09-29T21:03:20.291188Z"
    },
    "papermill": {
     "duration": 0.180511,
     "end_time": "2022-09-29T21:03:20.294193",
     "exception": false,
     "start_time": "2022-09-29T21:03:20.113682",
     "status": "completed"
    },
    "tags": []
   },
   "outputs": [
    {
     "data": {
      "text/html": [
       "<div>\n",
       "<style scoped>\n",
       "    .dataframe tbody tr th:only-of-type {\n",
       "        vertical-align: middle;\n",
       "    }\n",
       "\n",
       "    .dataframe tbody tr th {\n",
       "        vertical-align: top;\n",
       "    }\n",
       "\n",
       "    .dataframe thead th {\n",
       "        text-align: right;\n",
       "    }\n",
       "</style>\n",
       "<table border=\"1\" class=\"dataframe\">\n",
       "  <thead>\n",
       "    <tr style=\"text-align: right;\">\n",
       "      <th></th>\n",
       "      <th>count</th>\n",
       "      <th>disaster</th>\n",
       "      <th>non_disaster</th>\n",
       "      <th>ratio</th>\n",
       "    </tr>\n",
       "    <tr>\n",
       "      <th>keyword</th>\n",
       "      <th></th>\n",
       "      <th></th>\n",
       "      <th></th>\n",
       "      <th></th>\n",
       "    </tr>\n",
       "  </thead>\n",
       "  <tbody>\n",
       "    <tr>\n",
       "      <th>ablaze</th>\n",
       "      <td>27</td>\n",
       "      <td>8.0</td>\n",
       "      <td>19.0</td>\n",
       "      <td>0.296296</td>\n",
       "    </tr>\n",
       "    <tr>\n",
       "      <th>accident</th>\n",
       "      <td>22</td>\n",
       "      <td>14.0</td>\n",
       "      <td>8.0</td>\n",
       "      <td>0.636364</td>\n",
       "    </tr>\n",
       "    <tr>\n",
       "      <th>aftershock</th>\n",
       "      <td>29</td>\n",
       "      <td>0.0</td>\n",
       "      <td>29.0</td>\n",
       "      <td>0.000000</td>\n",
       "    </tr>\n",
       "    <tr>\n",
       "      <th>airplane%20accident</th>\n",
       "      <td>29</td>\n",
       "      <td>26.0</td>\n",
       "      <td>3.0</td>\n",
       "      <td>0.896552</td>\n",
       "    </tr>\n",
       "    <tr>\n",
       "      <th>ambulance</th>\n",
       "      <td>28</td>\n",
       "      <td>16.0</td>\n",
       "      <td>12.0</td>\n",
       "      <td>0.571429</td>\n",
       "    </tr>\n",
       "    <tr>\n",
       "      <th>...</th>\n",
       "      <td>...</td>\n",
       "      <td>...</td>\n",
       "      <td>...</td>\n",
       "      <td>...</td>\n",
       "    </tr>\n",
       "    <tr>\n",
       "      <th>wounds</th>\n",
       "      <td>30</td>\n",
       "      <td>9.0</td>\n",
       "      <td>21.0</td>\n",
       "      <td>0.300000</td>\n",
       "    </tr>\n",
       "    <tr>\n",
       "      <th>wreck</th>\n",
       "      <td>29</td>\n",
       "      <td>5.0</td>\n",
       "      <td>24.0</td>\n",
       "      <td>0.172414</td>\n",
       "    </tr>\n",
       "    <tr>\n",
       "      <th>wreckage</th>\n",
       "      <td>35</td>\n",
       "      <td>35.0</td>\n",
       "      <td>0.0</td>\n",
       "      <td>1.000000</td>\n",
       "    </tr>\n",
       "    <tr>\n",
       "      <th>wrecked</th>\n",
       "      <td>33</td>\n",
       "      <td>2.0</td>\n",
       "      <td>31.0</td>\n",
       "      <td>0.060606</td>\n",
       "    </tr>\n",
       "    <tr>\n",
       "      <th>NaN</th>\n",
       "      <td>48</td>\n",
       "      <td>33.0</td>\n",
       "      <td>15.0</td>\n",
       "      <td>0.687500</td>\n",
       "    </tr>\n",
       "  </tbody>\n",
       "</table>\n",
       "<p>222 rows × 4 columns</p>\n",
       "</div>"
      ],
      "text/plain": [
       "                     count  disaster  non_disaster     ratio\n",
       "keyword                                                     \n",
       "ablaze                  27       8.0          19.0  0.296296\n",
       "accident                22      14.0           8.0  0.636364\n",
       "aftershock              29       0.0          29.0  0.000000\n",
       "airplane%20accident     29      26.0           3.0  0.896552\n",
       "ambulance               28      16.0          12.0  0.571429\n",
       "...                    ...       ...           ...       ...\n",
       "wounds                  30       9.0          21.0  0.300000\n",
       "wreck                   29       5.0          24.0  0.172414\n",
       "wreckage                35      35.0           0.0  1.000000\n",
       "wrecked                 33       2.0          31.0  0.060606\n",
       "NaN                     48      33.0          15.0  0.687500\n",
       "\n",
       "[222 rows x 4 columns]"
      ]
     },
     "execution_count": 5,
     "metadata": {},
     "output_type": "execute_result"
    }
   ],
   "source": [
    "train_keywords = train_df.groupby([\"keyword\"], dropna=False)[\"text\"].count().to_frame().rename(columns={\"text\": \"count\"})\n",
    "\n",
    "train_keywords[\"disaster\"] = train_df[train_df[\"target\"] == 1].groupby([\"keyword\"], dropna=False)[\"text\"].count()\n",
    "train_keywords[\"non_disaster\"] = train_df[train_df[\"target\"] == 0].groupby([\"keyword\"], dropna=False)[\"text\"].count()\n",
    "train_keywords = train_keywords.fillna(0)\n",
    "train_keywords[\"ratio\"] = train_keywords[\"disaster\"] / train_keywords[\"count\"]\n",
    "\n",
    "#train_keywords = train_keywords.sort_values(by=[\"ratio\"])\n",
    "\n",
    "train_keywords"
   ]
  },
  {
   "cell_type": "code",
   "execution_count": 6,
   "id": "2e08ae51",
   "metadata": {
    "execution": {
     "iopub.execute_input": "2022-09-29T21:03:20.317921Z",
     "iopub.status.busy": "2022-09-29T21:03:20.316298Z",
     "iopub.status.idle": "2022-09-29T21:03:26.496818Z",
     "shell.execute_reply": "2022-09-29T21:03:26.495987Z"
    },
    "papermill": {
     "duration": 6.197685,
     "end_time": "2022-09-29T21:03:26.502418",
     "exception": false,
     "start_time": "2022-09-29T21:03:20.304733",
     "status": "completed"
    },
    "tags": []
   },
   "outputs": [
    {
     "data": {
      "image/png": "[encoded data removed]",
      "text/plain": [
       "<Figure size 1080x5040 with 1 Axes>"
      ]
     },
     "metadata": {},
     "output_type": "display_data"
    }
   ],
   "source": [
    "train_df[\"keyword_disaster_ratio\"] = train_df[\"keyword\"].apply(lambda x: train_keywords.loc[x][\"ratio\"])\n",
    "train_df[\"keyword_disaster_ratio_count\"] = train_df[\"keyword\"].apply(lambda x: train_keywords.loc[x][\"count\"])\n",
    "\n",
    "val_df[\"keyword_disaster_ratio\"] = val_df[\"keyword\"].apply(lambda x: train_keywords.loc[x][\"ratio\"])\n",
    "val_df[\"keyword_disaster_ratio_count\"] = val_df[\"keyword\"].apply(lambda x: train_keywords.loc[x][\"count\"])\n",
    "\n",
    "test_df[\"keyword_disaster_ratio\"] = test_df[\"keyword\"].apply(lambda x: train_keywords.loc[x][\"ratio\"])\n",
    "test_df[\"keyword_disaster_ratio_count\"] = test_df[\"keyword\"].apply(lambda x: train_keywords.loc[x][\"count\"])\n",
    "\n",
    "\n",
    "train_df = train_df.sort_values(by=[\"keyword_disaster_ratio\"])\n",
    "\n",
    "\n",
    "fig, ax = plt.subplots(figsize=(15,70))\n",
    "sns.countplot(data=train_df, y=\"keyword\", hue=\"target\", ax=ax)\n",
    "\n",
    "train_df = train_df.drop([\"keyword\"], axis=1)\n",
    "val_df = val_df.drop([\"keyword\"], axis=1)\n",
    "test_df = test_df.drop([\"keyword\"], axis=1)"
   ]
  },
  {
   "cell_type": "markdown",
   "id": "96421a93",
   "metadata": {
    "papermill": {
     "duration": 0.01398,
     "end_time": "2022-09-29T21:03:26.530553",
     "exception": false,
     "start_time": "2022-09-29T21:03:26.516573",
     "status": "completed"
    },
    "tags": []
   },
   "source": [
    "## Locations"
   ]
  },
  {
   "cell_type": "code",
   "execution_count": 7,
   "id": "0f98100c",
   "metadata": {
    "execution": {
     "iopub.execute_input": "2022-09-29T21:03:26.560923Z",
     "iopub.status.busy": "2022-09-29T21:03:26.560621Z",
     "iopub.status.idle": "2022-09-29T21:03:26.565403Z",
     "shell.execute_reply": "2022-09-29T21:03:26.564480Z"
    },
    "papermill": {
     "duration": 0.022458,
     "end_time": "2022-09-29T21:03:26.567339",
     "exception": false,
     "start_time": "2022-09-29T21:03:26.544881",
     "status": "completed"
    },
    "tags": []
   },
   "outputs": [],
   "source": [
    "#def clean_up_locations(df):\n",
    "#    df[\"location\"] = df['location'].str.replace('[^a-zA-Z\\d\\s]', '', regex=True)\n",
    "#    df[\"location\"] = df['location'].str.replace('\\\\n', '', regex=False)\n",
    "\n",
    "#    df[\"location\"] = df['location'].str.replace('California USA', 'California', regex=False)\n",
    "#    df[\"location\"] = df['location'].str.replace('Chicago IL', 'Chicago', regex=False)\n",
    "\n",
    "#    df[\"location\"] = df[\"location\"].replace(\"Earth\", \"Worldwide\", regex=False)\n",
    "#    df[\"location\"] = df[\"location\"].replace(\"Everywhere\", \"Worldwide\", regex=False)\n",
    "#    df[\"location\"] = df[\"location\"].replace(\"Global\", \"Worldwide\", regex=False)\n",
    "\n",
    "\n",
    "#    df[\"location\"] = df[\"location\"].replace(\"NYC\", \"New York\", regex=False)\n",
    "#    df[\"location\"] = df[\"location\"].replace(\"New York NY\", \"New York\", regex=False)\n",
    "#    df[\"location\"] = df[\"location\"].replace(\"New York City\", \"New York\", regex=False)\n",
    "\n",
    "\n",
    "#    df[\"location\"] = df[\"location\"].replace(\"United Kingdom\", \"UK\", regex=False)\n",
    "#    df[\"location\"] = df[\"location\"].replace(\"United States\", \"USA\", regex=False)\n",
    "#    df[\"location\"] = df[\"location\"].replace(\"US\", \"USA\", regex=False)\n",
    "\n",
    "#    df[\"location\"] = df[\"location\"].replace(\"London UK\", \"London\", regex=False)\n",
    "#    df[\"location\"] = df[\"location\"].replace(\"San Francisco CA\", \"San Francisco\", regex=False)\n",
    "#    df[\"location\"] = df[\"location\"].replace(\"Los Angeles CA\", \"Los Angeles\", regex=False)\n",
    "\n",
    "#    df[\"location\"] = df[\"location\"].replace(\"Seattle WA\", \"Seattle\", regex=False)\n",
    "\n",
    "#    df[\"location\"] = df[\"location\"].replace(\"^\\s*$\", np.NaN, regex=True)\n",
    "    \n",
    "#    return df\n",
    "\n",
    "#train_df = clean_up_locations(train_df)\n",
    "#val_df = clean_up_locations(val_df)\n",
    "#test_df = clean_up_locations(test_df)\n",
    "\n",
    "#train_locations = train_df.groupby([\"location\"], dropna=False)[\"text\"].count().to_frame().rename(columns={\"text\": \"count\"})\n",
    "#train_locations[train_locations[\"count\"] > 5]"
   ]
  },
  {
   "cell_type": "code",
   "execution_count": 8,
   "id": "ca17e614",
   "metadata": {
    "execution": {
     "iopub.execute_input": "2022-09-29T21:03:26.596603Z",
     "iopub.status.busy": "2022-09-29T21:03:26.595839Z",
     "iopub.status.idle": "2022-09-29T21:03:26.600482Z",
     "shell.execute_reply": "2022-09-29T21:03:26.599666Z"
    },
    "papermill": {
     "duration": 0.021371,
     "end_time": "2022-09-29T21:03:26.602452",
     "exception": false,
     "start_time": "2022-09-29T21:03:26.581081",
     "status": "completed"
    },
    "tags": []
   },
   "outputs": [],
   "source": [
    "#train_locations = train_df.groupby([\"location\"], dropna=False)[\"text\"].count().to_frame().rename(columns={\"text\": \"count\"})\n",
    "\n",
    "#train_locations[\"disaster\"] = train_df[train_df[\"target\"] == 1].groupby([\"location\"], dropna=False)[\"text\"].count()\n",
    "#train_locations[\"non_disaster\"] = train_df[train_df[\"target\"] == 0].groupby([\"location\"], dropna=False)[\"text\"].count()\n",
    "#train_locations = train_locations.fillna(0)\n",
    "#train_locations[\"ratio\"] = train_locations[\"disaster\"] / train_locations[\"count\"]\n",
    "\n",
    "#train_locations = train_locations.sort_values(by=[\"count\"], ascending=False)\n",
    "\n",
    "#train_locations"
   ]
  },
  {
   "cell_type": "code",
   "execution_count": 9,
   "id": "efb02ba5",
   "metadata": {
    "execution": {
     "iopub.execute_input": "2022-09-29T21:03:26.631534Z",
     "iopub.status.busy": "2022-09-29T21:03:26.630657Z",
     "iopub.status.idle": "2022-09-29T21:03:26.638963Z",
     "shell.execute_reply": "2022-09-29T21:03:26.638153Z"
    },
    "papermill": {
     "duration": 0.024941,
     "end_time": "2022-09-29T21:03:26.640889",
     "exception": false,
     "start_time": "2022-09-29T21:03:26.615948",
     "status": "completed"
    },
    "tags": []
   },
   "outputs": [],
   "source": [
    "#train_df[\"location_disaster_ratio\"] = train_df[\"location\"].apply(lambda x: train_locations.loc[x][\"ratio\"])\n",
    "#train_df[\"location_disaster_ratio_count\"] = train_df[\"location\"].apply(lambda x: train_locations.loc[x][\"count\"])\n",
    "\n",
    "#val_df[\"location_disaster_ratio\"] = val_df[\"location\"].apply(lambda x: train_locations.loc[x][\"ratio\"] if x in train_locations.index else .5)\n",
    "#val_df[\"location_disaster_ratio_count\"] = val_df[\"location\"].apply(lambda x: train_locations.loc[x][\"count\"] if x in train_locations.index else 0)\n",
    "\n",
    "#test_df[\"location_disaster_ratio\"] = test_df[\"location\"].apply(lambda x: train_locations.loc[x][\"ratio\"] if x in train_locations.index else .5)\n",
    "#test_df[\"location_disaster_ratio_count\"] = test_df[\"location\"].apply(lambda x: train_locations.loc[x][\"count\"] if x in train_locations.index else 0)\n",
    "\n",
    "train_df = train_df.drop([\"location\"], axis=1)\n",
    "val_df = val_df.drop([\"location\"], axis=1)\n",
    "test_df = test_df.drop([\"location\"], axis=1)"
   ]
  },
  {
   "cell_type": "markdown",
   "id": "eec0304a",
   "metadata": {
    "papermill": {
     "duration": 0.013467,
     "end_time": "2022-09-29T21:03:26.667913",
     "exception": false,
     "start_time": "2022-09-29T21:03:26.654446",
     "status": "completed"
    },
    "tags": []
   },
   "source": [
    "# Final data check"
   ]
  },
  {
   "cell_type": "code",
   "execution_count": 10,
   "id": "17cc40a9",
   "metadata": {
    "execution": {
     "iopub.execute_input": "2022-09-29T21:03:26.697644Z",
     "iopub.status.busy": "2022-09-29T21:03:26.696769Z",
     "iopub.status.idle": "2022-09-29T21:03:26.710859Z",
     "shell.execute_reply": "2022-09-29T21:03:26.709907Z"
    },
    "papermill": {
     "duration": 0.031191,
     "end_time": "2022-09-29T21:03:26.712960",
     "exception": false,
     "start_time": "2022-09-29T21:03:26.681769",
     "status": "completed"
    },
    "tags": []
   },
   "outputs": [
    {
     "data": {
      "text/html": [
       "<div>\n",
       "<style scoped>\n",
       "    .dataframe tbody tr th:only-of-type {\n",
       "        vertical-align: middle;\n",
       "    }\n",
       "\n",
       "    .dataframe tbody tr th {\n",
       "        vertical-align: top;\n",
       "    }\n",
       "\n",
       "    .dataframe thead th {\n",
       "        text-align: right;\n",
       "    }\n",
       "</style>\n",
       "<table border=\"1\" class=\"dataframe\">\n",
       "  <thead>\n",
       "    <tr style=\"text-align: right;\">\n",
       "      <th></th>\n",
       "      <th>id</th>\n",
       "      <th>text</th>\n",
       "      <th>target</th>\n",
       "      <th>keyword_disaster_ratio</th>\n",
       "      <th>keyword_disaster_ratio_count</th>\n",
       "    </tr>\n",
       "  </thead>\n",
       "  <tbody>\n",
       "    <tr>\n",
       "      <th>5976</th>\n",
       "      <td>8533</td>\n",
       "      <td>@blanksocietyx @emmerdale IM SCREAMING HES MY ...</td>\n",
       "      <td>0</td>\n",
       "      <td>0.0</td>\n",
       "      <td>30.0</td>\n",
       "    </tr>\n",
       "    <tr>\n",
       "      <th>122</th>\n",
       "      <td>175</td>\n",
       "      <td>That moment when you get on a scary roller coa...</td>\n",
       "      <td>0</td>\n",
       "      <td>0.0</td>\n",
       "      <td>29.0</td>\n",
       "    </tr>\n",
       "    <tr>\n",
       "      <th>5953</th>\n",
       "      <td>8504</td>\n",
       "      <td>@camilacabello97 NOW IM INTERNALLY SCREAMING</td>\n",
       "      <td>0</td>\n",
       "      <td>0.0</td>\n",
       "      <td>30.0</td>\n",
       "    </tr>\n",
       "    <tr>\n",
       "      <th>5421</th>\n",
       "      <td>7737</td>\n",
       "      <td>When he lets you drive his truck and you start...</td>\n",
       "      <td>0</td>\n",
       "      <td>0.0</td>\n",
       "      <td>25.0</td>\n",
       "    </tr>\n",
       "    <tr>\n",
       "      <th>5423</th>\n",
       "      <td>7739</td>\n",
       "      <td>People are finally panicking about cable TV ht...</td>\n",
       "      <td>0</td>\n",
       "      <td>0.0</td>\n",
       "      <td>25.0</td>\n",
       "    </tr>\n",
       "    <tr>\n",
       "      <th>...</th>\n",
       "      <td>...</td>\n",
       "      <td>...</td>\n",
       "      <td>...</td>\n",
       "      <td>...</td>\n",
       "      <td>...</td>\n",
       "    </tr>\n",
       "    <tr>\n",
       "      <th>2167</th>\n",
       "      <td>3108</td>\n",
       "      <td>Confirmed the debris from MH370 ??</td>\n",
       "      <td>1</td>\n",
       "      <td>1.0</td>\n",
       "      <td>28.0</td>\n",
       "    </tr>\n",
       "    <tr>\n",
       "      <th>7508</th>\n",
       "      <td>10739</td>\n",
       "      <td>MH370 victim's family furious the media was to...</td>\n",
       "      <td>1</td>\n",
       "      <td>1.0</td>\n",
       "      <td>35.0</td>\n",
       "    </tr>\n",
       "    <tr>\n",
       "      <th>7530</th>\n",
       "      <td>10768</td>\n",
       "      <td>Wreckage is MH370: Najib\\nhttp://t.co/iidKC0jS...</td>\n",
       "      <td>1</td>\n",
       "      <td>1.0</td>\n",
       "      <td>35.0</td>\n",
       "    </tr>\n",
       "    <tr>\n",
       "      <th>2192</th>\n",
       "      <td>3140</td>\n",
       "      <td>Debris confirmed from MH370; relatives hope fo...</td>\n",
       "      <td>1</td>\n",
       "      <td>1.0</td>\n",
       "      <td>28.0</td>\n",
       "    </tr>\n",
       "    <tr>\n",
       "      <th>2194</th>\n",
       "      <td>3142</td>\n",
       "      <td>Malaysia confirms Reunion Island debris is fro...</td>\n",
       "      <td>1</td>\n",
       "      <td>1.0</td>\n",
       "      <td>28.0</td>\n",
       "    </tr>\n",
       "  </tbody>\n",
       "</table>\n",
       "<p>6090 rows × 5 columns</p>\n",
       "</div>"
      ],
      "text/plain": [
       "         id                                               text  target  \\\n",
       "5976   8533  @blanksocietyx @emmerdale IM SCREAMING HES MY ...       0   \n",
       "122     175  That moment when you get on a scary roller coa...       0   \n",
       "5953   8504       @camilacabello97 NOW IM INTERNALLY SCREAMING       0   \n",
       "5421   7737  When he lets you drive his truck and you start...       0   \n",
       "5423   7739  People are finally panicking about cable TV ht...       0   \n",
       "...     ...                                                ...     ...   \n",
       "2167   3108                 Confirmed the debris from MH370 ??       1   \n",
       "7508  10739  MH370 victim's family furious the media was to...       1   \n",
       "7530  10768  Wreckage is MH370: Najib\\nhttp://t.co/iidKC0jS...       1   \n",
       "2192   3140  Debris confirmed from MH370; relatives hope fo...       1   \n",
       "2194   3142  Malaysia confirms Reunion Island debris is fro...       1   \n",
       "\n",
       "      keyword_disaster_ratio  keyword_disaster_ratio_count  \n",
       "5976                     0.0                          30.0  \n",
       "122                      0.0                          29.0  \n",
       "5953                     0.0                          30.0  \n",
       "5421                     0.0                          25.0  \n",
       "5423                     0.0                          25.0  \n",
       "...                      ...                           ...  \n",
       "2167                     1.0                          28.0  \n",
       "7508                     1.0                          35.0  \n",
       "7530                     1.0                          35.0  \n",
       "2192                     1.0                          28.0  \n",
       "2194                     1.0                          28.0  \n",
       "\n",
       "[6090 rows x 5 columns]"
      ]
     },
     "execution_count": 10,
     "metadata": {},
     "output_type": "execute_result"
    }
   ],
   "source": [
    "train_df"
   ]
  },
  {
   "cell_type": "markdown",
   "id": "453c2a76",
   "metadata": {
    "papermill": {
     "duration": 0.013665,
     "end_time": "2022-09-29T21:03:26.740546",
     "exception": false,
     "start_time": "2022-09-29T21:03:26.726881",
     "status": "completed"
    },
    "tags": []
   },
   "source": [
    "# BERT Text Classification\n",
    "## Dataset Class with text preprocessing"
   ]
  },
  {
   "cell_type": "code",
   "execution_count": 11,
   "id": "a5be9730",
   "metadata": {
    "execution": {
     "iopub.execute_input": "2022-09-29T21:03:26.770024Z",
     "iopub.status.busy": "2022-09-29T21:03:26.769476Z",
     "iopub.status.idle": "2022-09-29T21:03:26.785610Z",
     "shell.execute_reply": "2022-09-29T21:03:26.784793Z"
    },
    "papermill": {
     "duration": 0.033124,
     "end_time": "2022-09-29T21:03:26.787491",
     "exception": false,
     "start_time": "2022-09-29T21:03:26.754367",
     "status": "completed"
    },
    "tags": []
   },
   "outputs": [],
   "source": [
    "class TweetDataset(Dataset):\n",
    "    def __init__(self, dataframe, tokenizer):\n",
    "        texts = dataframe.text.values.tolist()\n",
    "\n",
    "        texts = [self._preprocess(text) for text in texts]\n",
    "\n",
    "        self._print_random_samples(texts)\n",
    "\n",
    "        self.texts = [tokenizer(text, padding='max_length',\n",
    "                                max_length=150,\n",
    "                                truncation=True,\n",
    "                                return_tensors=\"pt\")\n",
    "                      for text in texts]\n",
    "\n",
    "        if 'target' in dataframe:\n",
    "            classes = dataframe.target.values.tolist()\n",
    "            self.labels = classes\n",
    "\n",
    "    def _print_random_samples(self, texts):\n",
    "        np.random.seed(42)\n",
    "        random_entries = np.random.randint(0, len(texts), 5)\n",
    "\n",
    "        for i in random_entries:\n",
    "            print(f\"Entry {i}: {texts[i]}\")\n",
    "\n",
    "        print()\n",
    "\n",
    "    def _preprocess(self, text):\n",
    "        text = self._remove_amp(text)\n",
    "        text = self._remove_links(text)\n",
    "        text = self._remove_hashes(text)\n",
    "        text = self._remove_retweets(text)\n",
    "        text = self._remove_mentions(text)\n",
    "        text = self._remove_multiple_spaces(text)\n",
    "\n",
    "        #text = self._lowercase(text)\n",
    "        text = self._remove_punctuation(text)\n",
    "        #text = self._remove_numbers(text)\n",
    "\n",
    "        text_tokens = self._tokenize(text)\n",
    "        text_tokens = self._stopword_filtering(text_tokens)\n",
    "        #text_tokens = self._stemming(text_tokens)\n",
    "        text = self._stitch_text_tokens_together(text_tokens)\n",
    "\n",
    "        return text.strip()\n",
    "\n",
    "\n",
    "    def _remove_amp(self, text):\n",
    "        return text.replace(\"&amp;\", \" \")\n",
    "\n",
    "    def _remove_mentions(self, text):\n",
    "        return re.sub(r'(@.*?)[\\s]', ' ', text)\n",
    "    \n",
    "    def _remove_multiple_spaces(self, text):\n",
    "        return re.sub(r'\\s+', ' ', text)\n",
    "\n",
    "    def _remove_retweets(self, text):\n",
    "        return re.sub(r'^RT[\\s]+', ' ', text)\n",
    "\n",
    "    def _remove_links(self, text):\n",
    "        return re.sub(r'https?:\\/\\/[^\\s\\n\\r]+', ' ', text)\n",
    "\n",
    "    def _remove_hashes(self, text):\n",
    "        return re.sub(r'#', ' ', text)\n",
    "\n",
    "    def _stitch_text_tokens_together(self, text_tokens):\n",
    "        return \" \".join(text_tokens)\n",
    "\n",
    "    def _tokenize(self, text):\n",
    "        return nltk.word_tokenize(text, language=\"english\")\n",
    "\n",
    "    def _stopword_filtering(self, text_tokens):\n",
    "        stop_words = nltk.corpus.stopwords.words('english')\n",
    "\n",
    "        return [token for token in text_tokens if token not in stop_words]\n",
    "\n",
    "    def _stemming(self, text_tokens):\n",
    "        porter = nltk.stem.porter.PorterStemmer()\n",
    "        return [porter.stem(token) for token in text_tokens]\n",
    "\n",
    "    def _remove_numbers(self, text):\n",
    "        return re.sub(r'\\d+', ' ', text)\n",
    "\n",
    "    def _lowercase(self, text):\n",
    "        return text.lower()\n",
    "\n",
    "    def _remove_punctuation(self, text):\n",
    "        return ''.join(character for character in text if character not in string.punctuation)\n",
    "\n",
    "    def __len__(self):\n",
    "        return len(self.texts)\n",
    "\n",
    "    def __getitem__(self, idx):\n",
    "        text = self.texts[idx]\n",
    "\n",
    "        label = -1\n",
    "        if hasattr(self, 'labels'):\n",
    "            label = self.labels[idx]\n",
    "\n",
    "        return text, label\n"
   ]
  },
  {
   "cell_type": "markdown",
   "id": "4088ebef",
   "metadata": {
    "papermill": {
     "duration": 0.013895,
     "end_time": "2022-09-29T21:03:26.815063",
     "exception": false,
     "start_time": "2022-09-29T21:03:26.801168",
     "status": "completed"
    },
    "tags": []
   },
   "source": [
    "## Classifier incorporating BERT"
   ]
  },
  {
   "cell_type": "code",
   "execution_count": 12,
   "id": "f12abc4b",
   "metadata": {
    "execution": {
     "iopub.execute_input": "2022-09-29T21:03:26.861851Z",
     "iopub.status.busy": "2022-09-29T21:03:26.861470Z",
     "iopub.status.idle": "2022-09-29T21:03:26.875750Z",
     "shell.execute_reply": "2022-09-29T21:03:26.874660Z"
    },
    "papermill": {
     "duration": 0.047784,
     "end_time": "2022-09-29T21:03:26.880732",
     "exception": false,
     "start_time": "2022-09-29T21:03:26.832948",
     "status": "completed"
    },
    "tags": []
   },
   "outputs": [],
   "source": [
    "class TweetClassifier(nn.Module):\n",
    "    def __init__(self, base_model):\n",
    "        super().__init__()\n",
    "\n",
    "        self.bert = base_model\n",
    "        self.fc1 = nn.Linear(768, 32)\n",
    "        self.fc2 = nn.Linear(32, 1)\n",
    "\n",
    "        self.relu = nn.ReLU()\n",
    "        self.sigmoid = nn.Sigmoid()\n",
    "        \n",
    "    def forward(self, input_ids, attention_mask):\n",
    "        bert_out = self.bert(input_ids=input_ids,\n",
    "                                     attention_mask=attention_mask)[0][:, 0]\n",
    "        x = self.fc1(bert_out)\n",
    "        x = self.relu(x)\n",
    "        \n",
    "        x = self.fc2(x)\n",
    "        x = self.sigmoid(x)\n",
    "\n",
    "        return x"
   ]
  },
  {
   "cell_type": "markdown",
   "id": "9e8036e9",
   "metadata": {
    "papermill": {
     "duration": 0.034118,
     "end_time": "2022-09-29T21:03:26.944337",
     "exception": false,
     "start_time": "2022-09-29T21:03:26.910219",
     "status": "completed"
    },
    "tags": []
   },
   "source": [
    "## Train & Validation loop"
   ]
  },
  {
   "cell_type": "code",
   "execution_count": 13,
   "id": "5a9be32f",
   "metadata": {
    "collapsed": false,
    "execution": {
     "iopub.execute_input": "2022-09-29T21:03:26.993250Z",
     "iopub.status.busy": "2022-09-29T21:03:26.992818Z",
     "iopub.status.idle": "2022-09-29T21:03:27.011445Z",
     "shell.execute_reply": "2022-09-29T21:03:27.010327Z"
    },
    "jupyter": {
     "outputs_hidden": false
    },
    "papermill": {
     "duration": 0.043172,
     "end_time": "2022-09-29T21:03:27.013490",
     "exception": false,
     "start_time": "2022-09-29T21:03:26.970318",
     "status": "completed"
    },
    "tags": []
   },
   "outputs": [],
   "source": [
    "def train(model, train_dataloader, val_dataloader, learning_rate, epochs):\n",
    "    best_val_loss = 99999999999999\n",
    "    early_stopping_threshold_count = 0\n",
    "    \n",
    "    \n",
    "    use_cuda = torch.cuda.is_available()\n",
    "    device = torch.device(\"cuda\" if use_cuda else \"cpu\")\n",
    "\n",
    "    criterion = nn.BCELoss()\n",
    "    optimizer = Adam(model.parameters(), lr=learning_rate)\n",
    "\n",
    "    model = model.to(device)\n",
    "    criterion = criterion.to(device)\n",
    "\n",
    "    for epoch in range(epochs):\n",
    "        total_acc_train = 0\n",
    "        total_loss_train = 0\n",
    "        \n",
    "        model.train()\n",
    "        \n",
    "        for train_input, train_label in tqdm(train_dataloader):\n",
    "            attention_mask = train_input['attention_mask'].to(device)\n",
    "            input_ids = train_input['input_ids'].squeeze(1).to(device)\n",
    "\n",
    "            train_label = train_label.to(device)\n",
    "\n",
    "            output = model(input_ids, attention_mask)\n",
    "\n",
    "            loss = criterion(output, train_label.float().unsqueeze(1))\n",
    "\n",
    "            total_loss_train += loss.item()\n",
    "\n",
    "            acc = ((output >= 0.5).int() == train_label.unsqueeze(1)).sum().item()\n",
    "            total_acc_train += acc\n",
    "\n",
    "            loss.backward()\n",
    "            optimizer.step()\n",
    "            optimizer.zero_grad()\n",
    "\n",
    "        with torch.no_grad():\n",
    "            total_acc_val = 0\n",
    "            total_loss_val = 0\n",
    "            \n",
    "            model.eval()\n",
    "            \n",
    "            for val_input, val_label in tqdm(val_dataloader):\n",
    "                attention_mask = val_input['attention_mask'].to(device)\n",
    "                input_ids = val_input['input_ids'].squeeze(1).to(device)\n",
    "\n",
    "                val_label = val_label.to(device)\n",
    "\n",
    "                output = model(input_ids, attention_mask)\n",
    "\n",
    "                loss = criterion(output, val_label.float().unsqueeze(1))\n",
    "\n",
    "                total_loss_val += loss.item()\n",
    "\n",
    "                acc = ((output >= 0.5).int() == val_label.unsqueeze(1)).sum().item()\n",
    "                total_acc_val += acc\n",
    "            \n",
    "            print(f'Epochs: {epoch + 1} '\n",
    "                  f'| Train Loss: {total_loss_train / len(train_dataloader): .3f} '\n",
    "                  f'| Train Accuracy: {total_acc_train / (len(train_dataloader.dataset)): .3f} '\n",
    "                  f'| Val Loss: {total_loss_val / len(val_dataloader): .3f} '\n",
    "                  f'| Val Accuracy: {total_acc_val / len(val_dataloader.dataset): .3f}')\n",
    "            \n",
    "            if best_val_loss > total_loss_val:\n",
    "                best_val_loss = total_loss_val\n",
    "                torch.save(model, f\"best_model.pt\")\n",
    "                print(\"Saved model\")\n",
    "                early_stopping_threshold_count = 0\n",
    "            else:\n",
    "                early_stopping_threshold_count += 1\n",
    "                \n",
    "            if early_stopping_threshold_count >= 1:\n",
    "                print(\"Early stopping\")\n",
    "                break"
   ]
  },
  {
   "cell_type": "code",
   "execution_count": 14,
   "id": "8166cc0d",
   "metadata": {
    "collapsed": false,
    "execution": {
     "iopub.execute_input": "2022-09-29T21:03:27.058911Z",
     "iopub.status.busy": "2022-09-29T21:03:27.058470Z",
     "iopub.status.idle": "2022-09-29T21:03:51.835860Z",
     "shell.execute_reply": "2022-09-29T21:03:51.834886Z"
    },
    "jupyter": {
     "outputs_hidden": false
    },
    "papermill": {
     "duration": 24.802426,
     "end_time": "2022-09-29T21:03:51.838369",
     "exception": false,
     "start_time": "2022-09-29T21:03:27.035943",
     "status": "completed"
    },
    "tags": []
   },
   "outputs": [
    {
     "data": {
      "application/vnd.jupyter.widget-view+json": {
       "model_id": "45d6b9a88c754a1f8fe8bd89af371d9f",
       "version_major": 2,
       "version_minor": 0
      },
      "text/plain": [
       "Downloading:   0%|          | 0.00/481 [00:00<?, ?B/s]"
      ]
     },
     "metadata": {},
     "output_type": "display_data"
    },
    {
     "data": {
      "application/vnd.jupyter.widget-view+json": {
       "model_id": "e8b7fd8a9e0e4cdca57162746ed71239",
       "version_major": 2,
       "version_minor": 0
      },
      "text/plain": [
       "Downloading:   0%|          | 0.00/878k [00:00<?, ?B/s]"
      ]
     },
     "metadata": {},
     "output_type": "display_data"
    },
    {
     "data": {
      "application/vnd.jupyter.widget-view+json": {
       "model_id": "5c58f2c92e4f4b4abc359edadb4383da",
       "version_major": 2,
       "version_minor": 0
      },
      "text/plain": [
       "Downloading:   0%|          | 0.00/446k [00:00<?, ?B/s]"
      ]
     },
     "metadata": {},
     "output_type": "display_data"
    },
    {
     "data": {
      "application/vnd.jupyter.widget-view+json": {
       "model_id": "f0f76ceaca054b008bd8810c014c62ec",
       "version_major": 2,
       "version_minor": 0
      },
      "text/plain": [
       "Downloading:   0%|          | 0.00/1.29M [00:00<?, ?B/s]"
      ]
     },
     "metadata": {},
     "output_type": "display_data"
    },
    {
     "data": {
      "application/vnd.jupyter.widget-view+json": {
       "model_id": "7e16ca4b5857442f895195c2d24e3c45",
       "version_major": 2,
       "version_minor": 0
      },
      "text/plain": [
       "Downloading:   0%|          | 0.00/478M [00:00<?, ?B/s]"
      ]
     },
     "metadata": {},
     "output_type": "display_data"
    },
    {
     "name": "stderr",
     "output_type": "stream",
     "text": [
      "Some weights of the model checkpoint at roberta-base were not used when initializing RobertaModel: ['lm_head.dense.bias', 'lm_head.layer_norm.bias', 'lm_head.layer_norm.weight', 'lm_head.dense.weight', 'lm_head.decoder.weight', 'lm_head.bias']\n",
      "- This IS expected if you are initializing RobertaModel from the checkpoint of a model trained on another task or with another architecture (e.g. initializing a BertForSequenceClassification model from a BertForPreTraining model).\n",
      "- This IS NOT expected if you are initializing RobertaModel from the checkpoint of a model that you expect to be exactly identical (initializing a BertForSequenceClassification model from a BertForSequenceClassification model).\n"
     ]
    },
    {
     "name": "stdout",
     "output_type": "stream",
     "text": [
      "Entry 860: I presume timeline inundated soggy bottom lashings moist tweets D\n",
      "Entry 5390: Heat wave ending Watching big area rain thoughwill impact part area Details NOW NBC10 5pm\n",
      "Entry 5226: Watch This Airport Get Swallowed Up By A Sandstorm In Under A Minute\n",
      "Entry 5191: USFS acronym United States Fire Service\n",
      "Entry 3772: Three beached whales rescued Kerry\n",
      "\n",
      "Entry 1126: They didnt succeed two times either Bomb didnt detonate Shots missed\n",
      "Entry 1459: Nobody remembers came second Charles Schulz\n",
      "Entry 860: Near sand half sunk shattered visage lies\n",
      "Entry 1294: understanding umntu wakho If trust partner OK u know wont fear anything\n",
      "Entry 1130: My back sunburned\n",
      "\n"
     ]
    }
   ],
   "source": [
    "reset_random_state()\n",
    "\n",
    "BERT_MODEL = \"roberta-base\"\n",
    "tokenizer = AutoTokenizer.from_pretrained(BERT_MODEL)\n",
    "base_model = AutoModel.from_pretrained(BERT_MODEL)\n",
    "\n",
    "train_dataloader = DataLoader(TweetDataset(train_df, tokenizer), batch_size=8, shuffle=True, num_workers=0)\n",
    "val_dataloader = DataLoader(TweetDataset(val_df, tokenizer), batch_size=8, num_workers=0)\n",
    "\n",
    "model = TweetClassifier(base_model)"
   ]
  },
  {
   "cell_type": "code",
   "execution_count": 15,
   "id": "cd3bab1a",
   "metadata": {
    "execution": {
     "iopub.execute_input": "2022-09-29T21:03:51.870063Z",
     "iopub.status.busy": "2022-09-29T21:03:51.869760Z",
     "iopub.status.idle": "2022-09-29T21:09:46.407627Z",
     "shell.execute_reply": "2022-09-29T21:09:46.406657Z"
    },
    "papermill": {
     "duration": 354.55602,
     "end_time": "2022-09-29T21:09:46.409825",
     "exception": false,
     "start_time": "2022-09-29T21:03:51.853805",
     "status": "completed"
    },
    "tags": []
   },
   "outputs": [
    {
     "name": "stderr",
     "output_type": "stream",
     "text": [
      "100%|██████████| 762/762 [01:49<00:00,  6.99it/s]\n",
      "100%|██████████| 191/191 [00:07<00:00, 24.21it/s]\n"
     ]
    },
    {
     "name": "stdout",
     "output_type": "stream",
     "text": [
      "Epochs: 1 | Train Loss:  0.471 | Train Accuracy:  0.786 | Val Loss:  0.427 | Val Accuracy:  0.818\n",
      "Saved model\n"
     ]
    },
    {
     "name": "stderr",
     "output_type": "stream",
     "text": [
      "100%|██████████| 762/762 [01:48<00:00,  7.04it/s]\n",
      "100%|██████████| 191/191 [00:07<00:00, 24.29it/s]\n"
     ]
    },
    {
     "name": "stdout",
     "output_type": "stream",
     "text": [
      "Epochs: 2 | Train Loss:  0.372 | Train Accuracy:  0.844 | Val Loss:  0.378 | Val Accuracy:  0.842\n",
      "Saved model\n"
     ]
    },
    {
     "name": "stderr",
     "output_type": "stream",
     "text": [
      "100%|██████████| 762/762 [01:48<00:00,  7.05it/s]\n",
      "100%|██████████| 191/191 [00:07<00:00, 24.26it/s]"
     ]
    },
    {
     "name": "stdout",
     "output_type": "stream",
     "text": [
      "Epochs: 3 | Train Loss:  0.311 | Train Accuracy:  0.875 | Val Loss:  0.405 | Val Accuracy:  0.847\n",
      "Early stopping\n"
     ]
    },
    {
     "name": "stderr",
     "output_type": "stream",
     "text": [
      "\n"
     ]
    }
   ],
   "source": [
    "reset_random_state()\n",
    "\n",
    "learning_rate = 1e-5\n",
    "epochs = 5\n",
    "train(model, train_dataloader, val_dataloader, learning_rate, epochs)"
   ]
  },
  {
   "cell_type": "markdown",
   "id": "f827bc07",
   "metadata": {
    "papermill": {
     "duration": 0.137063,
     "end_time": "2022-09-29T21:09:46.685168",
     "exception": false,
     "start_time": "2022-09-29T21:09:46.548105",
     "status": "completed"
    },
    "tags": []
   },
   "source": [
    "# Get Text predictions"
   ]
  },
  {
   "cell_type": "code",
   "execution_count": 16,
   "id": "b6bf87c5",
   "metadata": {
    "execution": {
     "iopub.execute_input": "2022-09-29T21:09:47.025196Z",
     "iopub.status.busy": "2022-09-29T21:09:47.024834Z",
     "iopub.status.idle": "2022-09-29T21:09:47.032538Z",
     "shell.execute_reply": "2022-09-29T21:09:47.031577Z"
    },
    "papermill": {
     "duration": 0.146712,
     "end_time": "2022-09-29T21:09:47.034525",
     "exception": false,
     "start_time": "2022-09-29T21:09:46.887813",
     "status": "completed"
    },
    "tags": []
   },
   "outputs": [],
   "source": [
    "def get_text_predictions(model, loader):\n",
    "\n",
    "    use_cuda = torch.cuda.is_available()\n",
    "    device = torch.device(\"cuda\" if use_cuda else \"cpu\")\n",
    "\n",
    "    model = model.to(device)\n",
    "    \n",
    "    \n",
    "    results_predictions = []\n",
    "    results_probs = []\n",
    "    with torch.no_grad():\n",
    "        model.eval()\n",
    "        for data_input, _ in tqdm(loader):\n",
    "            attention_mask = data_input['attention_mask'].to(device)\n",
    "            input_ids = data_input['input_ids'].squeeze(1).to(device)\n",
    "\n",
    "\n",
    "            output = model(input_ids, attention_mask)\n",
    "            results_probs.append(output)\n",
    "            \n",
    "            output = (output > 0.5).int()\n",
    "            results_predictions.append(output)\n",
    "    \n",
    "    return torch.cat(results_predictions).cpu().detach().numpy(), torch.cat(results_probs).cpu().detach().numpy()"
   ]
  },
  {
   "cell_type": "code",
   "execution_count": 17,
   "id": "b4308607",
   "metadata": {
    "execution": {
     "iopub.execute_input": "2022-09-29T21:09:47.310733Z",
     "iopub.status.busy": "2022-09-29T21:09:47.309978Z",
     "iopub.status.idle": "2022-09-29T21:09:47.682247Z",
     "shell.execute_reply": "2022-09-29T21:09:47.681317Z"
    },
    "papermill": {
     "duration": 0.514257,
     "end_time": "2022-09-29T21:09:47.684720",
     "exception": false,
     "start_time": "2022-09-29T21:09:47.170463",
     "status": "completed"
    },
    "tags": []
   },
   "outputs": [],
   "source": [
    "model = torch.load(\"best_model.pt\")"
   ]
  },
  {
   "cell_type": "code",
   "execution_count": 18,
   "id": "90e94cf8",
   "metadata": {
    "execution": {
     "iopub.execute_input": "2022-09-29T21:09:47.959844Z",
     "iopub.status.busy": "2022-09-29T21:09:47.959493Z",
     "iopub.status.idle": "2022-09-29T21:09:53.547548Z",
     "shell.execute_reply": "2022-09-29T21:09:53.546562Z"
    },
    "papermill": {
     "duration": 5.727545,
     "end_time": "2022-09-29T21:09:53.549891",
     "exception": false,
     "start_time": "2022-09-29T21:09:47.822346",
     "status": "completed"
    },
    "tags": []
   },
   "outputs": [
    {
     "name": "stdout",
     "output_type": "stream",
     "text": [
      "Entry 860: I presume timeline inundated soggy bottom lashings moist tweets D\n",
      "Entry 5390: Heat wave ending Watching big area rain thoughwill impact part area Details NOW NBC10 5pm\n",
      "Entry 5226: Watch This Airport Get Swallowed Up By A Sandstorm In Under A Minute\n",
      "Entry 5191: USFS acronym United States Fire Service\n",
      "Entry 3772: Three beached whales rescued Kerry\n",
      "\n",
      "Entry 1126: They didnt succeed two times either Bomb didnt detonate Shots missed\n",
      "Entry 1459: Nobody remembers came second Charles Schulz\n",
      "Entry 860: Near sand half sunk shattered visage lies\n",
      "Entry 1294: understanding umntu wakho If trust partner OK u know wont fear anything\n",
      "Entry 1130: My back sunburned\n",
      "\n",
      "Entry 3174: Rocky Fire cali SCFD wildfire LakeCounty\n",
      "Entry 860: First time everything Coney Island Cyclone\n",
      "Entry 1294: If told drowning I would lend hand\n",
      "Entry 1130: HitchBot travels Europe greeted open arms Gets destroyed two weeks america Theres lesson learned\n",
      "Entry 1095: Free Kindle Book Aug 37 Thriller Desolation Run\n",
      "\n"
     ]
    }
   ],
   "source": [
    "train_dataloader = DataLoader(TweetDataset(train_df, tokenizer), batch_size=8, shuffle=False, num_workers=0)\n",
    "val_dataloader = DataLoader(TweetDataset(val_df, tokenizer), batch_size=8, shuffle=False, num_workers=0)\n",
    "test_dataloader = DataLoader(TweetDataset(test_df, tokenizer), batch_size=8, shuffle=False, num_workers=0)"
   ]
  },
  {
   "cell_type": "code",
   "execution_count": 19,
   "id": "de877670",
   "metadata": {
    "execution": {
     "iopub.execute_input": "2022-09-29T21:09:53.839032Z",
     "iopub.status.busy": "2022-09-29T21:09:53.838683Z",
     "iopub.status.idle": "2022-09-29T21:10:48.956499Z",
     "shell.execute_reply": "2022-09-29T21:10:48.954822Z"
    },
    "papermill": {
     "duration": 55.267776,
     "end_time": "2022-09-29T21:10:48.958578",
     "exception": false,
     "start_time": "2022-09-29T21:09:53.690802",
     "status": "completed"
    },
    "tags": []
   },
   "outputs": [
    {
     "name": "stderr",
     "output_type": "stream",
     "text": [
      "100%|██████████| 762/762 [00:30<00:00, 24.74it/s]\n",
      "100%|██████████| 191/191 [00:07<00:00, 24.83it/s]\n",
      "100%|██████████| 408/408 [00:16<00:00, 24.65it/s]\n"
     ]
    }
   ],
   "source": [
    "train_df[\"text_prediction_probs\"] = get_text_predictions(model, train_dataloader)[1]\n",
    "val_df[\"text_prediction_probs\"] = get_text_predictions(model, val_dataloader)[1]\n",
    "test_df[\"text_prediction_probs\"] = get_text_predictions(model, test_dataloader)[1]"
   ]
  },
  {
   "cell_type": "markdown",
   "id": "92dbbd0d",
   "metadata": {
    "papermill": {
     "duration": 0.156941,
     "end_time": "2022-09-29T21:10:49.277112",
     "exception": false,
     "start_time": "2022-09-29T21:10:49.120171",
     "status": "completed"
    },
    "tags": []
   },
   "source": [
    "# Overall classification"
   ]
  },
  {
   "cell_type": "code",
   "execution_count": 20,
   "id": "34fae210",
   "metadata": {
    "execution": {
     "iopub.execute_input": "2022-09-29T21:10:49.638692Z",
     "iopub.status.busy": "2022-09-29T21:10:49.638338Z",
     "iopub.status.idle": "2022-09-29T21:10:49.647545Z",
     "shell.execute_reply": "2022-09-29T21:10:49.646637Z"
    },
    "papermill": {
     "duration": 0.212841,
     "end_time": "2022-09-29T21:10:49.649460",
     "exception": false,
     "start_time": "2022-09-29T21:10:49.436619",
     "status": "completed"
    },
    "tags": []
   },
   "outputs": [],
   "source": [
    "train_x = train_df[[\"text_prediction_probs\",\"keyword_disaster_ratio\", \"keyword_disaster_ratio_count\"]]\n",
    "train_y = train_df[\"target\"]\n",
    "\n",
    "val_x = val_df[[\"text_prediction_probs\",\"keyword_disaster_ratio\", \"keyword_disaster_ratio_count\"]]\n",
    "val_y = val_df[\"target\"]\n",
    "\n",
    "test_x = test_df[[\"text_prediction_probs\",\"keyword_disaster_ratio\", \"keyword_disaster_ratio_count\"]]"
   ]
  },
  {
   "cell_type": "code",
   "execution_count": 21,
   "id": "334367b5",
   "metadata": {
    "execution": {
     "iopub.execute_input": "2022-09-29T21:10:49.966416Z",
     "iopub.status.busy": "2022-09-29T21:10:49.966033Z",
     "iopub.status.idle": "2022-09-29T21:10:49.981689Z",
     "shell.execute_reply": "2022-09-29T21:10:49.980717Z"
    },
    "papermill": {
     "duration": 0.176664,
     "end_time": "2022-09-29T21:10:49.983692",
     "exception": false,
     "start_time": "2022-09-29T21:10:49.807028",
     "status": "completed"
    },
    "tags": []
   },
   "outputs": [
    {
     "data": {
      "text/plain": [
       "array([[-0.91475033, -1.55504252,  0.41451829],\n",
       "       [-0.82407809, -1.55504252,  0.18146655],\n",
       "       [-0.89975227, -1.55504252,  0.41451829],\n",
       "       ...,\n",
       "       [ 1.47031718,  2.05678393,  1.57977695],\n",
       "       [ 1.46858329,  2.05678393, -0.05158518],\n",
       "       [ 1.46991964,  2.05678393, -0.05158518]])"
      ]
     },
     "execution_count": 21,
     "metadata": {},
     "output_type": "execute_result"
    }
   ],
   "source": [
    "scaler = StandardScaler()\n",
    "scaler = scaler.fit(train_x, train_y)\n",
    "\n",
    "train_x = scaler.transform(train_x)\n",
    "val_x = scaler.transform(val_x)\n",
    "test_x = scaler.transform(test_x)\n",
    "\n",
    "train_x"
   ]
  },
  {
   "cell_type": "code",
   "execution_count": 22,
   "id": "5d727972",
   "metadata": {
    "execution": {
     "iopub.execute_input": "2022-09-29T21:10:50.304247Z",
     "iopub.status.busy": "2022-09-29T21:10:50.303872Z",
     "iopub.status.idle": "2022-09-29T21:10:50.318569Z",
     "shell.execute_reply": "2022-09-29T21:10:50.317739Z"
    },
    "papermill": {
     "duration": 0.17734,
     "end_time": "2022-09-29T21:10:50.320564",
     "exception": false,
     "start_time": "2022-09-29T21:10:50.143224",
     "status": "completed"
    },
    "tags": []
   },
   "outputs": [],
   "source": [
    "def evaluate_svc(params):\n",
    "    model = SVC(**params['params'], random_state=42).fit(params['data']['train_x'], params['data']['train_y'])\n",
    "    val_score = model.score(params['data']['val_x'], params['data']['val_y'])\n",
    "\n",
    "    return {'val_acc': val_score, 'clf': model }\n",
    "\n",
    "def evaluate_ada(params):\n",
    "    model = AdaBoostClassifier(**params['params'], random_state=42).fit(params['data']['train_x'], params['data']['train_y'])\n",
    "    val_score = model.score(params['data']['val_x'], params['data']['val_y'])\n",
    "\n",
    "    return {'val_acc': val_score, 'clf': model }\n",
    "\n",
    "def evaluate_rf(params):\n",
    "    model = RandomForestClassifier(**params['params'], random_state=42).fit(params['data']['train_x'], params['data']['train_y'])\n",
    "    val_score = model.score(params['data']['val_x'], params['data']['val_y'])\n",
    "\n",
    "    return {'val_acc': val_score, 'clf': model }\n",
    "\n",
    "def evaluate_knn(params):\n",
    "    model = KNeighborsClassifier(**params['params']).fit(params['data']['train_x'], params['data']['train_y'])\n",
    "    val_score = model.score(params['data']['val_x'], params['data']['val_y'])\n",
    "\n",
    "    return {'val_acc': val_score, 'clf': model }\n",
    "\n",
    "def evaluate_lr(params):\n",
    "    model = LogisticRegression(**params['params'], random_state=42).fit(params['data']['train_x'], params['data']['train_y'])\n",
    "    val_score = model.score(params['data']['val_x'], params['data']['val_y'])\n",
    "\n",
    "    return {'val_acc': val_score, 'clf': model }\n",
    "\n",
    "def evaluate_gbdt(params):\n",
    "    model = GradientBoostingClassifier(**params['params'], random_state=42).fit(params['data']['train_x'], params['data']['train_y'])\n",
    "    val_score = model.score(params['data']['val_x'], params['data']['val_y'])\n",
    "\n",
    "    return {'val_acc': val_score, 'clf': model }\n",
    "    \n",
    "\n",
    "def hyperparameter_grid_search(evaluation_func, param_grid_list, train_x, train_y, val_x, val_y):\n",
    "    param_grid = ParameterGrid(param_grid_list)\n",
    "\n",
    "    multiprocess_params = list(map(lambda p: {\n",
    "        'params': p,\n",
    "        'data': {\n",
    "            'train_x': train_x,\n",
    "            'train_y': train_y,\n",
    "            'val_x': val_x,\n",
    "            'val_y': val_y\n",
    "        }}, param_grid))\n",
    "    \n",
    "    \n",
    "    results = []\n",
    "    for params in tqdm(multiprocess_params):\n",
    "        results.append(evaluation_func(params))\n",
    "    \n",
    "    results.sort(key=lambda d: d['val_acc'], reverse=True)\n",
    "    \n",
    "    print(\"Best 3 classifiers: \")\n",
    "    for r in results[:3]:\n",
    "        print(f\"Acc: {r['val_acc']:.3f}, {r['clf']}\")\n",
    "\n",
    "    return results[0]"
   ]
  },
  {
   "cell_type": "code",
   "execution_count": 23,
   "id": "fb36d49c",
   "metadata": {
    "execution": {
     "iopub.execute_input": "2022-09-29T21:10:50.641201Z",
     "iopub.status.busy": "2022-09-29T21:10:50.640852Z",
     "iopub.status.idle": "2022-09-29T21:10:50.649447Z",
     "shell.execute_reply": "2022-09-29T21:10:50.648517Z"
    },
    "papermill": {
     "duration": 0.171124,
     "end_time": "2022-09-29T21:10:50.651532",
     "exception": false,
     "start_time": "2022-09-29T21:10:50.480408",
     "status": "completed"
    },
    "tags": []
   },
   "outputs": [
    {
     "data": {
      "text/plain": [
       "0.5738673670387393"
      ]
     },
     "execution_count": 23,
     "metadata": {},
     "output_type": "execute_result"
    }
   ],
   "source": [
    "dummy_clf = DummyClassifier(strategy=\"most_frequent\").fit(train_x, train_y)\n",
    "dummy_clf.score(val_x, val_y)"
   ]
  },
  {
   "cell_type": "markdown",
   "id": "c7efe568",
   "metadata": {
    "papermill": {
     "duration": 0.20211,
     "end_time": "2022-09-29T21:10:51.014569",
     "exception": false,
     "start_time": "2022-09-29T21:10:50.812459",
     "status": "completed"
    },
    "tags": []
   },
   "source": [
    "## GradientBoostingDecisionTree"
   ]
  },
  {
   "cell_type": "code",
   "execution_count": 24,
   "id": "a24e1da8",
   "metadata": {
    "execution": {
     "iopub.execute_input": "2022-09-29T21:10:51.333663Z",
     "iopub.status.busy": "2022-09-29T21:10:51.332720Z",
     "iopub.status.idle": "2022-09-29T21:11:57.484418Z",
     "shell.execute_reply": "2022-09-29T21:11:57.482545Z"
    },
    "papermill": {
     "duration": 66.315519,
     "end_time": "2022-09-29T21:11:57.488099",
     "exception": false,
     "start_time": "2022-09-29T21:10:51.172580",
     "status": "completed"
    },
    "tags": []
   },
   "outputs": [
    {
     "name": "stderr",
     "output_type": "stream",
     "text": [
      "100%|██████████| 960/960 [01:06<00:00, 14.52it/s]\n"
     ]
    },
    {
     "name": "stdout",
     "output_type": "stream",
     "text": [
      "Best 3 classifiers: \n",
      "Acc: 0.844, GradientBoostingClassifier(learning_rate=0.05, max_depth=4, n_estimators=5,\n",
      "                           random_state=42)\n",
      "Acc: 0.844, GradientBoostingClassifier(criterion='squared_error', learning_rate=0.05,\n",
      "                           max_depth=4, n_estimators=5, random_state=42)\n",
      "Acc: 0.843, GradientBoostingClassifier(learning_rate=0.01, max_depth=4, n_estimators=30,\n",
      "                           random_state=42)\n"
     ]
    }
   ],
   "source": [
    "best_gbdt = hyperparameter_grid_search(evaluate_gbdt, {\n",
    "    \"n_estimators\": [5, 10, 15,  30],\n",
    "    \"learning_rate\": np.arange(0.01, 0.25, 0.01),\n",
    "    \"criterion\": [\"friedman_mse\", \"squared_error\"],\n",
    "    \"max_depth\": [1,2,3,4,5]\n",
    "}, train_x, train_y, val_x, val_y)"
   ]
  },
  {
   "cell_type": "markdown",
   "id": "de47bddd",
   "metadata": {
    "papermill": {
     "duration": 0.17795,
     "end_time": "2022-09-29T21:11:57.847020",
     "exception": false,
     "start_time": "2022-09-29T21:11:57.669070",
     "status": "completed"
    },
    "tags": []
   },
   "source": [
    "## SVC"
   ]
  },
  {
   "cell_type": "code",
   "execution_count": 25,
   "id": "6ad66838",
   "metadata": {
    "execution": {
     "iopub.execute_input": "2022-09-29T21:11:58.249701Z",
     "iopub.status.busy": "2022-09-29T21:11:58.248684Z",
     "iopub.status.idle": "2022-09-29T21:12:46.033854Z",
     "shell.execute_reply": "2022-09-29T21:12:46.032911Z"
    },
    "papermill": {
     "duration": 48.010557,
     "end_time": "2022-09-29T21:12:46.036294",
     "exception": false,
     "start_time": "2022-09-29T21:11:58.025737",
     "status": "completed"
    },
    "tags": []
   },
   "outputs": [
    {
     "name": "stderr",
     "output_type": "stream",
     "text": [
      "100%|██████████| 91/91 [00:47<00:00,  1.90it/s]"
     ]
    },
    {
     "name": "stdout",
     "output_type": "stream",
     "text": [
      "Best 3 classifiers: \n",
      "Acc: 0.844, SVC(C=0.018999999999999993, random_state=42)\n",
      "Acc: 0.844, SVC(C=0.01999999999999999, random_state=42)\n",
      "Acc: 0.844, SVC(C=0.02099999999999999, random_state=42)\n"
     ]
    },
    {
     "name": "stderr",
     "output_type": "stream",
     "text": [
      "\n"
     ]
    }
   ],
   "source": [
    "best_svc = hyperparameter_grid_search(evaluate_svc, {\n",
    "    \"C\": np.arange(0.01, 0.1, 0.001),\n",
    "}, train_x, train_y, val_x, val_y)"
   ]
  },
  {
   "cell_type": "markdown",
   "id": "21df8641",
   "metadata": {
    "papermill": {
     "duration": 0.194294,
     "end_time": "2022-09-29T21:12:46.426920",
     "exception": false,
     "start_time": "2022-09-29T21:12:46.232626",
     "status": "completed"
    },
    "tags": []
   },
   "source": [
    "## AdaBoost"
   ]
  },
  {
   "cell_type": "code",
   "execution_count": 26,
   "id": "27a6c834",
   "metadata": {
    "execution": {
     "iopub.execute_input": "2022-09-29T21:12:46.813966Z",
     "iopub.status.busy": "2022-09-29T21:12:46.813277Z",
     "iopub.status.idle": "2022-09-29T21:12:53.106666Z",
     "shell.execute_reply": "2022-09-29T21:12:53.105682Z"
    },
    "papermill": {
     "duration": 6.49037,
     "end_time": "2022-09-29T21:12:53.108846",
     "exception": false,
     "start_time": "2022-09-29T21:12:46.618476",
     "status": "completed"
    },
    "tags": []
   },
   "outputs": [
    {
     "name": "stderr",
     "output_type": "stream",
     "text": [
      "100%|██████████| 96/96 [00:06<00:00, 15.29it/s]"
     ]
    },
    {
     "name": "stdout",
     "output_type": "stream",
     "text": [
      "Best 3 classifiers: \n",
      "Acc: 0.842, AdaBoostClassifier(learning_rate=0.11, n_estimators=10, random_state=42)\n",
      "Acc: 0.842, AdaBoostClassifier(learning_rate=0.13, n_estimators=5, random_state=42)\n",
      "Acc: 0.842, AdaBoostClassifier(learning_rate=0.14, n_estimators=10, random_state=42)\n"
     ]
    },
    {
     "name": "stderr",
     "output_type": "stream",
     "text": [
      "\n"
     ]
    }
   ],
   "source": [
    "best_ada = hyperparameter_grid_search(evaluate_ada, {\n",
    "    \"n_estimators\": [5, 10, 15,  30],\n",
    "    \"learning_rate\": np.arange(0.01, 0.25, 0.01)\n",
    "}, train_x, train_y, val_x, val_y)"
   ]
  },
  {
   "cell_type": "markdown",
   "id": "76ffbe07",
   "metadata": {
    "papermill": {
     "duration": 0.189277,
     "end_time": "2022-09-29T21:12:53.485760",
     "exception": false,
     "start_time": "2022-09-29T21:12:53.296483",
     "status": "completed"
    },
    "tags": []
   },
   "source": [
    "## Logistic Regression"
   ]
  },
  {
   "cell_type": "code",
   "execution_count": 27,
   "id": "fe562e2d",
   "metadata": {
    "execution": {
     "iopub.execute_input": "2022-09-29T21:12:53.925940Z",
     "iopub.status.busy": "2022-09-29T21:12:53.925570Z",
     "iopub.status.idle": "2022-09-29T21:12:55.042838Z",
     "shell.execute_reply": "2022-09-29T21:12:55.041856Z"
    },
    "papermill": {
     "duration": 1.367649,
     "end_time": "2022-09-29T21:12:55.045155",
     "exception": false,
     "start_time": "2022-09-29T21:12:53.677506",
     "status": "completed"
    },
    "tags": []
   },
   "outputs": [
    {
     "name": "stderr",
     "output_type": "stream",
     "text": [
      "100%|██████████| 198/198 [00:01<00:00, 179.00it/s]"
     ]
    },
    {
     "name": "stdout",
     "output_type": "stream",
     "text": [
      "Best 3 classifiers: \n",
      "Acc: 0.846, LogisticRegression(C=0.002, random_state=42, solver='liblinear')\n",
      "Acc: 0.846, LogisticRegression(C=0.003, random_state=42, solver='liblinear')\n",
      "Acc: 0.846, LogisticRegression(C=0.004, random_state=42, solver='liblinear')\n"
     ]
    },
    {
     "name": "stderr",
     "output_type": "stream",
     "text": [
      "\n"
     ]
    }
   ],
   "source": [
    "best_lr = hyperparameter_grid_search(evaluate_lr, {\n",
    "    \"penalty\": [\"l1\", \"l2\"],\n",
    "    \"solver\": [\"liblinear\"],\n",
    "    \"C\": np.arange(0.001, 0.1, 0.001)\n",
    "}, train_x, train_y, val_x, val_y)"
   ]
  },
  {
   "cell_type": "markdown",
   "id": "b9795e80",
   "metadata": {
    "papermill": {
     "duration": 0.188478,
     "end_time": "2022-09-29T21:12:55.424615",
     "exception": false,
     "start_time": "2022-09-29T21:12:55.236137",
     "status": "completed"
    },
    "tags": []
   },
   "source": [
    "## Random Forest"
   ]
  },
  {
   "cell_type": "code",
   "execution_count": 28,
   "id": "c3a17b75",
   "metadata": {
    "execution": {
     "iopub.execute_input": "2022-09-29T21:12:55.801172Z",
     "iopub.status.busy": "2022-09-29T21:12:55.800818Z",
     "iopub.status.idle": "2022-09-29T21:12:58.771706Z",
     "shell.execute_reply": "2022-09-29T21:12:58.770658Z"
    },
    "papermill": {
     "duration": 3.165056,
     "end_time": "2022-09-29T21:12:58.776092",
     "exception": false,
     "start_time": "2022-09-29T21:12:55.611036",
     "status": "completed"
    },
    "tags": []
   },
   "outputs": [
    {
     "name": "stderr",
     "output_type": "stream",
     "text": [
      "100%|██████████| 28/28 [00:02<00:00,  9.46it/s]"
     ]
    },
    {
     "name": "stdout",
     "output_type": "stream",
     "text": [
      "Best 3 classifiers: \n",
      "Acc: 0.848, RandomForestClassifier(max_depth=2, n_estimators=35, random_state=42)\n",
      "Acc: 0.846, RandomForestClassifier(max_depth=1, n_estimators=40, random_state=42)\n",
      "Acc: 0.846, RandomForestClassifier(max_depth=1, n_estimators=45, random_state=42)\n"
     ]
    },
    {
     "name": "stderr",
     "output_type": "stream",
     "text": [
      "\n"
     ]
    }
   ],
   "source": [
    "best_rf = hyperparameter_grid_search(evaluate_rf, {\n",
    "    \"n_estimators\": [10, 20, 30, 35, 40, 45, 50],\n",
    "    \"max_depth\": [None, 1, 2, 3],\n",
    "}, train_x, train_y, val_x, val_y)"
   ]
  },
  {
   "cell_type": "markdown",
   "id": "fdc9caa6",
   "metadata": {
    "papermill": {
     "duration": 0.294875,
     "end_time": "2022-09-29T21:12:59.401436",
     "exception": false,
     "start_time": "2022-09-29T21:12:59.106561",
     "status": "completed"
    },
    "tags": []
   },
   "source": [
    "## KNN"
   ]
  },
  {
   "cell_type": "code",
   "execution_count": 29,
   "id": "c8d072e0",
   "metadata": {
    "execution": {
     "iopub.execute_input": "2022-09-29T21:12:59.856916Z",
     "iopub.status.busy": "2022-09-29T21:12:59.856558Z",
     "iopub.status.idle": "2022-09-29T21:13:00.663984Z",
     "shell.execute_reply": "2022-09-29T21:13:00.662838Z"
    },
    "papermill": {
     "duration": 1.047984,
     "end_time": "2022-09-29T21:13:00.666658",
     "exception": false,
     "start_time": "2022-09-29T21:12:59.618674",
     "status": "completed"
    },
    "tags": []
   },
   "outputs": [
    {
     "name": "stderr",
     "output_type": "stream",
     "text": [
      "100%|██████████| 13/13 [00:00<00:00, 16.38it/s]"
     ]
    },
    {
     "name": "stdout",
     "output_type": "stream",
     "text": [
      "Best 3 classifiers: \n",
      "Acc: 0.846, KNeighborsClassifier(n_neighbors=10)\n",
      "Acc: 0.844, KNeighborsClassifier(n_neighbors=200)\n",
      "Acc: 0.844, KNeighborsClassifier(n_neighbors=250)\n"
     ]
    },
    {
     "name": "stderr",
     "output_type": "stream",
     "text": [
      "\n"
     ]
    }
   ],
   "source": [
    "best_knn = hyperparameter_grid_search(evaluate_knn, {\n",
    "    \"n_neighbors\": [1, 2, 3, 5, 6, 7, 8, 10, 50, 100, 200, 250, 300]\n",
    "}, train_x, train_y, val_x, val_y)"
   ]
  },
  {
   "cell_type": "code",
   "execution_count": 30,
   "id": "bdced035",
   "metadata": {
    "execution": {
     "iopub.execute_input": "2022-09-29T21:13:01.044542Z",
     "iopub.status.busy": "2022-09-29T21:13:01.042563Z",
     "iopub.status.idle": "2022-09-29T21:13:01.051098Z",
     "shell.execute_reply": "2022-09-29T21:13:01.049798Z"
    },
    "papermill": {
     "duration": 0.199757,
     "end_time": "2022-09-29T21:13:01.053140",
     "exception": false,
     "start_time": "2022-09-29T21:13:00.853383",
     "status": "completed"
    },
    "tags": []
   },
   "outputs": [
    {
     "name": "stdout",
     "output_type": "stream",
     "text": [
      "Best 3 classifiers: \n",
      "Acc: 0.848, RandomForestClassifier(max_depth=2, n_estimators=35, random_state=42)\n",
      "Acc: 0.846, KNeighborsClassifier(n_neighbors=10)\n",
      "Acc: 0.846, LogisticRegression(C=0.002, random_state=42, solver='liblinear')\n"
     ]
    }
   ],
   "source": [
    "results = [best_svc, best_ada, best_knn, best_rf, best_lr, best_gbdt]\n",
    "results.sort(key=lambda d: d['val_acc'], reverse=True)\n",
    "\n",
    "print(\"Best 3 classifiers: \")\n",
    "for r in results[:3]:\n",
    "    print(f\"Acc: {r['val_acc']:.3f}, {r['clf']}\")\n",
    "    \n",
    "best_overall = results[0]"
   ]
  },
  {
   "cell_type": "code",
   "execution_count": 31,
   "id": "eabac00c",
   "metadata": {
    "execution": {
     "iopub.execute_input": "2022-09-29T21:13:01.427181Z",
     "iopub.status.busy": "2022-09-29T21:13:01.426834Z",
     "iopub.status.idle": "2022-09-29T21:13:01.449962Z",
     "shell.execute_reply": "2022-09-29T21:13:01.448932Z"
    },
    "papermill": {
     "duration": 0.213909,
     "end_time": "2022-09-29T21:13:01.452256",
     "exception": false,
     "start_time": "2022-09-29T21:13:01.238347",
     "status": "completed"
    },
    "tags": []
   },
   "outputs": [
    {
     "data": {
      "text/html": [
       "<div>\n",
       "<style scoped>\n",
       "    .dataframe tbody tr th:only-of-type {\n",
       "        vertical-align: middle;\n",
       "    }\n",
       "\n",
       "    .dataframe tbody tr th {\n",
       "        vertical-align: top;\n",
       "    }\n",
       "\n",
       "    .dataframe thead th {\n",
       "        text-align: right;\n",
       "    }\n",
       "</style>\n",
       "<table border=\"1\" class=\"dataframe\">\n",
       "  <thead>\n",
       "    <tr style=\"text-align: right;\">\n",
       "      <th></th>\n",
       "      <th>keyword_disaster_ratio</th>\n",
       "      <th>text_prediction_probs</th>\n",
       "      <th>predicted_target</th>\n",
       "      <th>target</th>\n",
       "    </tr>\n",
       "  </thead>\n",
       "  <tbody>\n",
       "    <tr>\n",
       "      <th>2644</th>\n",
       "      <td>0.185185</td>\n",
       "      <td>0.417245</td>\n",
       "      <td>0</td>\n",
       "      <td>1</td>\n",
       "    </tr>\n",
       "    <tr>\n",
       "      <th>2227</th>\n",
       "      <td>0.147059</td>\n",
       "      <td>0.076420</td>\n",
       "      <td>0</td>\n",
       "      <td>0</td>\n",
       "    </tr>\n",
       "    <tr>\n",
       "      <th>5448</th>\n",
       "      <td>0.571429</td>\n",
       "      <td>0.370970</td>\n",
       "      <td>0</td>\n",
       "      <td>1</td>\n",
       "    </tr>\n",
       "    <tr>\n",
       "      <th>132</th>\n",
       "      <td>0.000000</td>\n",
       "      <td>0.103036</td>\n",
       "      <td>0</td>\n",
       "      <td>0</td>\n",
       "    </tr>\n",
       "    <tr>\n",
       "      <th>6845</th>\n",
       "      <td>0.423077</td>\n",
       "      <td>0.144462</td>\n",
       "      <td>0</td>\n",
       "      <td>0</td>\n",
       "    </tr>\n",
       "    <tr>\n",
       "      <th>5559</th>\n",
       "      <td>0.571429</td>\n",
       "      <td>0.566013</td>\n",
       "      <td>1</td>\n",
       "      <td>0</td>\n",
       "    </tr>\n",
       "    <tr>\n",
       "      <th>1765</th>\n",
       "      <td>0.750000</td>\n",
       "      <td>0.082773</td>\n",
       "      <td>0</td>\n",
       "      <td>1</td>\n",
       "    </tr>\n",
       "    <tr>\n",
       "      <th>1817</th>\n",
       "      <td>0.678571</td>\n",
       "      <td>0.122439</td>\n",
       "      <td>0</td>\n",
       "      <td>1</td>\n",
       "    </tr>\n",
       "    <tr>\n",
       "      <th>6810</th>\n",
       "      <td>0.655172</td>\n",
       "      <td>0.073874</td>\n",
       "      <td>0</td>\n",
       "      <td>0</td>\n",
       "    </tr>\n",
       "    <tr>\n",
       "      <th>4398</th>\n",
       "      <td>0.407407</td>\n",
       "      <td>0.942982</td>\n",
       "      <td>1</td>\n",
       "      <td>1</td>\n",
       "    </tr>\n",
       "    <tr>\n",
       "      <th>1807</th>\n",
       "      <td>0.360000</td>\n",
       "      <td>0.635925</td>\n",
       "      <td>1</td>\n",
       "      <td>1</td>\n",
       "    </tr>\n",
       "    <tr>\n",
       "      <th>6101</th>\n",
       "      <td>0.137931</td>\n",
       "      <td>0.193983</td>\n",
       "      <td>0</td>\n",
       "      <td>0</td>\n",
       "    </tr>\n",
       "    <tr>\n",
       "      <th>5701</th>\n",
       "      <td>0.518519</td>\n",
       "      <td>0.085868</td>\n",
       "      <td>0</td>\n",
       "      <td>0</td>\n",
       "    </tr>\n",
       "    <tr>\n",
       "      <th>6029</th>\n",
       "      <td>0.500000</td>\n",
       "      <td>0.215000</td>\n",
       "      <td>0</td>\n",
       "      <td>0</td>\n",
       "    </tr>\n",
       "    <tr>\n",
       "      <th>3012</th>\n",
       "      <td>0.695652</td>\n",
       "      <td>0.078620</td>\n",
       "      <td>0</td>\n",
       "      <td>0</td>\n",
       "    </tr>\n",
       "    <tr>\n",
       "      <th>3105</th>\n",
       "      <td>0.440000</td>\n",
       "      <td>0.590124</td>\n",
       "      <td>1</td>\n",
       "      <td>0</td>\n",
       "    </tr>\n",
       "    <tr>\n",
       "      <th>4019</th>\n",
       "      <td>0.750000</td>\n",
       "      <td>0.620649</td>\n",
       "      <td>1</td>\n",
       "      <td>0</td>\n",
       "    </tr>\n",
       "    <tr>\n",
       "      <th>3664</th>\n",
       "      <td>0.242424</td>\n",
       "      <td>0.067088</td>\n",
       "      <td>0</td>\n",
       "      <td>0</td>\n",
       "    </tr>\n",
       "    <tr>\n",
       "      <th>2164</th>\n",
       "      <td>1.000000</td>\n",
       "      <td>0.985692</td>\n",
       "      <td>1</td>\n",
       "      <td>1</td>\n",
       "    </tr>\n",
       "    <tr>\n",
       "      <th>5406</th>\n",
       "      <td>0.000000</td>\n",
       "      <td>0.084044</td>\n",
       "      <td>0</td>\n",
       "      <td>0</td>\n",
       "    </tr>\n",
       "    <tr>\n",
       "      <th>3044</th>\n",
       "      <td>0.821429</td>\n",
       "      <td>0.981070</td>\n",
       "      <td>1</td>\n",
       "      <td>1</td>\n",
       "    </tr>\n",
       "    <tr>\n",
       "      <th>2534</th>\n",
       "      <td>0.160000</td>\n",
       "      <td>0.147035</td>\n",
       "      <td>0</td>\n",
       "      <td>0</td>\n",
       "    </tr>\n",
       "    <tr>\n",
       "      <th>1507</th>\n",
       "      <td>0.666667</td>\n",
       "      <td>0.116270</td>\n",
       "      <td>0</td>\n",
       "      <td>0</td>\n",
       "    </tr>\n",
       "    <tr>\n",
       "      <th>4669</th>\n",
       "      <td>0.222222</td>\n",
       "      <td>0.069586</td>\n",
       "      <td>0</td>\n",
       "      <td>0</td>\n",
       "    </tr>\n",
       "    <tr>\n",
       "      <th>472</th>\n",
       "      <td>0.769231</td>\n",
       "      <td>0.608996</td>\n",
       "      <td>1</td>\n",
       "      <td>1</td>\n",
       "    </tr>\n",
       "  </tbody>\n",
       "</table>\n",
       "</div>"
      ],
      "text/plain": [
       "      keyword_disaster_ratio  text_prediction_probs  predicted_target  target\n",
       "2644                0.185185               0.417245                 0       1\n",
       "2227                0.147059               0.076420                 0       0\n",
       "5448                0.571429               0.370970                 0       1\n",
       "132                 0.000000               0.103036                 0       0\n",
       "6845                0.423077               0.144462                 0       0\n",
       "5559                0.571429               0.566013                 1       0\n",
       "1765                0.750000               0.082773                 0       1\n",
       "1817                0.678571               0.122439                 0       1\n",
       "6810                0.655172               0.073874                 0       0\n",
       "4398                0.407407               0.942982                 1       1\n",
       "1807                0.360000               0.635925                 1       1\n",
       "6101                0.137931               0.193983                 0       0\n",
       "5701                0.518519               0.085868                 0       0\n",
       "6029                0.500000               0.215000                 0       0\n",
       "3012                0.695652               0.078620                 0       0\n",
       "3105                0.440000               0.590124                 1       0\n",
       "4019                0.750000               0.620649                 1       0\n",
       "3664                0.242424               0.067088                 0       0\n",
       "2164                1.000000               0.985692                 1       1\n",
       "5406                0.000000               0.084044                 0       0\n",
       "3044                0.821429               0.981070                 1       1\n",
       "2534                0.160000               0.147035                 0       0\n",
       "1507                0.666667               0.116270                 0       0\n",
       "4669                0.222222               0.069586                 0       0\n",
       "472                 0.769231               0.608996                 1       1"
      ]
     },
     "execution_count": 31,
     "metadata": {},
     "output_type": "execute_result"
    }
   ],
   "source": [
    "val_df['predicted_target'] = best_overall['clf'].predict(val_x)\n",
    "val_df[[\"keyword_disaster_ratio\", \"text_prediction_probs\", \"predicted_target\", \"target\"]].head(25)"
   ]
  },
  {
   "cell_type": "code",
   "execution_count": 32,
   "id": "d9acc66b",
   "metadata": {
    "execution": {
     "iopub.execute_input": "2022-09-29T21:13:01.828574Z",
     "iopub.status.busy": "2022-09-29T21:13:01.828233Z",
     "iopub.status.idle": "2022-09-29T21:13:03.136297Z",
     "shell.execute_reply": "2022-09-29T21:13:03.135479Z"
    },
    "papermill": {
     "duration": 1.502115,
     "end_time": "2022-09-29T21:13:03.141911",
     "exception": false,
     "start_time": "2022-09-29T21:13:01.639796",
     "status": "completed"
    },
    "tags": []
   },
   "outputs": [
    {
     "data": {
      "text/plain": [
       "<AxesSubplot:xlabel='keyword_disaster_ratio_count', ylabel='text_prediction_probs'>"
      ]
     },
     "execution_count": 32,
     "metadata": {},
     "output_type": "execute_result"
    },
    {
     "data": {
      "image/png": "[encoded data removed]",
      "text/plain": [
       "<Figure size 1440x864 with 4 Axes>"
      ]
     },
     "metadata": {},
     "output_type": "display_data"
    }
   ],
   "source": [
    "fig, axs = plt.subplots(2,2, figsize=(20,12))\n",
    "\n",
    "sns.scatterplot(data=val_df, x=\"keyword_disaster_ratio\", y=\"text_prediction_probs\", hue=\"predicted_target\",ax=axs[0, 0])\n",
    "sns.scatterplot(data=val_df, x=\"keyword_disaster_ratio\", y=\"text_prediction_probs\", hue=\"target\",ax=axs[0, 1])\n",
    "\n",
    "\n",
    "sns.scatterplot(data=val_df, x=\"keyword_disaster_ratio_count\", y=\"text_prediction_probs\", hue=\"predicted_target\",ax=axs[1, 0])\n",
    "sns.scatterplot(data=val_df, x=\"keyword_disaster_ratio_count\", y=\"text_prediction_probs\", hue=\"target\",ax=axs[1, 1])"
   ]
  },
  {
   "cell_type": "code",
   "execution_count": 33,
   "id": "8c070fb1",
   "metadata": {
    "execution": {
     "iopub.execute_input": "2022-09-29T21:13:03.574281Z",
     "iopub.status.busy": "2022-09-29T21:13:03.573237Z",
     "iopub.status.idle": "2022-09-29T21:13:03.600525Z",
     "shell.execute_reply": "2022-09-29T21:13:03.599633Z"
    },
    "papermill": {
     "duration": 0.223158,
     "end_time": "2022-09-29T21:13:03.602432",
     "exception": false,
     "start_time": "2022-09-29T21:13:03.379274",
     "status": "completed"
    },
    "tags": []
   },
   "outputs": [
    {
     "data": {
      "text/html": [
       "<div>\n",
       "<style scoped>\n",
       "    .dataframe tbody tr th:only-of-type {\n",
       "        vertical-align: middle;\n",
       "    }\n",
       "\n",
       "    .dataframe tbody tr th {\n",
       "        vertical-align: top;\n",
       "    }\n",
       "\n",
       "    .dataframe thead th {\n",
       "        text-align: right;\n",
       "    }\n",
       "</style>\n",
       "<table border=\"1\" class=\"dataframe\">\n",
       "  <thead>\n",
       "    <tr style=\"text-align: right;\">\n",
       "      <th></th>\n",
       "      <th>id</th>\n",
       "      <th>target</th>\n",
       "    </tr>\n",
       "  </thead>\n",
       "  <tbody>\n",
       "    <tr>\n",
       "      <th>0</th>\n",
       "      <td>0</td>\n",
       "      <td>1</td>\n",
       "    </tr>\n",
       "    <tr>\n",
       "      <th>1</th>\n",
       "      <td>2</td>\n",
       "      <td>1</td>\n",
       "    </tr>\n",
       "    <tr>\n",
       "      <th>2</th>\n",
       "      <td>3</td>\n",
       "      <td>1</td>\n",
       "    </tr>\n",
       "    <tr>\n",
       "      <th>3</th>\n",
       "      <td>9</td>\n",
       "      <td>1</td>\n",
       "    </tr>\n",
       "    <tr>\n",
       "      <th>4</th>\n",
       "      <td>11</td>\n",
       "      <td>1</td>\n",
       "    </tr>\n",
       "    <tr>\n",
       "      <th>5</th>\n",
       "      <td>12</td>\n",
       "      <td>1</td>\n",
       "    </tr>\n",
       "    <tr>\n",
       "      <th>6</th>\n",
       "      <td>21</td>\n",
       "      <td>0</td>\n",
       "    </tr>\n",
       "    <tr>\n",
       "      <th>7</th>\n",
       "      <td>22</td>\n",
       "      <td>0</td>\n",
       "    </tr>\n",
       "    <tr>\n",
       "      <th>8</th>\n",
       "      <td>27</td>\n",
       "      <td>0</td>\n",
       "    </tr>\n",
       "    <tr>\n",
       "      <th>9</th>\n",
       "      <td>29</td>\n",
       "      <td>0</td>\n",
       "    </tr>\n",
       "    <tr>\n",
       "      <th>10</th>\n",
       "      <td>30</td>\n",
       "      <td>0</td>\n",
       "    </tr>\n",
       "    <tr>\n",
       "      <th>11</th>\n",
       "      <td>35</td>\n",
       "      <td>0</td>\n",
       "    </tr>\n",
       "    <tr>\n",
       "      <th>12</th>\n",
       "      <td>42</td>\n",
       "      <td>0</td>\n",
       "    </tr>\n",
       "    <tr>\n",
       "      <th>13</th>\n",
       "      <td>43</td>\n",
       "      <td>0</td>\n",
       "    </tr>\n",
       "    <tr>\n",
       "      <th>14</th>\n",
       "      <td>45</td>\n",
       "      <td>0</td>\n",
       "    </tr>\n",
       "    <tr>\n",
       "      <th>15</th>\n",
       "      <td>46</td>\n",
       "      <td>1</td>\n",
       "    </tr>\n",
       "    <tr>\n",
       "      <th>16</th>\n",
       "      <td>47</td>\n",
       "      <td>0</td>\n",
       "    </tr>\n",
       "    <tr>\n",
       "      <th>17</th>\n",
       "      <td>51</td>\n",
       "      <td>0</td>\n",
       "    </tr>\n",
       "    <tr>\n",
       "      <th>18</th>\n",
       "      <td>58</td>\n",
       "      <td>0</td>\n",
       "    </tr>\n",
       "    <tr>\n",
       "      <th>19</th>\n",
       "      <td>60</td>\n",
       "      <td>0</td>\n",
       "    </tr>\n",
       "  </tbody>\n",
       "</table>\n",
       "</div>"
      ],
      "text/plain": [
       "    id  target\n",
       "0    0       1\n",
       "1    2       1\n",
       "2    3       1\n",
       "3    9       1\n",
       "4   11       1\n",
       "5   12       1\n",
       "6   21       0\n",
       "7   22       0\n",
       "8   27       0\n",
       "9   29       0\n",
       "10  30       0\n",
       "11  35       0\n",
       "12  42       0\n",
       "13  43       0\n",
       "14  45       0\n",
       "15  46       1\n",
       "16  47       0\n",
       "17  51       0\n",
       "18  58       0\n",
       "19  60       0"
      ]
     },
     "metadata": {},
     "output_type": "display_data"
    }
   ],
   "source": [
    "test_predictions = best_overall['clf'].predict(test_x)\n",
    "\n",
    "sample_submission[\"target\"] = test_predictions\n",
    "\n",
    "display(sample_submission.head(20))\n",
    "\n",
    "sample_submission.to_csv(\"submission.csv\", index=False)"
   ]
  },
  {
   "cell_type": "code",
   "execution_count": null,
   "id": "b92763ed",
   "metadata": {
    "papermill": {
     "duration": 0.225243,
     "end_time": "2022-09-29T21:13:04.020788",
     "exception": false,
     "start_time": "2022-09-29T21:13:03.795545",
     "status": "completed"
    },
    "tags": []
   },
   "outputs": [],
   "source": []
  }
 ],
 "metadata": {
  "kernelspec": {
   "display_name": "Python 3",
   "language": "python",
   "name": "python3"
  },
  "language_info": {
   "codemirror_mode": {
    "name": "ipython",
    "version": 3
   },
   "file_extension": ".py",
   "mimetype": "text/x-python",
   "name": "python",
   "nbconvert_exporter": "python",
   "pygments_lexer": "ipython3",
   "version": "3.7.12"
  },
  "papermill": {
   "default_parameters": {},
   "duration": 600.69298,
   "end_time": "2022-09-29T21:13:06.955948",
   "environment_variables": {},
   "exception": null,
   "input_path": "__notebook__.ipynb",
   "output_path": "__notebook__.ipynb",
   "parameters": {},
   "start_time": "2022-09-29T21:03:06.262968",
   "version": "2.3.4"
  },
  "widgets": {
   "application/vnd.jupyter.widget-state+json": {
    "state": {
     "04fbfbb3d5494a1e80a1a25241c6f950": {
      "model_module": "@jupyter-widgets/controls",
      "model_module_version": "1.5.0",
      "model_name": "FloatProgressModel",
      "state": {
       "_dom_classes": [],
       "_model_module": "@jupyter-widgets/controls",
       "_model_module_version": "1.5.0",
       "_model_name": "FloatProgressModel",
       "_view_count": null,
       "_view_module": "@jupyter-widgets/controls",
       "_view_module_version": "1.5.0",
       "_view_name": "ProgressView",
       "bar_style": "success",
       "description": "",
       "description_tooltip": null,
       "layout": "IPY_MODEL_4e4157a0add847c19fc3f484b73184df",
       "max": 501200538.0,
       "min": 0.0,
       "orientation": "horizontal",
       "style": "IPY_MODEL_3141b1cc0765477b8aaab635bf2f1a68",
       "value": 501200538.0
      }
     },
     "070984182ac143679898bee1d091b6b6": {
      "model_module": "@jupyter-widgets/base",
      "model_module_version": "1.2.0",
      "model_name": "LayoutModel",
      "state": {
       "_model_module": "@jupyter-widgets/base",
       "_model_module_version": "1.2.0",
       "_model_name": "LayoutModel",
       "_view_count": null,
       "_view_module": "@jupyter-widgets/base",
       "_view_module_version": "1.2.0",
       "_view_name": "LayoutView",
       "align_content": null,
       "align_items": null,
       "align_self": null,
       "border": null,
       "bottom": null,
       "display": null,
       "flex": null,
       "flex_flow": null,
       "grid_area": null,
       "grid_auto_columns": null,
       "grid_auto_flow": null,
       "grid_auto_rows": null,
       "grid_column": null,
       "grid_gap": null,
       "grid_row": null,
       "grid_template_areas": null,
       "grid_template_columns": null,
       "grid_template_rows": null,
       "height": null,
       "justify_content": null,
       "justify_items": null,
       "left": null,
       "margin": null,
       "max_height": null,
       "max_width": null,
       "min_height": null,
       "min_width": null,
       "object_fit": null,
       "object_position": null,
       "order": null,
       "overflow": null,
       "overflow_x": null,
       "overflow_y": null,
       "padding": null,
       "right": null,
       "top": null,
       "visibility": null,
       "width": null
      }
     },
     "075c6f3ae01749f18be3132cfe59f55b": {
      "model_module": "@jupyter-widgets/base",
      "model_module_version": "1.2.0",
      "model_name": "LayoutModel",
      "state": {
       "_model_module": "@jupyter-widgets/base",
       "_model_module_version": "1.2.0",
       "_model_name": "LayoutModel",
       "_view_count": null,
       "_view_module": "@jupyter-widgets/base",
       "_view_module_version": "1.2.0",
       "_view_name": "LayoutView",
       "align_content": null,
       "align_items": null,
       "align_self": null,
       "border": null,
       "bottom": null,
       "display": null,
       "flex": null,
       "flex_flow": null,
       "grid_area": null,
       "grid_auto_columns": null,
       "grid_auto_flow": null,
       "grid_auto_rows": null,
       "grid_column": null,
       "grid_gap": null,
       "grid_row": null,
       "grid_template_areas": null,
       "grid_template_columns": null,
       "grid_template_rows": null,
       "height": null,
       "justify_content": null,
       "justify_items": null,
       "left": null,
       "margin": null,
       "max_height": null,
       "max_width": null,
       "min_height": null,
       "min_width": null,
       "object_fit": null,
       "object_position": null,
       "order": null,
       "overflow": null,
       "overflow_x": null,
       "overflow_y": null,
       "padding": null,
       "right": null,
       "top": null,
       "visibility": null,
       "width": null
      }
     },
     "07a12bd4c3a845648727d35321440194": {
      "model_module": "@jupyter-widgets/controls",
      "model_module_version": "1.5.0",
      "model_name": "ProgressStyleModel",
      "state": {
       "_model_module": "@jupyter-widgets/controls",
       "_model_module_version": "1.5.0",
       "_model_name": "ProgressStyleModel",
       "_view_count": null,
       "_view_module": "@jupyter-widgets/base",
       "_view_module_version": "1.2.0",
       "_view_name": "StyleView",
       "bar_color": null,
       "description_width": ""
      }
     },
     "080adb33b59040c4bb01ff0e8c832833": {
      "model_module": "@jupyter-widgets/base",
      "model_module_version": "1.2.0",
      "model_name": "LayoutModel",
      "state": {
       "_model_module": "@jupyter-widgets/base",
       "_model_module_version": "1.2.0",
       "_model_name": "LayoutModel",
       "_view_count": null,
       "_view_module": "@jupyter-widgets/base",
       "_view_module_version": "1.2.0",
       "_view_name": "LayoutView",
       "align_content": null,
       "align_items": null,
       "align_self": null,
       "border": null,
       "bottom": null,
       "display": null,
       "flex": null,
       "flex_flow": null,
       "grid_area": null,
       "grid_auto_columns": null,
       "grid_auto_flow": null,
       "grid_auto_rows": null,
       "grid_column": null,
       "grid_gap": null,
       "grid_row": null,
       "grid_template_areas": null,
       "grid_template_columns": null,
       "grid_template_rows": null,
       "height": null,
       "justify_content": null,
       "justify_items": null,
       "left": null,
       "margin": null,
       "max_height": null,
       "max_width": null,
       "min_height": null,
       "min_width": null,
       "object_fit": null,
       "object_position": null,
       "order": null,
       "overflow": null,
       "overflow_x": null,
       "overflow_y": null,
       "padding": null,
       "right": null,
       "top": null,
       "visibility": null,
       "width": null
      }
     },
     "10a1a54b4549406cb5b2e699f84cd178": {
      "model_module": "@jupyter-widgets/base",
      "model_module_version": "1.2.0",
      "model_name": "LayoutModel",
      "state": {
       "_model_module": "@jupyter-widgets/base",
       "_model_module_version": "1.2.0",
       "_model_name": "LayoutModel",
       "_view_count": null,
       "_view_module": "@jupyter-widgets/base",
       "_view_module_version": "1.2.0",
       "_view_name": "LayoutView",
       "align_content": null,
       "align_items": null,
       "align_self": null,
       "border": null,
       "bottom": null,
       "display": null,
       "flex": null,
       "flex_flow": null,
       "grid_area": null,
       "grid_auto_columns": null,
       "grid_auto_flow": null,
       "grid_auto_rows": null,
       "grid_column": null,
       "grid_gap": null,
       "grid_row": null,
       "grid_template_areas": null,
       "grid_template_columns": null,
       "grid_template_rows": null,
       "height": null,
       "justify_content": null,
       "justify_items": null,
       "left": null,
       "margin": null,
       "max_height": null,
       "max_width": null,
       "min_height": null,
       "min_width": null,
       "object_fit": null,
       "object_position": null,
       "order": null,
       "overflow": null,
       "overflow_x": null,
       "overflow_y": null,
       "padding": null,
       "right": null,
       "top": null,
       "visibility": null,
       "width": null
      }
     },
     "15e3be3a059a4fab9cb2d59891e18ec2": {
      "model_module": "@jupyter-widgets/controls",
      "model_module_version": "1.5.0",
      "model_name": "DescriptionStyleModel",
      "state": {
       "_model_module": "@jupyter-widgets/controls",
       "_model_module_version": "1.5.0",
       "_model_name": "DescriptionStyleModel",
       "_view_count": null,
       "_view_module": "@jupyter-widgets/base",
       "_view_module_version": "1.2.0",
       "_view_name": "StyleView",
       "description_width": ""
      }
     },
     "23ae06f019a546d283386be81a9731dc": {
      "model_module": "@jupyter-widgets/base",
      "model_module_version": "1.2.0",
      "model_name": "LayoutModel",
      "state": {
       "_model_module": "@jupyter-widgets/base",
       "_model_module_version": "1.2.0",
       "_model_name": "LayoutModel",
       "_view_count": null,
       "_view_module": "@jupyter-widgets/base",
       "_view_module_version": "1.2.0",
       "_view_name": "LayoutView",
       "align_content": null,
       "align_items": null,
       "align_self": null,
       "border": null,
       "bottom": null,
       "display": null,
       "flex": null,
       "flex_flow": null,
       "grid_area": null,
       "grid_auto_columns": null,
       "grid_auto_flow": null,
       "grid_auto_rows": null,
       "grid_column": null,
       "grid_gap": null,
       "grid_row": null,
       "grid_template_areas": null,
       "grid_template_columns": null,
       "grid_template_rows": null,
       "height": null,
       "justify_content": null,
       "justify_items": null,
       "left": null,
       "margin": null,
       "max_height": null,
       "max_width": null,
       "min_height": null,
       "min_width": null,
       "object_fit": null,
       "object_position": null,
       "order": null,
       "overflow": null,
       "overflow_x": null,
       "overflow_y": null,
       "padding": null,
       "right": null,
       "top": null,
       "visibility": null,
       "width": null
      }
     },
     "274d3e9d10ec41688ea9fa3fcc3632a2": {
      "model_module": "@jupyter-widgets/controls",
      "model_module_version": "1.5.0",
      "model_name": "HTMLModel",
      "state": {
       "_dom_classes": [],
       "_model_module": "@jupyter-widgets/controls",
       "_model_module_version": "1.5.0",
       "_model_name": "HTMLModel",
       "_view_count": null,
       "_view_module": "@jupyter-widgets/controls",
       "_view_module_version": "1.5.0",
       "_view_name": "HTMLView",
       "description": "",
       "description_tooltip": null,
       "layout": "IPY_MODEL_c70d945b9ae940089bdb8d51b8823e43",
       "placeholder": "​",
       "style": "IPY_MODEL_6e0162c911db42719f269744c0916961",
       "value": "Downloading: 100%"
      }
     },
     "2c6572945aea4ccb820e4b64fe2e5458": {
      "model_module": "@jupyter-widgets/controls",
      "model_module_version": "1.5.0",
      "model_name": "FloatProgressModel",
      "state": {
       "_dom_classes": [],
       "_model_module": "@jupyter-widgets/controls",
       "_model_module_version": "1.5.0",
       "_model_name": "FloatProgressModel",
       "_view_count": null,
       "_view_module": "@jupyter-widgets/controls",
       "_view_module_version": "1.5.0",
       "_view_name": "ProgressView",
       "bar_style": "success",
       "description": "",
       "description_tooltip": null,
       "layout": "IPY_MODEL_bf8a5d1c2b894c0c8c0a56f42b56b2fe",
       "max": 1355863.0,
       "min": 0.0,
       "orientation": "horizontal",
       "style": "IPY_MODEL_d1a64681822f4ebfae70b16ac0efb0cd",
       "value": 1355863.0
      }
     },
     "2ee7e6623bfc491088edc0a2dcfac64e": {
      "model_module": "@jupyter-widgets/controls",
      "model_module_version": "1.5.0",
      "model_name": "DescriptionStyleModel",
      "state": {
       "_model_module": "@jupyter-widgets/controls",
       "_model_module_version": "1.5.0",
       "_model_name": "DescriptionStyleModel",
       "_view_count": null,
       "_view_module": "@jupyter-widgets/base",
       "_view_module_version": "1.2.0",
       "_view_name": "StyleView",
       "description_width": ""
      }
     },
     "2fbcbc7ce0904c089289885bb595031a": {
      "model_module": "@jupyter-widgets/base",
      "model_module_version": "1.2.0",
      "model_name": "LayoutModel",
      "state": {
       "_model_module": "@jupyter-widgets/base",
       "_model_module_version": "1.2.0",
       "_model_name": "LayoutModel",
       "_view_count": null,
       "_view_module": "@jupyter-widgets/base",
       "_view_module_version": "1.2.0",
       "_view_name": "LayoutView",
       "align_content": null,
       "align_items": null,
       "align_self": null,
       "border": null,
       "bottom": null,
       "display": null,
       "flex": null,
       "flex_flow": null,
       "grid_area": null,
       "grid_auto_columns": null,
       "grid_auto_flow": null,
       "grid_auto_rows": null,
       "grid_column": null,
       "grid_gap": null,
       "grid_row": null,
       "grid_template_areas": null,
       "grid_template_columns": null,
       "grid_template_rows": null,
       "height": null,
       "justify_content": null,
       "justify_items": null,
       "left": null,
       "margin": null,
       "max_height": null,
       "max_width": null,
       "min_height": null,
       "min_width": null,
       "object_fit": null,
       "object_position": null,
       "order": null,
       "overflow": null,
       "overflow_x": null,
       "overflow_y": null,
       "padding": null,
       "right": null,
       "top": null,
       "visibility": null,
       "width": null
      }
     },
     "3141b1cc0765477b8aaab635bf2f1a68": {
      "model_module": "@jupyter-widgets/controls",
      "model_module_version": "1.5.0",
      "model_name": "ProgressStyleModel",
      "state": {
       "_model_module": "@jupyter-widgets/controls",
       "_model_module_version": "1.5.0",
       "_model_name": "ProgressStyleModel",
       "_view_count": null,
       "_view_module": "@jupyter-widgets/base",
       "_view_module_version": "1.2.0",
       "_view_name": "StyleView",
       "bar_color": null,
       "description_width": ""
      }
     },
     "319f472174644c6e9ec3cfdf1d331690": {
      "model_module": "@jupyter-widgets/controls",
      "model_module_version": "1.5.0",
      "model_name": "DescriptionStyleModel",
      "state": {
       "_model_module": "@jupyter-widgets/controls",
       "_model_module_version": "1.5.0",
       "_model_name": "DescriptionStyleModel",
       "_view_count": null,
       "_view_module": "@jupyter-widgets/base",
       "_view_module_version": "1.2.0",
       "_view_name": "StyleView",
       "description_width": ""
      }
     },
     "31f2ad359bfc47ed9149ef4caceea582": {
      "model_module": "@jupyter-widgets/controls",
      "model_module_version": "1.5.0",
      "model_name": "DescriptionStyleModel",
      "state": {
       "_model_module": "@jupyter-widgets/controls",
       "_model_module_version": "1.5.0",
       "_model_name": "DescriptionStyleModel",
       "_view_count": null,
       "_view_module": "@jupyter-widgets/base",
       "_view_module_version": "1.2.0",
       "_view_name": "StyleView",
       "description_width": ""
      }
     },
     "334701b29f4d434cb890a3c4a189334d": {
      "model_module": "@jupyter-widgets/controls",
      "model_module_version": "1.5.0",
      "model_name": "HTMLModel",
      "state": {
       "_dom_classes": [],
       "_model_module": "@jupyter-widgets/controls",
       "_model_module_version": "1.5.0",
       "_model_name": "HTMLModel",
       "_view_count": null,
       "_view_module": "@jupyter-widgets/controls",
       "_view_module_version": "1.5.0",
       "_view_name": "HTMLView",
       "description": "",
       "description_tooltip": null,
       "layout": "IPY_MODEL_075c6f3ae01749f18be3132cfe59f55b",
       "placeholder": "​",
       "style": "IPY_MODEL_15e3be3a059a4fab9cb2d59891e18ec2",
       "value": " 478M/478M [00:10&lt;00:00, 26.9MB/s]"
      }
     },
     "34ac9dd0864245e8b205ffa5159c7f04": {
      "model_module": "@jupyter-widgets/base",
      "model_module_version": "1.2.0",
      "model_name": "LayoutModel",
      "state": {
       "_model_module": "@jupyter-widgets/base",
       "_model_module_version": "1.2.0",
       "_model_name": "LayoutModel",
       "_view_count": null,
       "_view_module": "@jupyter-widgets/base",
       "_view_module_version": "1.2.0",
       "_view_name": "LayoutView",
       "align_content": null,
       "align_items": null,
       "align_self": null,
       "border": null,
       "bottom": null,
       "display": null,
       "flex": null,
       "flex_flow": null,
       "grid_area": null,
       "grid_auto_columns": null,
       "grid_auto_flow": null,
       "grid_auto_rows": null,
       "grid_column": null,
       "grid_gap": null,
       "grid_row": null,
       "grid_template_areas": null,
       "grid_template_columns": null,
       "grid_template_rows": null,
       "height": null,
       "justify_content": null,
       "justify_items": null,
       "left": null,
       "margin": null,
       "max_height": null,
       "max_width": null,
       "min_height": null,
       "min_width": null,
       "object_fit": null,
       "object_position": null,
       "order": null,
       "overflow": null,
       "overflow_x": null,
       "overflow_y": null,
       "padding": null,
       "right": null,
       "top": null,
       "visibility": null,
       "width": null
      }
     },
     "3f973d869f76497e8601ccf54a6e6254": {
      "model_module": "@jupyter-widgets/controls",
      "model_module_version": "1.5.0",
      "model_name": "DescriptionStyleModel",
      "state": {
       "_model_module": "@jupyter-widgets/controls",
       "_model_module_version": "1.5.0",
       "_model_name": "DescriptionStyleModel",
       "_view_count": null,
       "_view_module": "@jupyter-widgets/base",
       "_view_module_version": "1.2.0",
       "_view_name": "StyleView",
       "description_width": ""
      }
     },
     "421b3507faf349c1a19219ddb425531e": {
      "model_module": "@jupyter-widgets/base",
      "model_module_version": "1.2.0",
      "model_name": "LayoutModel",
      "state": {
       "_model_module": "@jupyter-widgets/base",
       "_model_module_version": "1.2.0",
       "_model_name": "LayoutModel",
       "_view_count": null,
       "_view_module": "@jupyter-widgets/base",
       "_view_module_version": "1.2.0",
       "_view_name": "LayoutView",
       "align_content": null,
       "align_items": null,
       "align_self": null,
       "border": null,
       "bottom": null,
       "display": null,
       "flex": null,
       "flex_flow": null,
       "grid_area": null,
       "grid_auto_columns": null,
       "grid_auto_flow": null,
       "grid_auto_rows": null,
       "grid_column": null,
       "grid_gap": null,
       "grid_row": null,
       "grid_template_areas": null,
       "grid_template_columns": null,
       "grid_template_rows": null,
       "height": null,
       "justify_content": null,
       "justify_items": null,
       "left": null,
       "margin": null,
       "max_height": null,
       "max_width": null,
       "min_height": null,
       "min_width": null,
       "object_fit": null,
       "object_position": null,
       "order": null,
       "overflow": null,
       "overflow_x": null,
       "overflow_y": null,
       "padding": null,
       "right": null,
       "top": null,
       "visibility": null,
       "width": null
      }
     },
     "434207149ecb44189615803d9e1d0e27": {
      "model_module": "@jupyter-widgets/controls",
      "model_module_version": "1.5.0",
      "model_name": "DescriptionStyleModel",
      "state": {
       "_model_module": "@jupyter-widgets/controls",
       "_model_module_version": "1.5.0",
       "_model_name": "DescriptionStyleModel",
       "_view_count": null,
       "_view_module": "@jupyter-widgets/base",
       "_view_module_version": "1.2.0",
       "_view_name": "StyleView",
       "description_width": ""
      }
     },
     "45d6b9a88c754a1f8fe8bd89af371d9f": {
      "model_module": "@jupyter-widgets/controls",
      "model_module_version": "1.5.0",
      "model_name": "HBoxModel",
      "state": {
       "_dom_classes": [],
       "_model_module": "@jupyter-widgets/controls",
       "_model_module_version": "1.5.0",
       "_model_name": "HBoxModel",
       "_view_count": null,
       "_view_module": "@jupyter-widgets/controls",
       "_view_module_version": "1.5.0",
       "_view_name": "HBoxView",
       "box_style": "",
       "children": [
        "IPY_MODEL_48fc923c65ca446bad4d15e7e0bfce7a",
        "IPY_MODEL_c15e0fa0e21540b5b6fe4a1f5c2577bd",
        "IPY_MODEL_5e185b076ac14b9eaa5998074a0edf57"
       ],
       "layout": "IPY_MODEL_cd34aec632d04aef8bffde5029ed0e53"
      }
     },
     "48fc923c65ca446bad4d15e7e0bfce7a": {
      "model_module": "@jupyter-widgets/controls",
      "model_module_version": "1.5.0",
      "model_name": "HTMLModel",
      "state": {
       "_dom_classes": [],
       "_model_module": "@jupyter-widgets/controls",
       "_model_module_version": "1.5.0",
       "_model_name": "HTMLModel",
       "_view_count": null,
       "_view_module": "@jupyter-widgets/controls",
       "_view_module_version": "1.5.0",
       "_view_name": "HTMLView",
       "description": "",
       "description_tooltip": null,
       "layout": "IPY_MODEL_5dbb64a591a04c6988f5160d51884718",
       "placeholder": "​",
       "style": "IPY_MODEL_31f2ad359bfc47ed9149ef4caceea582",
       "value": "Downloading: 100%"
      }
     },
     "4a19181d07954c1181ee9444fe1fa8e9": {
      "model_module": "@jupyter-widgets/controls",
      "model_module_version": "1.5.0",
      "model_name": "DescriptionStyleModel",
      "state": {
       "_model_module": "@jupyter-widgets/controls",
       "_model_module_version": "1.5.0",
       "_model_name": "DescriptionStyleModel",
       "_view_count": null,
       "_view_module": "@jupyter-widgets/base",
       "_view_module_version": "1.2.0",
       "_view_name": "StyleView",
       "description_width": ""
      }
     },
     "4e4157a0add847c19fc3f484b73184df": {
      "model_module": "@jupyter-widgets/base",
      "model_module_version": "1.2.0",
      "model_name": "LayoutModel",
      "state": {
       "_model_module": "@jupyter-widgets/base",
       "_model_module_version": "1.2.0",
       "_model_name": "LayoutModel",
       "_view_count": null,
       "_view_module": "@jupyter-widgets/base",
       "_view_module_version": "1.2.0",
       "_view_name": "LayoutView",
       "align_content": null,
       "align_items": null,
       "align_self": null,
       "border": null,
       "bottom": null,
       "display": null,
       "flex": null,
       "flex_flow": null,
       "grid_area": null,
       "grid_auto_columns": null,
       "grid_auto_flow": null,
       "grid_auto_rows": null,
       "grid_column": null,
       "grid_gap": null,
       "grid_row": null,
       "grid_template_areas": null,
       "grid_template_columns": null,
       "grid_template_rows": null,
       "height": null,
       "justify_content": null,
       "justify_items": null,
       "left": null,
       "margin": null,
       "max_height": null,
       "max_width": null,
       "min_height": null,
       "min_width": null,
       "object_fit": null,
       "object_position": null,
       "order": null,
       "overflow": null,
       "overflow_x": null,
       "overflow_y": null,
       "padding": null,
       "right": null,
       "top": null,
       "visibility": null,
       "width": null
      }
     },
     "529652ece42c4e6392cda8f542d23d55": {
      "model_module": "@jupyter-widgets/controls",
      "model_module_version": "1.5.0",
      "model_name": "FloatProgressModel",
      "state": {
       "_dom_classes": [],
       "_model_module": "@jupyter-widgets/controls",
       "_model_module_version": "1.5.0",
       "_model_name": "FloatProgressModel",
       "_view_count": null,
       "_view_module": "@jupyter-widgets/controls",
       "_view_module_version": "1.5.0",
       "_view_name": "ProgressView",
       "bar_style": "success",
       "description": "",
       "description_tooltip": null,
       "layout": "IPY_MODEL_34ac9dd0864245e8b205ffa5159c7f04",
       "max": 898823.0,
       "min": 0.0,
       "orientation": "horizontal",
       "style": "IPY_MODEL_6637256331f0451a961a8df7f088677f",
       "value": 898823.0
      }
     },
     "5c58f2c92e4f4b4abc359edadb4383da": {
      "model_module": "@jupyter-widgets/controls",
      "model_module_version": "1.5.0",
      "model_name": "HBoxModel",
      "state": {
       "_dom_classes": [],
       "_model_module": "@jupyter-widgets/controls",
       "_model_module_version": "1.5.0",
       "_model_name": "HBoxModel",
       "_view_count": null,
       "_view_module": "@jupyter-widgets/controls",
       "_view_module_version": "1.5.0",
       "_view_name": "HBoxView",
       "box_style": "",
       "children": [
        "IPY_MODEL_bd23913ec549438191721c6469f26f1b",
        "IPY_MODEL_7aaf780fd9ae473fa3b169712e18e134",
        "IPY_MODEL_df59657639ae485ea01756d9bd84be25"
       ],
       "layout": "IPY_MODEL_2fbcbc7ce0904c089289885bb595031a"
      }
     },
     "5d49be317bc84c36be3181f2301d2c10": {
      "model_module": "@jupyter-widgets/base",
      "model_module_version": "1.2.0",
      "model_name": "LayoutModel",
      "state": {
       "_model_module": "@jupyter-widgets/base",
       "_model_module_version": "1.2.0",
       "_model_name": "LayoutModel",
       "_view_count": null,
       "_view_module": "@jupyter-widgets/base",
       "_view_module_version": "1.2.0",
       "_view_name": "LayoutView",
       "align_content": null,
       "align_items": null,
       "align_self": null,
       "border": null,
       "bottom": null,
       "display": null,
       "flex": null,
       "flex_flow": null,
       "grid_area": null,
       "grid_auto_columns": null,
       "grid_auto_flow": null,
       "grid_auto_rows": null,
       "grid_column": null,
       "grid_gap": null,
       "grid_row": null,
       "grid_template_areas": null,
       "grid_template_columns": null,
       "grid_template_rows": null,
       "height": null,
       "justify_content": null,
       "justify_items": null,
       "left": null,
       "margin": null,
       "max_height": null,
       "max_width": null,
       "min_height": null,
       "min_width": null,
       "object_fit": null,
       "object_position": null,
       "order": null,
       "overflow": null,
       "overflow_x": null,
       "overflow_y": null,
       "padding": null,
       "right": null,
       "top": null,
       "visibility": null,
       "width": null
      }
     },
     "5dbb64a591a04c6988f5160d51884718": {
      "model_module": "@jupyter-widgets/base",
      "model_module_version": "1.2.0",
      "model_name": "LayoutModel",
      "state": {
       "_model_module": "@jupyter-widgets/base",
       "_model_module_version": "1.2.0",
       "_model_name": "LayoutModel",
       "_view_count": null,
       "_view_module": "@jupyter-widgets/base",
       "_view_module_version": "1.2.0",
       "_view_name": "LayoutView",
       "align_content": null,
       "align_items": null,
       "align_self": null,
       "border": null,
       "bottom": null,
       "display": null,
       "flex": null,
       "flex_flow": null,
       "grid_area": null,
       "grid_auto_columns": null,
       "grid_auto_flow": null,
       "grid_auto_rows": null,
       "grid_column": null,
       "grid_gap": null,
       "grid_row": null,
       "grid_template_areas": null,
       "grid_template_columns": null,
       "grid_template_rows": null,
       "height": null,
       "justify_content": null,
       "justify_items": null,
       "left": null,
       "margin": null,
       "max_height": null,
       "max_width": null,
       "min_height": null,
       "min_width": null,
       "object_fit": null,
       "object_position": null,
       "order": null,
       "overflow": null,
       "overflow_x": null,
       "overflow_y": null,
       "padding": null,
       "right": null,
       "top": null,
       "visibility": null,
       "width": null
      }
     },
     "5e185b076ac14b9eaa5998074a0edf57": {
      "model_module": "@jupyter-widgets/controls",
      "model_module_version": "1.5.0",
      "model_name": "HTMLModel",
      "state": {
       "_dom_classes": [],
       "_model_module": "@jupyter-widgets/controls",
       "_model_module_version": "1.5.0",
       "_model_name": "HTMLModel",
       "_view_count": null,
       "_view_module": "@jupyter-widgets/controls",
       "_view_module_version": "1.5.0",
       "_view_name": "HTMLView",
       "description": "",
       "description_tooltip": null,
       "layout": "IPY_MODEL_b6e33c7ee9cb4bf283ba33cb2ae02a33",
       "placeholder": "​",
       "style": "IPY_MODEL_3f973d869f76497e8601ccf54a6e6254",
       "value": " 481/481 [00:00&lt;00:00, 18.6kB/s]"
      }
     },
     "6637256331f0451a961a8df7f088677f": {
      "model_module": "@jupyter-widgets/controls",
      "model_module_version": "1.5.0",
      "model_name": "ProgressStyleModel",
      "state": {
       "_model_module": "@jupyter-widgets/controls",
       "_model_module_version": "1.5.0",
       "_model_name": "ProgressStyleModel",
       "_view_count": null,
       "_view_module": "@jupyter-widgets/base",
       "_view_module_version": "1.2.0",
       "_view_name": "StyleView",
       "bar_color": null,
       "description_width": ""
      }
     },
     "6e0162c911db42719f269744c0916961": {
      "model_module": "@jupyter-widgets/controls",
      "model_module_version": "1.5.0",
      "model_name": "DescriptionStyleModel",
      "state": {
       "_model_module": "@jupyter-widgets/controls",
       "_model_module_version": "1.5.0",
       "_model_name": "DescriptionStyleModel",
       "_view_count": null,
       "_view_module": "@jupyter-widgets/base",
       "_view_module_version": "1.2.0",
       "_view_name": "StyleView",
       "description_width": ""
      }
     },
     "70675c52838b48448bbbb1d3ac0e998d": {
      "model_module": "@jupyter-widgets/base",
      "model_module_version": "1.2.0",
      "model_name": "LayoutModel",
      "state": {
       "_model_module": "@jupyter-widgets/base",
       "_model_module_version": "1.2.0",
       "_model_name": "LayoutModel",
       "_view_count": null,
       "_view_module": "@jupyter-widgets/base",
       "_view_module_version": "1.2.0",
       "_view_name": "LayoutView",
       "align_content": null,
       "align_items": null,
       "align_self": null,
       "border": null,
       "bottom": null,
       "display": null,
       "flex": null,
       "flex_flow": null,
       "grid_area": null,
       "grid_auto_columns": null,
       "grid_auto_flow": null,
       "grid_auto_rows": null,
       "grid_column": null,
       "grid_gap": null,
       "grid_row": null,
       "grid_template_areas": null,
       "grid_template_columns": null,
       "grid_template_rows": null,
       "height": null,
       "justify_content": null,
       "justify_items": null,
       "left": null,
       "margin": null,
       "max_height": null,
       "max_width": null,
       "min_height": null,
       "min_width": null,
       "object_fit": null,
       "object_position": null,
       "order": null,
       "overflow": null,
       "overflow_x": null,
       "overflow_y": null,
       "padding": null,
       "right": null,
       "top": null,
       "visibility": null,
       "width": null
      }
     },
     "796eba6be72c48d9b236c72b992e351b": {
      "model_module": "@jupyter-widgets/controls",
      "model_module_version": "1.5.0",
      "model_name": "HTMLModel",
      "state": {
       "_dom_classes": [],
       "_model_module": "@jupyter-widgets/controls",
       "_model_module_version": "1.5.0",
       "_model_name": "HTMLModel",
       "_view_count": null,
       "_view_module": "@jupyter-widgets/controls",
       "_view_module_version": "1.5.0",
       "_view_name": "HTMLView",
       "description": "",
       "description_tooltip": null,
       "layout": "IPY_MODEL_70675c52838b48448bbbb1d3ac0e998d",
       "placeholder": "​",
       "style": "IPY_MODEL_319f472174644c6e9ec3cfdf1d331690",
       "value": "Downloading: 100%"
      }
     },
     "7aaf780fd9ae473fa3b169712e18e134": {
      "model_module": "@jupyter-widgets/controls",
      "model_module_version": "1.5.0",
      "model_name": "FloatProgressModel",
      "state": {
       "_dom_classes": [],
       "_model_module": "@jupyter-widgets/controls",
       "_model_module_version": "1.5.0",
       "_model_name": "FloatProgressModel",
       "_view_count": null,
       "_view_module": "@jupyter-widgets/controls",
       "_view_module_version": "1.5.0",
       "_view_name": "ProgressView",
       "bar_style": "success",
       "description": "",
       "description_tooltip": null,
       "layout": "IPY_MODEL_f4b48df868eb4cfda959b6f40cc0d1ac",
       "max": 456318.0,
       "min": 0.0,
       "orientation": "horizontal",
       "style": "IPY_MODEL_d2b10066aa2f4126bb5eb4181fe462b1",
       "value": 456318.0
      }
     },
     "7e16ca4b5857442f895195c2d24e3c45": {
      "model_module": "@jupyter-widgets/controls",
      "model_module_version": "1.5.0",
      "model_name": "HBoxModel",
      "state": {
       "_dom_classes": [],
       "_model_module": "@jupyter-widgets/controls",
       "_model_module_version": "1.5.0",
       "_model_name": "HBoxModel",
       "_view_count": null,
       "_view_module": "@jupyter-widgets/controls",
       "_view_module_version": "1.5.0",
       "_view_name": "HBoxView",
       "box_style": "",
       "children": [
        "IPY_MODEL_274d3e9d10ec41688ea9fa3fcc3632a2",
        "IPY_MODEL_04fbfbb3d5494a1e80a1a25241c6f950",
        "IPY_MODEL_334701b29f4d434cb890a3c4a189334d"
       ],
       "layout": "IPY_MODEL_070984182ac143679898bee1d091b6b6"
      }
     },
     "7fa3d0926c0f4d1781f60d1596490e70": {
      "model_module": "@jupyter-widgets/controls",
      "model_module_version": "1.5.0",
      "model_name": "HTMLModel",
      "state": {
       "_dom_classes": [],
       "_model_module": "@jupyter-widgets/controls",
       "_model_module_version": "1.5.0",
       "_model_name": "HTMLModel",
       "_view_count": null,
       "_view_module": "@jupyter-widgets/controls",
       "_view_module_version": "1.5.0",
       "_view_name": "HTMLView",
       "description": "",
       "description_tooltip": null,
       "layout": "IPY_MODEL_10a1a54b4549406cb5b2e699f84cd178",
       "placeholder": "​",
       "style": "IPY_MODEL_2ee7e6623bfc491088edc0a2dcfac64e",
       "value": " 1.29M/1.29M [00:00&lt;00:00, 3.10MB/s]"
      }
     },
     "b6e33c7ee9cb4bf283ba33cb2ae02a33": {
      "model_module": "@jupyter-widgets/base",
      "model_module_version": "1.2.0",
      "model_name": "LayoutModel",
      "state": {
       "_model_module": "@jupyter-widgets/base",
       "_model_module_version": "1.2.0",
       "_model_name": "LayoutModel",
       "_view_count": null,
       "_view_module": "@jupyter-widgets/base",
       "_view_module_version": "1.2.0",
       "_view_name": "LayoutView",
       "align_content": null,
       "align_items": null,
       "align_self": null,
       "border": null,
       "bottom": null,
       "display": null,
       "flex": null,
       "flex_flow": null,
       "grid_area": null,
       "grid_auto_columns": null,
       "grid_auto_flow": null,
       "grid_auto_rows": null,
       "grid_column": null,
       "grid_gap": null,
       "grid_row": null,
       "grid_template_areas": null,
       "grid_template_columns": null,
       "grid_template_rows": null,
       "height": null,
       "justify_content": null,
       "justify_items": null,
       "left": null,
       "margin": null,
       "max_height": null,
       "max_width": null,
       "min_height": null,
       "min_width": null,
       "object_fit": null,
       "object_position": null,
       "order": null,
       "overflow": null,
       "overflow_x": null,
       "overflow_y": null,
       "padding": null,
       "right": null,
       "top": null,
       "visibility": null,
       "width": null
      }
     },
     "b989c2b2c2194bdc9bf0400d8f95c732": {
      "model_module": "@jupyter-widgets/controls",
      "model_module_version": "1.5.0",
      "model_name": "HTMLModel",
      "state": {
       "_dom_classes": [],
       "_model_module": "@jupyter-widgets/controls",
       "_model_module_version": "1.5.0",
       "_model_name": "HTMLModel",
       "_view_count": null,
       "_view_module": "@jupyter-widgets/controls",
       "_view_module_version": "1.5.0",
       "_view_name": "HTMLView",
       "description": "",
       "description_tooltip": null,
       "layout": "IPY_MODEL_ee9432bada264432ab89c3bc67380558",
       "placeholder": "​",
       "style": "IPY_MODEL_434207149ecb44189615803d9e1d0e27",
       "value": " 878k/878k [00:00&lt;00:00, 2.82MB/s]"
      }
     },
     "bd23913ec549438191721c6469f26f1b": {
      "model_module": "@jupyter-widgets/controls",
      "model_module_version": "1.5.0",
      "model_name": "HTMLModel",
      "state": {
       "_dom_classes": [],
       "_model_module": "@jupyter-widgets/controls",
       "_model_module_version": "1.5.0",
       "_model_name": "HTMLModel",
       "_view_count": null,
       "_view_module": "@jupyter-widgets/controls",
       "_view_module_version": "1.5.0",
       "_view_name": "HTMLView",
       "description": "",
       "description_tooltip": null,
       "layout": "IPY_MODEL_421b3507faf349c1a19219ddb425531e",
       "placeholder": "​",
       "style": "IPY_MODEL_e469aa7e1fef41ffafba0d6b2a6148a1",
       "value": "Downloading: 100%"
      }
     },
     "bf8a5d1c2b894c0c8c0a56f42b56b2fe": {
      "model_module": "@jupyter-widgets/base",
      "model_module_version": "1.2.0",
      "model_name": "LayoutModel",
      "state": {
       "_model_module": "@jupyter-widgets/base",
       "_model_module_version": "1.2.0",
       "_model_name": "LayoutModel",
       "_view_count": null,
       "_view_module": "@jupyter-widgets/base",
       "_view_module_version": "1.2.0",
       "_view_name": "LayoutView",
       "align_content": null,
       "align_items": null,
       "align_self": null,
       "border": null,
       "bottom": null,
       "display": null,
       "flex": null,
       "flex_flow": null,
       "grid_area": null,
       "grid_auto_columns": null,
       "grid_auto_flow": null,
       "grid_auto_rows": null,
       "grid_column": null,
       "grid_gap": null,
       "grid_row": null,
       "grid_template_areas": null,
       "grid_template_columns": null,
       "grid_template_rows": null,
       "height": null,
       "justify_content": null,
       "justify_items": null,
       "left": null,
       "margin": null,
       "max_height": null,
       "max_width": null,
       "min_height": null,
       "min_width": null,
       "object_fit": null,
       "object_position": null,
       "order": null,
       "overflow": null,
       "overflow_x": null,
       "overflow_y": null,
       "padding": null,
       "right": null,
       "top": null,
       "visibility": null,
       "width": null
      }
     },
     "c15e0fa0e21540b5b6fe4a1f5c2577bd": {
      "model_module": "@jupyter-widgets/controls",
      "model_module_version": "1.5.0",
      "model_name": "FloatProgressModel",
      "state": {
       "_dom_classes": [],
       "_model_module": "@jupyter-widgets/controls",
       "_model_module_version": "1.5.0",
       "_model_name": "FloatProgressModel",
       "_view_count": null,
       "_view_module": "@jupyter-widgets/controls",
       "_view_module_version": "1.5.0",
       "_view_name": "ProgressView",
       "bar_style": "success",
       "description": "",
       "description_tooltip": null,
       "layout": "IPY_MODEL_5d49be317bc84c36be3181f2301d2c10",
       "max": 481.0,
       "min": 0.0,
       "orientation": "horizontal",
       "style": "IPY_MODEL_07a12bd4c3a845648727d35321440194",
       "value": 481.0
      }
     },
     "c70d945b9ae940089bdb8d51b8823e43": {
      "model_module": "@jupyter-widgets/base",
      "model_module_version": "1.2.0",
      "model_name": "LayoutModel",
      "state": {
       "_model_module": "@jupyter-widgets/base",
       "_model_module_version": "1.2.0",
       "_model_name": "LayoutModel",
       "_view_count": null,
       "_view_module": "@jupyter-widgets/base",
       "_view_module_version": "1.2.0",
       "_view_name": "LayoutView",
       "align_content": null,
       "align_items": null,
       "align_self": null,
       "border": null,
       "bottom": null,
       "display": null,
       "flex": null,
       "flex_flow": null,
       "grid_area": null,
       "grid_auto_columns": null,
       "grid_auto_flow": null,
       "grid_auto_rows": null,
       "grid_column": null,
       "grid_gap": null,
       "grid_row": null,
       "grid_template_areas": null,
       "grid_template_columns": null,
       "grid_template_rows": null,
       "height": null,
       "justify_content": null,
       "justify_items": null,
       "left": null,
       "margin": null,
       "max_height": null,
       "max_width": null,
       "min_height": null,
       "min_width": null,
       "object_fit": null,
       "object_position": null,
       "order": null,
       "overflow": null,
       "overflow_x": null,
       "overflow_y": null,
       "padding": null,
       "right": null,
       "top": null,
       "visibility": null,
       "width": null
      }
     },
     "cd34aec632d04aef8bffde5029ed0e53": {
      "model_module": "@jupyter-widgets/base",
      "model_module_version": "1.2.0",
      "model_name": "LayoutModel",
      "state": {
       "_model_module": "@jupyter-widgets/base",
       "_model_module_version": "1.2.0",
       "_model_name": "LayoutModel",
       "_view_count": null,
       "_view_module": "@jupyter-widgets/base",
       "_view_module_version": "1.2.0",
       "_view_name": "LayoutView",
       "align_content": null,
       "align_items": null,
       "align_self": null,
       "border": null,
       "bottom": null,
       "display": null,
       "flex": null,
       "flex_flow": null,
       "grid_area": null,
       "grid_auto_columns": null,
       "grid_auto_flow": null,
       "grid_auto_rows": null,
       "grid_column": null,
       "grid_gap": null,
       "grid_row": null,
       "grid_template_areas": null,
       "grid_template_columns": null,
       "grid_template_rows": null,
       "height": null,
       "justify_content": null,
       "justify_items": null,
       "left": null,
       "margin": null,
       "max_height": null,
       "max_width": null,
       "min_height": null,
       "min_width": null,
       "object_fit": null,
       "object_position": null,
       "order": null,
       "overflow": null,
       "overflow_x": null,
       "overflow_y": null,
       "padding": null,
       "right": null,
       "top": null,
       "visibility": null,
       "width": null
      }
     },
     "d1a64681822f4ebfae70b16ac0efb0cd": {
      "model_module": "@jupyter-widgets/controls",
      "model_module_version": "1.5.0",
      "model_name": "ProgressStyleModel",
      "state": {
       "_model_module": "@jupyter-widgets/controls",
       "_model_module_version": "1.5.0",
       "_model_name": "ProgressStyleModel",
       "_view_count": null,
       "_view_module": "@jupyter-widgets/base",
       "_view_module_version": "1.2.0",
       "_view_name": "StyleView",
       "bar_color": null,
       "description_width": ""
      }
     },
     "d2b10066aa2f4126bb5eb4181fe462b1": {
      "model_module": "@jupyter-widgets/controls",
      "model_module_version": "1.5.0",
      "model_name": "ProgressStyleModel",
      "state": {
       "_model_module": "@jupyter-widgets/controls",
       "_model_module_version": "1.5.0",
       "_model_name": "ProgressStyleModel",
       "_view_count": null,
       "_view_module": "@jupyter-widgets/base",
       "_view_module_version": "1.2.0",
       "_view_name": "StyleView",
       "bar_color": null,
       "description_width": ""
      }
     },
     "df59657639ae485ea01756d9bd84be25": {
      "model_module": "@jupyter-widgets/controls",
      "model_module_version": "1.5.0",
      "model_name": "HTMLModel",
      "state": {
       "_dom_classes": [],
       "_model_module": "@jupyter-widgets/controls",
       "_model_module_version": "1.5.0",
       "_model_name": "HTMLModel",
       "_view_count": null,
       "_view_module": "@jupyter-widgets/controls",
       "_view_module_version": "1.5.0",
       "_view_name": "HTMLView",
       "description": "",
       "description_tooltip": null,
       "layout": "IPY_MODEL_080adb33b59040c4bb01ff0e8c832833",
       "placeholder": "​",
       "style": "IPY_MODEL_ecb215edabef4fb9887b230ff69a0d68",
       "value": " 446k/446k [00:00&lt;00:00, 918kB/s]"
      }
     },
     "e469aa7e1fef41ffafba0d6b2a6148a1": {
      "model_module": "@jupyter-widgets/controls",
      "model_module_version": "1.5.0",
      "model_name": "DescriptionStyleModel",
      "state": {
       "_model_module": "@jupyter-widgets/controls",
       "_model_module_version": "1.5.0",
       "_model_name": "DescriptionStyleModel",
       "_view_count": null,
       "_view_module": "@jupyter-widgets/base",
       "_view_module_version": "1.2.0",
       "_view_name": "StyleView",
       "description_width": ""
      }
     },
     "e8b7fd8a9e0e4cdca57162746ed71239": {
      "model_module": "@jupyter-widgets/controls",
      "model_module_version": "1.5.0",
      "model_name": "HBoxModel",
      "state": {
       "_dom_classes": [],
       "_model_module": "@jupyter-widgets/controls",
       "_model_module_version": "1.5.0",
       "_model_name": "HBoxModel",
       "_view_count": null,
       "_view_module": "@jupyter-widgets/controls",
       "_view_module_version": "1.5.0",
       "_view_name": "HBoxView",
       "box_style": "",
       "children": [
        "IPY_MODEL_fb6873ba0b3d4c9aab0d70abedfe147c",
        "IPY_MODEL_529652ece42c4e6392cda8f542d23d55",
        "IPY_MODEL_b989c2b2c2194bdc9bf0400d8f95c732"
       ],
       "layout": "IPY_MODEL_ea81a2bf13844f438ed687443c94b9e5"
      }
     },
     "ea81a2bf13844f438ed687443c94b9e5": {
      "model_module": "@jupyter-widgets/base",
      "model_module_version": "1.2.0",
      "model_name": "LayoutModel",
      "state": {
       "_model_module": "@jupyter-widgets/base",
       "_model_module_version": "1.2.0",
       "_model_name": "LayoutModel",
       "_view_count": null,
       "_view_module": "@jupyter-widgets/base",
       "_view_module_version": "1.2.0",
       "_view_name": "LayoutView",
       "align_content": null,
       "align_items": null,
       "align_self": null,
       "border": null,
       "bottom": null,
       "display": null,
       "flex": null,
       "flex_flow": null,
       "grid_area": null,
       "grid_auto_columns": null,
       "grid_auto_flow": null,
       "grid_auto_rows": null,
       "grid_column": null,
       "grid_gap": null,
       "grid_row": null,
       "grid_template_areas": null,
       "grid_template_columns": null,
       "grid_template_rows": null,
       "height": null,
       "justify_content": null,
       "justify_items": null,
       "left": null,
       "margin": null,
       "max_height": null,
       "max_width": null,
       "min_height": null,
       "min_width": null,
       "object_fit": null,
       "object_position": null,
       "order": null,
       "overflow": null,
       "overflow_x": null,
       "overflow_y": null,
       "padding": null,
       "right": null,
       "top": null,
       "visibility": null,
       "width": null
      }
     },
     "eb5bb84041b54203971fafec4ed04817": {
      "model_module": "@jupyter-widgets/base",
      "model_module_version": "1.2.0",
      "model_name": "LayoutModel",
      "state": {
       "_model_module": "@jupyter-widgets/base",
       "_model_module_version": "1.2.0",
       "_model_name": "LayoutModel",
       "_view_count": null,
       "_view_module": "@jupyter-widgets/base",
       "_view_module_version": "1.2.0",
       "_view_name": "LayoutView",
       "align_content": null,
       "align_items": null,
       "align_self": null,
       "border": null,
       "bottom": null,
       "display": null,
       "flex": null,
       "flex_flow": null,
       "grid_area": null,
       "grid_auto_columns": null,
       "grid_auto_flow": null,
       "grid_auto_rows": null,
       "grid_column": null,
       "grid_gap": null,
       "grid_row": null,
       "grid_template_areas": null,
       "grid_template_columns": null,
       "grid_template_rows": null,
       "height": null,
       "justify_content": null,
       "justify_items": null,
       "left": null,
       "margin": null,
       "max_height": null,
       "max_width": null,
       "min_height": null,
       "min_width": null,
       "object_fit": null,
       "object_position": null,
       "order": null,
       "overflow": null,
       "overflow_x": null,
       "overflow_y": null,
       "padding": null,
       "right": null,
       "top": null,
       "visibility": null,
       "width": null
      }
     },
     "ecb215edabef4fb9887b230ff69a0d68": {
      "model_module": "@jupyter-widgets/controls",
      "model_module_version": "1.5.0",
      "model_name": "DescriptionStyleModel",
      "state": {
       "_model_module": "@jupyter-widgets/controls",
       "_model_module_version": "1.5.0",
       "_model_name": "DescriptionStyleModel",
       "_view_count": null,
       "_view_module": "@jupyter-widgets/base",
       "_view_module_version": "1.2.0",
       "_view_name": "StyleView",
       "description_width": ""
      }
     },
     "ee9432bada264432ab89c3bc67380558": {
      "model_module": "@jupyter-widgets/base",
      "model_module_version": "1.2.0",
      "model_name": "LayoutModel",
      "state": {
       "_model_module": "@jupyter-widgets/base",
       "_model_module_version": "1.2.0",
       "_model_name": "LayoutModel",
       "_view_count": null,
       "_view_module": "@jupyter-widgets/base",
       "_view_module_version": "1.2.0",
       "_view_name": "LayoutView",
       "align_content": null,
       "align_items": null,
       "align_self": null,
       "border": null,
       "bottom": null,
       "display": null,
       "flex": null,
       "flex_flow": null,
       "grid_area": null,
       "grid_auto_columns": null,
       "grid_auto_flow": null,
       "grid_auto_rows": null,
       "grid_column": null,
       "grid_gap": null,
       "grid_row": null,
       "grid_template_areas": null,
       "grid_template_columns": null,
       "grid_template_rows": null,
       "height": null,
       "justify_content": null,
       "justify_items": null,
       "left": null,
       "margin": null,
       "max_height": null,
       "max_width": null,
       "min_height": null,
       "min_width": null,
       "object_fit": null,
       "object_position": null,
       "order": null,
       "overflow": null,
       "overflow_x": null,
       "overflow_y": null,
       "padding": null,
       "right": null,
       "top": null,
       "visibility": null,
       "width": null
      }
     },
     "f0f76ceaca054b008bd8810c014c62ec": {
      "model_module": "@jupyter-widgets/controls",
      "model_module_version": "1.5.0",
      "model_name": "HBoxModel",
      "state": {
       "_dom_classes": [],
       "_model_module": "@jupyter-widgets/controls",
       "_model_module_version": "1.5.0",
       "_model_name": "HBoxModel",
       "_view_count": null,
       "_view_module": "@jupyter-widgets/controls",
       "_view_module_version": "1.5.0",
       "_view_name": "HBoxView",
       "box_style": "",
       "children": [
        "IPY_MODEL_796eba6be72c48d9b236c72b992e351b",
        "IPY_MODEL_2c6572945aea4ccb820e4b64fe2e5458",
        "IPY_MODEL_7fa3d0926c0f4d1781f60d1596490e70"
       ],
       "layout": "IPY_MODEL_eb5bb84041b54203971fafec4ed04817"
      }
     },
     "f4b48df868eb4cfda959b6f40cc0d1ac": {
      "model_module": "@jupyter-widgets/base",
      "model_module_version": "1.2.0",
      "model_name": "LayoutModel",
      "state": {
       "_model_module": "@jupyter-widgets/base",
       "_model_module_version": "1.2.0",
       "_model_name": "LayoutModel",
       "_view_count": null,
       "_view_module": "@jupyter-widgets/base",
       "_view_module_version": "1.2.0",
       "_view_name": "LayoutView",
       "align_content": null,
       "align_items": null,
       "align_self": null,
       "border": null,
       "bottom": null,
       "display": null,
       "flex": null,
       "flex_flow": null,
       "grid_area": null,
       "grid_auto_columns": null,
       "grid_auto_flow": null,
       "grid_auto_rows": null,
       "grid_column": null,
       "grid_gap": null,
       "grid_row": null,
       "grid_template_areas": null,
       "grid_template_columns": null,
       "grid_template_rows": null,
       "height": null,
       "justify_content": null,
       "justify_items": null,
       "left": null,
       "margin": null,
       "max_height": null,
       "max_width": null,
       "min_height": null,
       "min_width": null,
       "object_fit": null,
       "object_position": null,
       "order": null,
       "overflow": null,
       "overflow_x": null,
       "overflow_y": null,
       "padding": null,
       "right": null,
       "top": null,
       "visibility": null,
       "width": null
      }
     },
     "fb6873ba0b3d4c9aab0d70abedfe147c": {
      "model_module": "@jupyter-widgets/controls",
      "model_module_version": "1.5.0",
      "model_name": "HTMLModel",
      "state": {
       "_dom_classes": [],
       "_model_module": "@jupyter-widgets/controls",
       "_model_module_version": "1.5.0",
       "_model_name": "HTMLModel",
       "_view_count": null,
       "_view_module": "@jupyter-widgets/controls",
       "_view_module_version": "1.5.0",
       "_view_name": "HTMLView",
       "description": "",
       "description_tooltip": null,
       "layout": "IPY_MODEL_23ae06f019a546d283386be81a9731dc",
       "placeholder": "​",
       "style": "IPY_MODEL_4a19181d07954c1181ee9444fe1fa8e9",
       "value": "Downloading: 100%"
      }
     }
    },
    "version_major": 2,
    "version_minor": 0
   }
  }
 },
 "nbformat": 4,
 "nbformat_minor": 5
}
