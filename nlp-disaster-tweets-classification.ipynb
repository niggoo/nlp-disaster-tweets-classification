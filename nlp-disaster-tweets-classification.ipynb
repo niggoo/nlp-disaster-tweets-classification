{
 "cells": [
  {
   "cell_type": "code",
   "execution_count": 1,
   "id": "cf3d24ae",
   "metadata": {
    "_cell_guid": "b1076dfc-b9ad-4769-8c92-a6c4dae69d19",
    "_uuid": "8f2839f25d086af736a60e9eeb907d3b93b6e0e5",
    "execution": {
     "iopub.execute_input": "2022-09-18T20:24:16.565809Z",
     "iopub.status.busy": "2022-09-18T20:24:16.565361Z",
     "iopub.status.idle": "2022-09-18T20:24:19.228226Z",
     "shell.execute_reply": "2022-09-18T20:24:19.226768Z"
    },
    "papermill": {
     "duration": 2.675174,
     "end_time": "2022-09-18T20:24:19.231287",
     "exception": false,
     "start_time": "2022-09-18T20:24:16.556113",
     "status": "completed"
    },
    "tags": []
   },
   "outputs": [
    {
     "name": "stdout",
     "output_type": "stream",
     "text": [
      "/kaggle/input/nlp-getting-started/sample_submission.csv\n",
      "/kaggle/input/nlp-getting-started/train.csv\n",
      "/kaggle/input/nlp-getting-started/test.csv\n"
     ]
    }
   ],
   "source": [
    "# This Python 3 environment comes with many helpful analytics libraries installed\n",
    "# It is defined by the kaggle/python Docker image: https://github.com/kaggle/docker-python\n",
    "# For example, here's several helpful packages to load\n",
    "\n",
    "import re\n",
    "import nltk\n",
    "import string\n",
    "from collections import Counter\n",
    "import numpy as np\n",
    "import pandas as pd\n",
    "from sklearn.model_selection import train_test_split\n",
    "from sklearn.feature_extraction.text import TfidfVectorizer\n",
    "from sklearn.decomposition import TruncatedSVD\n",
    "from sklearn.dummy import DummyClassifier\n",
    "from sklearn.model_selection import ParameterGrid\n",
    "from sklearn.svm import SVC\n",
    "from multiprocessing import Pool\n",
    "from transformers import BertTokenizer\n",
    "from sklearn.ensemble import AdaBoostClassifier\n",
    "from sklearn.neighbors import KNeighborsClassifier\n",
    "\n",
    "\n",
    "# Input data files are available in the read-only \"../input/\" directory\n",
    "# For example, running this (by clicking run or pressing Shift+Enter) will list all files under the input directory\n",
    "\n",
    "import os\n",
    "for dirname, _, filenames in os.walk('/kaggle/input'):\n",
    "    for filename in filenames:\n",
    "        print(os.path.join(dirname, filename))\n",
    "\n",
    "# You can write up to 20GB to the current directory (/kaggle/working/) that gets preserved as output when you create a version using \"Save & Run All\" \n",
    "# You can also write temporary files to /kaggle/temp/, but they won't be saved outside of the current session"
   ]
  },
  {
   "cell_type": "code",
   "execution_count": 2,
   "id": "d078051d",
   "metadata": {
    "execution": {
     "iopub.execute_input": "2022-09-18T20:24:19.245213Z",
     "iopub.status.busy": "2022-09-18T20:24:19.244776Z",
     "iopub.status.idle": "2022-09-18T20:24:19.394188Z",
     "shell.execute_reply": "2022-09-18T20:24:19.393154Z"
    },
    "papermill": {
     "duration": 0.159031,
     "end_time": "2022-09-18T20:24:19.396593",
     "exception": false,
     "start_time": "2022-09-18T20:24:19.237562",
     "status": "completed"
    },
    "tags": []
   },
   "outputs": [
    {
     "name": "stdout",
     "output_type": "stream",
     "text": [
      "*************** SAMPLE SUBMISSION *****************\n"
     ]
    },
    {
     "data": {
      "text/html": [
       "<div>\n",
       "<style scoped>\n",
       "    .dataframe tbody tr th:only-of-type {\n",
       "        vertical-align: middle;\n",
       "    }\n",
       "\n",
       "    .dataframe tbody tr th {\n",
       "        vertical-align: top;\n",
       "    }\n",
       "\n",
       "    .dataframe thead th {\n",
       "        text-align: right;\n",
       "    }\n",
       "</style>\n",
       "<table border=\"1\" class=\"dataframe\">\n",
       "  <thead>\n",
       "    <tr style=\"text-align: right;\">\n",
       "      <th></th>\n",
       "      <th>id</th>\n",
       "      <th>target</th>\n",
       "    </tr>\n",
       "  </thead>\n",
       "  <tbody>\n",
       "    <tr>\n",
       "      <th>0</th>\n",
       "      <td>0</td>\n",
       "      <td>0</td>\n",
       "    </tr>\n",
       "    <tr>\n",
       "      <th>1</th>\n",
       "      <td>2</td>\n",
       "      <td>0</td>\n",
       "    </tr>\n",
       "    <tr>\n",
       "      <th>2</th>\n",
       "      <td>3</td>\n",
       "      <td>0</td>\n",
       "    </tr>\n",
       "    <tr>\n",
       "      <th>3</th>\n",
       "      <td>9</td>\n",
       "      <td>0</td>\n",
       "    </tr>\n",
       "    <tr>\n",
       "      <th>4</th>\n",
       "      <td>11</td>\n",
       "      <td>0</td>\n",
       "    </tr>\n",
       "    <tr>\n",
       "      <th>...</th>\n",
       "      <td>...</td>\n",
       "      <td>...</td>\n",
       "    </tr>\n",
       "    <tr>\n",
       "      <th>3258</th>\n",
       "      <td>10861</td>\n",
       "      <td>0</td>\n",
       "    </tr>\n",
       "    <tr>\n",
       "      <th>3259</th>\n",
       "      <td>10865</td>\n",
       "      <td>0</td>\n",
       "    </tr>\n",
       "    <tr>\n",
       "      <th>3260</th>\n",
       "      <td>10868</td>\n",
       "      <td>0</td>\n",
       "    </tr>\n",
       "    <tr>\n",
       "      <th>3261</th>\n",
       "      <td>10874</td>\n",
       "      <td>0</td>\n",
       "    </tr>\n",
       "    <tr>\n",
       "      <th>3262</th>\n",
       "      <td>10875</td>\n",
       "      <td>0</td>\n",
       "    </tr>\n",
       "  </tbody>\n",
       "</table>\n",
       "<p>3263 rows × 2 columns</p>\n",
       "</div>"
      ],
      "text/plain": [
       "         id  target\n",
       "0         0       0\n",
       "1         2       0\n",
       "2         3       0\n",
       "3         9       0\n",
       "4        11       0\n",
       "...     ...     ...\n",
       "3258  10861       0\n",
       "3259  10865       0\n",
       "3260  10868       0\n",
       "3261  10874       0\n",
       "3262  10875       0\n",
       "\n",
       "[3263 rows x 2 columns]"
      ]
     },
     "metadata": {},
     "output_type": "display_data"
    },
    {
     "name": "stdout",
     "output_type": "stream",
     "text": [
      "\n",
      "*************** TRAIN DATA *****************\n"
     ]
    },
    {
     "data": {
      "text/html": [
       "<div>\n",
       "<style scoped>\n",
       "    .dataframe tbody tr th:only-of-type {\n",
       "        vertical-align: middle;\n",
       "    }\n",
       "\n",
       "    .dataframe tbody tr th {\n",
       "        vertical-align: top;\n",
       "    }\n",
       "\n",
       "    .dataframe thead th {\n",
       "        text-align: right;\n",
       "    }\n",
       "</style>\n",
       "<table border=\"1\" class=\"dataframe\">\n",
       "  <thead>\n",
       "    <tr style=\"text-align: right;\">\n",
       "      <th></th>\n",
       "      <th>id</th>\n",
       "      <th>keyword</th>\n",
       "      <th>location</th>\n",
       "      <th>text</th>\n",
       "      <th>target</th>\n",
       "    </tr>\n",
       "  </thead>\n",
       "  <tbody>\n",
       "    <tr>\n",
       "      <th>4996</th>\n",
       "      <td>7128</td>\n",
       "      <td>military</td>\n",
       "      <td>Texas</td>\n",
       "      <td>Courageous and honest analysis of need to use ...</td>\n",
       "      <td>1</td>\n",
       "    </tr>\n",
       "    <tr>\n",
       "      <th>3263</th>\n",
       "      <td>4688</td>\n",
       "      <td>engulfed</td>\n",
       "      <td>NaN</td>\n",
       "      <td>@ZachZaidman @670TheScore wld b a shame if tha...</td>\n",
       "      <td>0</td>\n",
       "    </tr>\n",
       "    <tr>\n",
       "      <th>4907</th>\n",
       "      <td>6984</td>\n",
       "      <td>massacre</td>\n",
       "      <td>Cottonwood Arizona</td>\n",
       "      <td>Tell @BarackObama to rescind medals of 'honor'...</td>\n",
       "      <td>1</td>\n",
       "    </tr>\n",
       "    <tr>\n",
       "      <th>2855</th>\n",
       "      <td>4103</td>\n",
       "      <td>drought</td>\n",
       "      <td>Spokane, WA</td>\n",
       "      <td>Worried about how the CA drought might affect ...</td>\n",
       "      <td>1</td>\n",
       "    </tr>\n",
       "    <tr>\n",
       "      <th>4716</th>\n",
       "      <td>6706</td>\n",
       "      <td>lava</td>\n",
       "      <td>Medan,Indonesia</td>\n",
       "      <td>@YoungHeroesID Lava Blast &amp;amp; Power Red #Pan...</td>\n",
       "      <td>0</td>\n",
       "    </tr>\n",
       "    <tr>\n",
       "      <th>...</th>\n",
       "      <td>...</td>\n",
       "      <td>...</td>\n",
       "      <td>...</td>\n",
       "      <td>...</td>\n",
       "      <td>...</td>\n",
       "    </tr>\n",
       "    <tr>\n",
       "      <th>5226</th>\n",
       "      <td>7470</td>\n",
       "      <td>obliteration</td>\n",
       "      <td>Merica!</td>\n",
       "      <td>@Eganator2000 There aren't many Obliteration s...</td>\n",
       "      <td>0</td>\n",
       "    </tr>\n",
       "    <tr>\n",
       "      <th>5390</th>\n",
       "      <td>7691</td>\n",
       "      <td>panic</td>\n",
       "      <td>NaN</td>\n",
       "      <td>just had a panic attack bc I don't have enough...</td>\n",
       "      <td>0</td>\n",
       "    </tr>\n",
       "    <tr>\n",
       "      <th>860</th>\n",
       "      <td>1242</td>\n",
       "      <td>blood</td>\n",
       "      <td>NaN</td>\n",
       "      <td>Omron HEM-712C Automatic Blood Pressure Monito...</td>\n",
       "      <td>0</td>\n",
       "    </tr>\n",
       "    <tr>\n",
       "      <th>7603</th>\n",
       "      <td>10862</td>\n",
       "      <td>NaN</td>\n",
       "      <td>NaN</td>\n",
       "      <td>Officials say a quarantine is in place at an A...</td>\n",
       "      <td>1</td>\n",
       "    </tr>\n",
       "    <tr>\n",
       "      <th>7270</th>\n",
       "      <td>10409</td>\n",
       "      <td>whirlwind</td>\n",
       "      <td>Stamford &amp; Cork (&amp; Shropshire)</td>\n",
       "      <td>I moved to England five years ago today. What ...</td>\n",
       "      <td>1</td>\n",
       "    </tr>\n",
       "  </tbody>\n",
       "</table>\n",
       "<p>6090 rows × 5 columns</p>\n",
       "</div>"
      ],
      "text/plain": [
       "         id       keyword                        location  \\\n",
       "4996   7128      military                           Texas   \n",
       "3263   4688      engulfed                             NaN   \n",
       "4907   6984      massacre              Cottonwood Arizona   \n",
       "2855   4103       drought                     Spokane, WA   \n",
       "4716   6706          lava                 Medan,Indonesia   \n",
       "...     ...           ...                             ...   \n",
       "5226   7470  obliteration                         Merica!   \n",
       "5390   7691         panic                             NaN   \n",
       "860    1242         blood                             NaN   \n",
       "7603  10862           NaN                             NaN   \n",
       "7270  10409     whirlwind  Stamford & Cork (& Shropshire)   \n",
       "\n",
       "                                                   text  target  \n",
       "4996  Courageous and honest analysis of need to use ...       1  \n",
       "3263  @ZachZaidman @670TheScore wld b a shame if tha...       0  \n",
       "4907  Tell @BarackObama to rescind medals of 'honor'...       1  \n",
       "2855  Worried about how the CA drought might affect ...       1  \n",
       "4716  @YoungHeroesID Lava Blast &amp; Power Red #Pan...       0  \n",
       "...                                                 ...     ...  \n",
       "5226  @Eganator2000 There aren't many Obliteration s...       0  \n",
       "5390  just had a panic attack bc I don't have enough...       0  \n",
       "860   Omron HEM-712C Automatic Blood Pressure Monito...       0  \n",
       "7603  Officials say a quarantine is in place at an A...       1  \n",
       "7270  I moved to England five years ago today. What ...       1  \n",
       "\n",
       "[6090 rows x 5 columns]"
      ]
     },
     "metadata": {},
     "output_type": "display_data"
    },
    {
     "name": "stdout",
     "output_type": "stream",
     "text": [
      "\n",
      "*************** VAL DATA *****************\n"
     ]
    },
    {
     "data": {
      "text/html": [
       "<div>\n",
       "<style scoped>\n",
       "    .dataframe tbody tr th:only-of-type {\n",
       "        vertical-align: middle;\n",
       "    }\n",
       "\n",
       "    .dataframe tbody tr th {\n",
       "        vertical-align: top;\n",
       "    }\n",
       "\n",
       "    .dataframe thead th {\n",
       "        text-align: right;\n",
       "    }\n",
       "</style>\n",
       "<table border=\"1\" class=\"dataframe\">\n",
       "  <thead>\n",
       "    <tr style=\"text-align: right;\">\n",
       "      <th></th>\n",
       "      <th>id</th>\n",
       "      <th>keyword</th>\n",
       "      <th>location</th>\n",
       "      <th>text</th>\n",
       "      <th>target</th>\n",
       "    </tr>\n",
       "  </thead>\n",
       "  <tbody>\n",
       "    <tr>\n",
       "      <th>2644</th>\n",
       "      <td>3796</td>\n",
       "      <td>destruction</td>\n",
       "      <td>NaN</td>\n",
       "      <td>So you have a new weapon that can cause un-ima...</td>\n",
       "      <td>1</td>\n",
       "    </tr>\n",
       "    <tr>\n",
       "      <th>2227</th>\n",
       "      <td>3185</td>\n",
       "      <td>deluge</td>\n",
       "      <td>NaN</td>\n",
       "      <td>The f$&amp;amp;@ing things I do for #GISHWHES Just...</td>\n",
       "      <td>0</td>\n",
       "    </tr>\n",
       "    <tr>\n",
       "      <th>5448</th>\n",
       "      <td>7769</td>\n",
       "      <td>police</td>\n",
       "      <td>UK</td>\n",
       "      <td>DT @georgegalloway: RT @Galloway4Mayor: ÛÏThe...</td>\n",
       "      <td>1</td>\n",
       "    </tr>\n",
       "    <tr>\n",
       "      <th>132</th>\n",
       "      <td>191</td>\n",
       "      <td>aftershock</td>\n",
       "      <td>NaN</td>\n",
       "      <td>Aftershock back to school kick off was great. ...</td>\n",
       "      <td>0</td>\n",
       "    </tr>\n",
       "    <tr>\n",
       "      <th>6845</th>\n",
       "      <td>9810</td>\n",
       "      <td>trauma</td>\n",
       "      <td>Montgomery County, MD</td>\n",
       "      <td>in response to trauma Children of Addicts deve...</td>\n",
       "      <td>0</td>\n",
       "    </tr>\n",
       "    <tr>\n",
       "      <th>...</th>\n",
       "      <td>...</td>\n",
       "      <td>...</td>\n",
       "      <td>...</td>\n",
       "      <td>...</td>\n",
       "      <td>...</td>\n",
       "    </tr>\n",
       "    <tr>\n",
       "      <th>1835</th>\n",
       "      <td>2640</td>\n",
       "      <td>crashed</td>\n",
       "      <td>Somewhere</td>\n",
       "      <td>@SmusX16475 Skype just crashed u host</td>\n",
       "      <td>0</td>\n",
       "    </tr>\n",
       "    <tr>\n",
       "      <th>506</th>\n",
       "      <td>731</td>\n",
       "      <td>attacked</td>\n",
       "      <td>Arundel</td>\n",
       "      <td>Christian Attacked by Muslims at the Temple Mo...</td>\n",
       "      <td>1</td>\n",
       "    </tr>\n",
       "    <tr>\n",
       "      <th>3592</th>\n",
       "      <td>5131</td>\n",
       "      <td>fatal</td>\n",
       "      <td>New South Wales, Australia</td>\n",
       "      <td>Man charged over fatal crash near Dubbo refuse...</td>\n",
       "      <td>1</td>\n",
       "    </tr>\n",
       "    <tr>\n",
       "      <th>6740</th>\n",
       "      <td>9657</td>\n",
       "      <td>thunderstorm</td>\n",
       "      <td>NaN</td>\n",
       "      <td>#usNWSgov Severe Weather Statement issued Augu...</td>\n",
       "      <td>1</td>\n",
       "    </tr>\n",
       "    <tr>\n",
       "      <th>1634</th>\n",
       "      <td>2361</td>\n",
       "      <td>collapsed</td>\n",
       "      <td>NaN</td>\n",
       "      <td>Great British &amp;lt;b&amp;gt;Bake&amp;lt;/b&amp;gt; Off's ba...</td>\n",
       "      <td>0</td>\n",
       "    </tr>\n",
       "  </tbody>\n",
       "</table>\n",
       "<p>1523 rows × 5 columns</p>\n",
       "</div>"
      ],
      "text/plain": [
       "        id       keyword                    location  \\\n",
       "2644  3796   destruction                         NaN   \n",
       "2227  3185        deluge                         NaN   \n",
       "5448  7769        police                          UK   \n",
       "132    191    aftershock                         NaN   \n",
       "6845  9810        trauma       Montgomery County, MD   \n",
       "...    ...           ...                         ...   \n",
       "1835  2640       crashed                   Somewhere   \n",
       "506    731      attacked                    Arundel    \n",
       "3592  5131         fatal  New South Wales, Australia   \n",
       "6740  9657  thunderstorm                         NaN   \n",
       "1634  2361     collapsed                         NaN   \n",
       "\n",
       "                                                   text  target  \n",
       "2644  So you have a new weapon that can cause un-ima...       1  \n",
       "2227  The f$&amp;@ing things I do for #GISHWHES Just...       0  \n",
       "5448  DT @georgegalloway: RT @Galloway4Mayor: ÛÏThe...       1  \n",
       "132   Aftershock back to school kick off was great. ...       0  \n",
       "6845  in response to trauma Children of Addicts deve...       0  \n",
       "...                                                 ...     ...  \n",
       "1835              @SmusX16475 Skype just crashed u host       0  \n",
       "506   Christian Attacked by Muslims at the Temple Mo...       1  \n",
       "3592  Man charged over fatal crash near Dubbo refuse...       1  \n",
       "6740  #usNWSgov Severe Weather Statement issued Augu...       1  \n",
       "1634  Great British &lt;b&gt;Bake&lt;/b&gt; Off's ba...       0  \n",
       "\n",
       "[1523 rows x 5 columns]"
      ]
     },
     "metadata": {},
     "output_type": "display_data"
    },
    {
     "name": "stdout",
     "output_type": "stream",
     "text": [
      "\n",
      "*************** TEST DATA *****************\n"
     ]
    },
    {
     "data": {
      "text/html": [
       "<div>\n",
       "<style scoped>\n",
       "    .dataframe tbody tr th:only-of-type {\n",
       "        vertical-align: middle;\n",
       "    }\n",
       "\n",
       "    .dataframe tbody tr th {\n",
       "        vertical-align: top;\n",
       "    }\n",
       "\n",
       "    .dataframe thead th {\n",
       "        text-align: right;\n",
       "    }\n",
       "</style>\n",
       "<table border=\"1\" class=\"dataframe\">\n",
       "  <thead>\n",
       "    <tr style=\"text-align: right;\">\n",
       "      <th></th>\n",
       "      <th>id</th>\n",
       "      <th>keyword</th>\n",
       "      <th>location</th>\n",
       "      <th>text</th>\n",
       "    </tr>\n",
       "  </thead>\n",
       "  <tbody>\n",
       "    <tr>\n",
       "      <th>0</th>\n",
       "      <td>0</td>\n",
       "      <td>NaN</td>\n",
       "      <td>NaN</td>\n",
       "      <td>Just happened a terrible car crash</td>\n",
       "    </tr>\n",
       "    <tr>\n",
       "      <th>1</th>\n",
       "      <td>2</td>\n",
       "      <td>NaN</td>\n",
       "      <td>NaN</td>\n",
       "      <td>Heard about #earthquake is different cities, s...</td>\n",
       "    </tr>\n",
       "    <tr>\n",
       "      <th>2</th>\n",
       "      <td>3</td>\n",
       "      <td>NaN</td>\n",
       "      <td>NaN</td>\n",
       "      <td>there is a forest fire at spot pond, geese are...</td>\n",
       "    </tr>\n",
       "    <tr>\n",
       "      <th>3</th>\n",
       "      <td>9</td>\n",
       "      <td>NaN</td>\n",
       "      <td>NaN</td>\n",
       "      <td>Apocalypse lighting. #Spokane #wildfires</td>\n",
       "    </tr>\n",
       "    <tr>\n",
       "      <th>4</th>\n",
       "      <td>11</td>\n",
       "      <td>NaN</td>\n",
       "      <td>NaN</td>\n",
       "      <td>Typhoon Soudelor kills 28 in China and Taiwan</td>\n",
       "    </tr>\n",
       "    <tr>\n",
       "      <th>...</th>\n",
       "      <td>...</td>\n",
       "      <td>...</td>\n",
       "      <td>...</td>\n",
       "      <td>...</td>\n",
       "    </tr>\n",
       "    <tr>\n",
       "      <th>3258</th>\n",
       "      <td>10861</td>\n",
       "      <td>NaN</td>\n",
       "      <td>NaN</td>\n",
       "      <td>EARTHQUAKE SAFETY LOS ANGELES ÛÒ SAFETY FASTE...</td>\n",
       "    </tr>\n",
       "    <tr>\n",
       "      <th>3259</th>\n",
       "      <td>10865</td>\n",
       "      <td>NaN</td>\n",
       "      <td>NaN</td>\n",
       "      <td>Storm in RI worse than last hurricane. My city...</td>\n",
       "    </tr>\n",
       "    <tr>\n",
       "      <th>3260</th>\n",
       "      <td>10868</td>\n",
       "      <td>NaN</td>\n",
       "      <td>NaN</td>\n",
       "      <td>Green Line derailment in Chicago http://t.co/U...</td>\n",
       "    </tr>\n",
       "    <tr>\n",
       "      <th>3261</th>\n",
       "      <td>10874</td>\n",
       "      <td>NaN</td>\n",
       "      <td>NaN</td>\n",
       "      <td>MEG issues Hazardous Weather Outlook (HWO) htt...</td>\n",
       "    </tr>\n",
       "    <tr>\n",
       "      <th>3262</th>\n",
       "      <td>10875</td>\n",
       "      <td>NaN</td>\n",
       "      <td>NaN</td>\n",
       "      <td>#CityofCalgary has activated its Municipal Eme...</td>\n",
       "    </tr>\n",
       "  </tbody>\n",
       "</table>\n",
       "<p>3263 rows × 4 columns</p>\n",
       "</div>"
      ],
      "text/plain": [
       "         id keyword location  \\\n",
       "0         0     NaN      NaN   \n",
       "1         2     NaN      NaN   \n",
       "2         3     NaN      NaN   \n",
       "3         9     NaN      NaN   \n",
       "4        11     NaN      NaN   \n",
       "...     ...     ...      ...   \n",
       "3258  10861     NaN      NaN   \n",
       "3259  10865     NaN      NaN   \n",
       "3260  10868     NaN      NaN   \n",
       "3261  10874     NaN      NaN   \n",
       "3262  10875     NaN      NaN   \n",
       "\n",
       "                                                   text  \n",
       "0                    Just happened a terrible car crash  \n",
       "1     Heard about #earthquake is different cities, s...  \n",
       "2     there is a forest fire at spot pond, geese are...  \n",
       "3              Apocalypse lighting. #Spokane #wildfires  \n",
       "4         Typhoon Soudelor kills 28 in China and Taiwan  \n",
       "...                                                 ...  \n",
       "3258  EARTHQUAKE SAFETY LOS ANGELES ÛÒ SAFETY FASTE...  \n",
       "3259  Storm in RI worse than last hurricane. My city...  \n",
       "3260  Green Line derailment in Chicago http://t.co/U...  \n",
       "3261  MEG issues Hazardous Weather Outlook (HWO) htt...  \n",
       "3262  #CityofCalgary has activated its Municipal Eme...  \n",
       "\n",
       "[3263 rows x 4 columns]"
      ]
     },
     "metadata": {},
     "output_type": "display_data"
    }
   ],
   "source": [
    "sample_submission = pd.read_csv(\"/kaggle/input/nlp-getting-started/sample_submission.csv\")\n",
    "train_df = pd.read_csv(\"/kaggle/input/nlp-getting-started/train.csv\")\n",
    "\n",
    "train_df, val_df = train_test_split(train_df, test_size=0.2, random_state=42)\n",
    "\n",
    "test_df = pd.read_csv(\"/kaggle/input/nlp-getting-started/test.csv\")\n",
    "\n",
    "print(\"*************** SAMPLE SUBMISSION *****************\")\n",
    "display(sample_submission)\n",
    "\n",
    "print(\"\\n*************** TRAIN DATA *****************\")\n",
    "display(train_df)\n",
    "\n",
    "print(\"\\n*************** VAL DATA *****************\")\n",
    "display(val_df)\n",
    "\n",
    "print(\"\\n*************** TEST DATA *****************\")\n",
    "display(test_df)"
   ]
  },
  {
   "cell_type": "code",
   "execution_count": 3,
   "id": "33ae1d19",
   "metadata": {
    "execution": {
     "iopub.execute_input": "2022-09-18T20:24:19.413408Z",
     "iopub.status.busy": "2022-09-18T20:24:19.412482Z",
     "iopub.status.idle": "2022-09-18T20:24:19.440346Z",
     "shell.execute_reply": "2022-09-18T20:24:19.438522Z"
    },
    "papermill": {
     "duration": 0.039026,
     "end_time": "2022-09-18T20:24:19.442920",
     "exception": false,
     "start_time": "2022-09-18T20:24:19.403894",
     "status": "completed"
    },
    "tags": []
   },
   "outputs": [
    {
     "name": "stdout",
     "output_type": "stream",
     "text": [
      "<class 'pandas.core.frame.DataFrame'>\n",
      "Int64Index: 6090 entries, 4996 to 7270\n",
      "Data columns (total 5 columns):\n",
      " #   Column    Non-Null Count  Dtype \n",
      "---  ------    --------------  ----- \n",
      " 0   id        6090 non-null   int64 \n",
      " 1   keyword   6042 non-null   object\n",
      " 2   location  4070 non-null   object\n",
      " 3   text      6090 non-null   object\n",
      " 4   target    6090 non-null   int64 \n",
      "dtypes: int64(2), object(3)\n",
      "memory usage: 285.5+ KB\n"
     ]
    }
   ],
   "source": [
    "train_df.info()"
   ]
  },
  {
   "cell_type": "code",
   "execution_count": 4,
   "id": "b2f83770",
   "metadata": {
    "execution": {
     "iopub.execute_input": "2022-09-18T20:24:19.459357Z",
     "iopub.status.busy": "2022-09-18T20:24:19.458928Z",
     "iopub.status.idle": "2022-09-18T20:24:19.467319Z",
     "shell.execute_reply": "2022-09-18T20:24:19.465964Z"
    },
    "papermill": {
     "duration": 0.019371,
     "end_time": "2022-09-18T20:24:19.469869",
     "exception": false,
     "start_time": "2022-09-18T20:24:19.450498",
     "status": "completed"
    },
    "tags": []
   },
   "outputs": [
    {
     "data": {
      "text/plain": [
       "4996    Courageous and honest analysis of need to use ...\n",
       "3263    @ZachZaidman @670TheScore wld b a shame if tha...\n",
       "4907    Tell @BarackObama to rescind medals of 'honor'...\n",
       "2855    Worried about how the CA drought might affect ...\n",
       "4716    @YoungHeroesID Lava Blast &amp; Power Red #Pan...\n",
       "                              ...                        \n",
       "5226    @Eganator2000 There aren't many Obliteration s...\n",
       "5390    just had a panic attack bc I don't have enough...\n",
       "860     Omron HEM-712C Automatic Blood Pressure Monito...\n",
       "7603    Officials say a quarantine is in place at an A...\n",
       "7270    I moved to England five years ago today. What ...\n",
       "Name: text, Length: 6090, dtype: object"
      ]
     },
     "execution_count": 4,
     "metadata": {},
     "output_type": "execute_result"
    }
   ],
   "source": [
    "train_df.text"
   ]
  },
  {
   "cell_type": "code",
   "execution_count": 5,
   "id": "48278211",
   "metadata": {
    "execution": {
     "iopub.execute_input": "2022-09-18T20:24:19.486638Z",
     "iopub.status.busy": "2022-09-18T20:24:19.486246Z",
     "iopub.status.idle": "2022-09-18T20:24:19.493216Z",
     "shell.execute_reply": "2022-09-18T20:24:19.491902Z"
    },
    "papermill": {
     "duration": 0.018388,
     "end_time": "2022-09-18T20:24:19.495712",
     "exception": false,
     "start_time": "2022-09-18T20:24:19.477324",
     "status": "completed"
    },
    "tags": []
   },
   "outputs": [],
   "source": [
    "train_texts = train_df.text.values.tolist()\n",
    "train_classes = train_df.target.values.tolist()\n",
    "\n",
    "val_texts = val_df.text.values.tolist()\n",
    "val_classes = val_df.target.values.tolist()\n",
    "\n",
    "test_texts = test_df.text.values.tolist()"
   ]
  },
  {
   "cell_type": "code",
   "execution_count": 6,
   "id": "0541f59c",
   "metadata": {
    "execution": {
     "iopub.execute_input": "2022-09-18T20:24:19.512953Z",
     "iopub.status.busy": "2022-09-18T20:24:19.512537Z",
     "iopub.status.idle": "2022-09-18T20:24:19.518825Z",
     "shell.execute_reply": "2022-09-18T20:24:19.517627Z"
    },
    "papermill": {
     "duration": 0.017165,
     "end_time": "2022-09-18T20:24:19.521073",
     "exception": false,
     "start_time": "2022-09-18T20:24:19.503908",
     "status": "completed"
    },
    "tags": []
   },
   "outputs": [],
   "source": [
    "def print_random_samples(texts, classes):\n",
    "    np.random.seed(42)\n",
    "    random_entries = np.random.randint(0, len(texts), 10)\n",
    "    \n",
    "    for i in random_entries:\n",
    "        print(f\"Entry (Class {classes[i]}) {i}: {texts[i]}\\n\")"
   ]
  },
  {
   "cell_type": "code",
   "execution_count": 7,
   "id": "9e3e4fb3",
   "metadata": {
    "execution": {
     "iopub.execute_input": "2022-09-18T20:24:19.537439Z",
     "iopub.status.busy": "2022-09-18T20:24:19.536625Z",
     "iopub.status.idle": "2022-09-18T20:24:19.543096Z",
     "shell.execute_reply": "2022-09-18T20:24:19.541876Z"
    },
    "papermill": {
     "duration": 0.017314,
     "end_time": "2022-09-18T20:24:19.545638",
     "exception": false,
     "start_time": "2022-09-18T20:24:19.528324",
     "status": "completed"
    },
    "tags": []
   },
   "outputs": [
    {
     "name": "stdout",
     "output_type": "stream",
     "text": [
      "Entry (Class 1) 860: If you were the NWS wth a rotating storm w/ a report of a 'HUGE' / 'MASSIVE' / 'VIOLENT' tornado what would you do? https://t.co/J3dI85IST5\n",
      "\n",
      "Entry (Class 0) 5390: Demolished My Personal Best  http://t.co/ImULLBvUEd\n",
      "\n",
      "Entry (Class 0) 5226: #sing #tsunami Beginners #computer tutorial.: http://t.co/ukQYbhxMQI Everyone Wants To Learn To Build A Pc. Re http://t.co/iDWS2ZgYsa\n",
      "\n",
      "Entry (Class 0) 5191: Survival Kit Whistle Fire Starter Wire Saw Cree Torch Emergency Blanket S knife  - Full reÛ_ http://t.co/2OroYUNYM2 http://t.co/C9JnXz3DXC\n",
      "\n",
      "Entry (Class 0) 3772: Buddha was 'man for his time' - massive urbanisation and social upheaval also challenged Brahmans dominance ('Genius of the Ancient World').\n",
      "\n",
      "Entry (Class 1) 3092: Scary stuff in San Antonio. Stars head coach Dan Hughes was run into on the sidelines and fell over chairs onto the floor. Stretcher now out\n",
      "\n",
      "Entry (Class 0) 5734: Free Ebay Sniping RT? http://t.co/B231Ul1O1K Lumbar Extender Back Stretcher Excellent Condition!! ?Please Favorite &amp; Share\n",
      "\n",
      "Entry (Class 0) 466: Brian Shaw + J.J. Hickson + Kenneth Faried trying to defend LaMarcus Aldridge was A BLOOD VOLCANO http://t.co/20TWGPmM7d\n",
      "\n",
      "Entry (Class 0) 5334: Downtown Emergency Service Center is hiring! #Chemical #Dependency Counselor or Intern in #Seattle apply now! #jobs http://t.co/SKQPWSNOin\n",
      "\n",
      "Entry (Class 0) 4426: Drunk Meals 101: What To Cook When You're Totally Obliterated http://t.co/JlPut7Va3s\n",
      "\n"
     ]
    }
   ],
   "source": [
    "print_random_samples(train_texts, train_classes)"
   ]
  },
  {
   "cell_type": "markdown",
   "id": "381b558c",
   "metadata": {
    "papermill": {
     "duration": 0.007,
     "end_time": "2022-09-18T20:24:19.560028",
     "exception": false,
     "start_time": "2022-09-18T20:24:19.553028",
     "status": "completed"
    },
    "tags": []
   },
   "source": [
    "# Preprocessing"
   ]
  },
  {
   "cell_type": "code",
   "execution_count": 8,
   "id": "e4acfe9b",
   "metadata": {
    "execution": {
     "iopub.execute_input": "2022-09-18T20:24:19.576497Z",
     "iopub.status.busy": "2022-09-18T20:24:19.576102Z",
     "iopub.status.idle": "2022-09-18T20:24:19.807823Z",
     "shell.execute_reply": "2022-09-18T20:24:19.806064Z"
    },
    "papermill": {
     "duration": 0.243363,
     "end_time": "2022-09-18T20:24:19.810640",
     "exception": false,
     "start_time": "2022-09-18T20:24:19.567277",
     "status": "completed"
    },
    "tags": []
   },
   "outputs": [
    {
     "name": "stdout",
     "output_type": "stream",
     "text": [
      "Entry (Class 1) 860: if you were the nws wth a rotating storm w a report of a huge  massive  violent tornado what would you do httpstcojdiist\n",
      "\n",
      "Entry (Class 0) 5390: demolished my personal best  httptcoimullbvued\n",
      "\n",
      "Entry (Class 0) 5226: sing tsunami beginners computer tutorial httptcoukqybhxmqi everyone wants to learn to build a pc re httptcoidwszgysa\n",
      "\n",
      "Entry (Class 0) 5191: survival kit whistle fire starter wire saw cree torch emergency blanket s knife   full reû httptcooroyunym httptcocjnxzdxc\n",
      "\n",
      "Entry (Class 0) 3772: buddha was man for his time  massive urbanisation and social upheaval also challenged brahmans dominance genius of the ancient world\n",
      "\n",
      "Entry (Class 1) 3092: scary stuff in san antonio stars head coach dan hughes was run into on the sidelines and fell over chairs onto the floor stretcher now out\n",
      "\n",
      "Entry (Class 0) 5734: free ebay sniping rt httptcobulok lumbar extender back stretcher excellent condition please favorite amp share\n",
      "\n",
      "Entry (Class 0) 466: brian shaw  jj hickson  kenneth faried trying to defend lamarcus aldridge was a blood volcano httptcotwgpmmd\n",
      "\n",
      "Entry (Class 0) 5334: downtown emergency service center is hiring chemical dependency counselor or intern in seattle apply now jobs httptcoskqpwsnoin\n",
      "\n",
      "Entry (Class 0) 4426: drunk meals  what to cook when youre totally obliterated httptcojlputvas\n",
      "\n"
     ]
    }
   ],
   "source": [
    "def apply(func, train_texts, validation_texts, test_texts):\n",
    "    train_texts = [func(text) for text in train_texts]\n",
    "    validation_texts = [func(text) for text in validation_texts]\n",
    "    test_texts = [func(text) for text in test_texts]\n",
    "\n",
    "    return train_texts, validation_texts, test_texts\n",
    "\n",
    "# Lowercase the whole text\n",
    "def lowercase(text):\n",
    "    return text.lower()\n",
    "\n",
    "# Remove punctuations\n",
    "def remove_punctuation(text):\n",
    "    return ''.join(character for character in text if character not in string.punctuation)\n",
    "\n",
    "\n",
    "# Remove numbers\n",
    "def remove_numbers(text):\n",
    "    return re.sub(r'\\d+', '', text)\n",
    "\n",
    "\n",
    "\n",
    "train_texts, val_texts, test_texts = apply(lowercase, train_texts, val_texts, test_texts)\n",
    "train_texts, val_texts, test_texts = apply(remove_punctuation, train_texts, val_texts, test_texts)\n",
    "train_texts, val_texts, test_texts = apply(remove_numbers, train_texts, val_texts, test_texts)\n",
    "\n",
    "print_random_samples(train_texts, train_classes)"
   ]
  },
  {
   "cell_type": "code",
   "execution_count": 9,
   "id": "a3d56665",
   "metadata": {
    "execution": {
     "iopub.execute_input": "2022-09-18T20:24:19.827668Z",
     "iopub.status.busy": "2022-09-18T20:24:19.827257Z",
     "iopub.status.idle": "2022-09-18T20:24:26.071796Z",
     "shell.execute_reply": "2022-09-18T20:24:26.070477Z"
    },
    "papermill": {
     "duration": 6.256748,
     "end_time": "2022-09-18T20:24:26.075070",
     "exception": false,
     "start_time": "2022-09-18T20:24:19.818322",
     "status": "completed"
    },
    "tags": []
   },
   "outputs": [],
   "source": [
    "# Tokenize\n",
    "def tokenize(text):\n",
    "    return nltk.word_tokenize(text, language=\"english\")\n",
    "\n",
    "\n",
    "# Stopword filtering\n",
    "def stopword_filtering(text_tokens):\n",
    "    stop_words = nltk.corpus.stopwords.words('english')\n",
    "\n",
    "    return [token for token in text_tokens if token not in stop_words]\n",
    "\n",
    "\n",
    "# Stemming\n",
    "def stemming(text_tokens):\n",
    "    porter = nltk.stem.porter.PorterStemmer()\n",
    "    return [porter.stem(token) for token in text_tokens]\n",
    "\n",
    "\n",
    "train_texts, val_texts, test_texts = apply(tokenize, train_texts, val_texts, test_texts)\n",
    "train_texts, val_texts, test_texts = apply(stopword_filtering, train_texts, val_texts, test_texts)\n",
    "train_texts, val_texts, test_texts = apply(stemming, train_texts, val_texts, test_texts)"
   ]
  },
  {
   "cell_type": "code",
   "execution_count": 10,
   "id": "384a395c",
   "metadata": {
    "execution": {
     "iopub.execute_input": "2022-09-18T20:24:26.099503Z",
     "iopub.status.busy": "2022-09-18T20:24:26.098803Z",
     "iopub.status.idle": "2022-09-18T20:24:26.118985Z",
     "shell.execute_reply": "2022-09-18T20:24:26.116932Z"
    },
    "papermill": {
     "duration": 0.035522,
     "end_time": "2022-09-18T20:24:26.121736",
     "exception": false,
     "start_time": "2022-09-18T20:24:26.086214",
     "status": "completed"
    },
    "tags": []
   },
   "outputs": [
    {
     "name": "stdout",
     "output_type": "stream",
     "text": [
      "Entry (Class 1) 860: nw wth rotat storm w report huge massiv violent tornado would httpstcojdiist\n",
      "\n",
      "Entry (Class 0) 5390: demolish person best httptcoimullbvu\n",
      "\n",
      "Entry (Class 0) 5226: sing tsunami beginn comput tutori httptcoukqybhxmqi everyon want learn build pc httptcoidwszgysa\n",
      "\n",
      "Entry (Class 0) 5191: surviv kit whistl fire starter wire saw cree torch emerg blanket knife full reû httptcooroyunym httptcocjnxzdxc\n",
      "\n",
      "Entry (Class 0) 3772: buddha man time massiv urbanis social upheav also challeng brahman domin geniu ancient world\n",
      "\n",
      "Entry (Class 1) 3092: scari stuff san antonio star head coach dan hugh run sidelin fell chair onto floor stretcher\n",
      "\n",
      "Entry (Class 0) 5734: free ebay snipe rt httptcobulok lumbar extend back stretcher excel condit pleas favorit amp share\n",
      "\n",
      "Entry (Class 0) 466: brian shaw jj hickson kenneth fari tri defend lamarcu aldridg blood volcano httptcotwgpmmd\n",
      "\n",
      "Entry (Class 0) 5334: downtown emerg servic center hire chemic depend counselor intern seattl appli job httptcoskqpwsnoin\n",
      "\n",
      "Entry (Class 0) 4426: drunk meal cook your total obliter httptcojlputva\n",
      "\n"
     ]
    }
   ],
   "source": [
    "def stitch_text_tokens_together(text_tokens):\n",
    "    return \" \".join(text_tokens)\n",
    "\n",
    "\n",
    "train_texts, val_texts, test_texts = apply(stitch_text_tokens_together, train_texts, val_texts,\n",
    "                                                  test_texts)\n",
    "\n",
    "print_random_samples(train_texts, train_classes)"
   ]
  },
  {
   "cell_type": "code",
   "execution_count": 11,
   "id": "5cf440bf",
   "metadata": {
    "execution": {
     "iopub.execute_input": "2022-09-18T20:24:26.139047Z",
     "iopub.status.busy": "2022-09-18T20:24:26.138562Z",
     "iopub.status.idle": "2022-09-18T20:24:26.448200Z",
     "shell.execute_reply": "2022-09-18T20:24:26.446938Z"
    },
    "papermill": {
     "duration": 0.322014,
     "end_time": "2022-09-18T20:24:26.451530",
     "exception": false,
     "start_time": "2022-09-18T20:24:26.129516",
     "status": "completed"
    },
    "tags": []
   },
   "outputs": [],
   "source": [
    "tfidf_vectorizer = TfidfVectorizer(use_idf=True).fit(train_texts)\n",
    "\n",
    "train_tfidf_vec = tfidf_vectorizer.transform(train_texts)\n",
    "val_tfidf_vec = tfidf_vectorizer.transform(val_texts)\n",
    "test_tfidf_vec = tfidf_vectorizer.transform(test_texts)"
   ]
  },
  {
   "cell_type": "code",
   "execution_count": 12,
   "id": "2c8cf5b8",
   "metadata": {
    "execution": {
     "iopub.execute_input": "2022-09-18T20:24:26.472750Z",
     "iopub.status.busy": "2022-09-18T20:24:26.472335Z",
     "iopub.status.idle": "2022-09-18T20:25:37.671673Z",
     "shell.execute_reply": "2022-09-18T20:25:37.670250Z"
    },
    "papermill": {
     "duration": 71.211829,
     "end_time": "2022-09-18T20:25:37.674652",
     "exception": false,
     "start_time": "2022-09-18T20:24:26.462823",
     "status": "completed"
    },
    "tags": []
   },
   "outputs": [],
   "source": [
    "svd_tfidf = TruncatedSVD(n_components=400, n_iter=100, random_state=42).fit(train_tfidf_vec)\n",
    "\n",
    "train_tfidf_vec = svd_tfidf.transform(train_tfidf_vec)\n",
    "val_tfidf_vec = svd_tfidf.transform(val_tfidf_vec)\n",
    "test_tfidf_vec = svd_tfidf.transform(test_tfidf_vec)"
   ]
  },
  {
   "cell_type": "markdown",
   "id": "2eb207c4",
   "metadata": {
    "papermill": {
     "duration": 0.007522,
     "end_time": "2022-09-18T20:25:37.690677",
     "exception": false,
     "start_time": "2022-09-18T20:25:37.683155",
     "status": "completed"
    },
    "tags": []
   },
   "source": [
    "# Training"
   ]
  },
  {
   "cell_type": "code",
   "execution_count": 13,
   "id": "55a9223c",
   "metadata": {
    "execution": {
     "iopub.execute_input": "2022-09-18T20:25:37.708207Z",
     "iopub.status.busy": "2022-09-18T20:25:37.707764Z",
     "iopub.status.idle": "2022-09-18T20:25:37.721368Z",
     "shell.execute_reply": "2022-09-18T20:25:37.719887Z"
    },
    "papermill": {
     "duration": 0.025473,
     "end_time": "2022-09-18T20:25:37.723911",
     "exception": false,
     "start_time": "2022-09-18T20:25:37.698438",
     "status": "completed"
    },
    "tags": []
   },
   "outputs": [],
   "source": [
    "def evaluate_svc(params):\n",
    "    model = SVC(**params['params']).fit(params['data']['train_x'], params['data']['train_y'])\n",
    "    val_score = model.score(params['data']['val_x'], params['data']['val_y'])\n",
    "\n",
    "    return {'val_acc': val_score, 'clf': model }\n",
    "\n",
    "def evaluate_ada(params):\n",
    "    model = AdaBoostClassifier(**params['params']).fit(params['data']['train_x'], params['data']['train_y'])\n",
    "    val_score = model.score(params['data']['val_x'], params['data']['val_y'])\n",
    "\n",
    "    return {'val_acc': val_score, 'clf': model }\n",
    "\n",
    "def evaluate_knn(params):\n",
    "    model = KNeighborsClassifier(**params['params']).fit(params['data']['train_x'], params['data']['train_y'])\n",
    "    val_score = model.score(params['data']['val_x'], params['data']['val_y'])\n",
    "\n",
    "    return {'val_acc': val_score, 'clf': model }\n",
    "\n",
    "def hyperparameter_grid_search(evaluation_func, param_grid_list, train_x, train_y, val_x, val_y):\n",
    "    param_grid = ParameterGrid(param_grid_list)\n",
    "\n",
    "    multiprocess_params = list(map(lambda p: {\n",
    "        'params': p,\n",
    "        'data': {\n",
    "            'train_x': train_x,\n",
    "            'train_y': train_y,\n",
    "            'val_x': val_x,\n",
    "            'val_y': val_y\n",
    "        }}, param_grid))\n",
    "\n",
    "    with Pool(4) as p:\n",
    "        results = p.map(evaluation_func, multiprocess_params)\n",
    "        results.sort(key=lambda d: d['val_acc'], reverse=True)\n",
    "\n",
    "        print(\"Best 3 classifiers: \")\n",
    "        for r in results[:3]:\n",
    "            print(f\"Acc: {r['val_acc']:.3f}, {r['clf']}\")\n",
    "\n",
    "        return results[0]"
   ]
  },
  {
   "cell_type": "code",
   "execution_count": 14,
   "id": "3380643a",
   "metadata": {
    "execution": {
     "iopub.execute_input": "2022-09-18T20:25:37.741856Z",
     "iopub.status.busy": "2022-09-18T20:25:37.741409Z",
     "iopub.status.idle": "2022-09-18T20:25:37.751768Z",
     "shell.execute_reply": "2022-09-18T20:25:37.750528Z"
    },
    "papermill": {
     "duration": 0.022287,
     "end_time": "2022-09-18T20:25:37.754181",
     "exception": false,
     "start_time": "2022-09-18T20:25:37.731894",
     "status": "completed"
    },
    "tags": []
   },
   "outputs": [
    {
     "data": {
      "text/plain": [
       "0.5738673670387393"
      ]
     },
     "execution_count": 14,
     "metadata": {},
     "output_type": "execute_result"
    }
   ],
   "source": [
    "dummy_clf = DummyClassifier(strategy=\"most_frequent\").fit(train_tfidf_vec, train_classes)\n",
    "dummy_clf.score(val_tfidf_vec, val_classes)"
   ]
  },
  {
   "cell_type": "code",
   "execution_count": 15,
   "id": "0821e8f8",
   "metadata": {
    "execution": {
     "iopub.execute_input": "2022-09-18T20:25:37.772773Z",
     "iopub.status.busy": "2022-09-18T20:25:37.772360Z",
     "iopub.status.idle": "2022-09-18T20:26:35.139836Z",
     "shell.execute_reply": "2022-09-18T20:26:35.138423Z"
    },
    "papermill": {
     "duration": 57.387277,
     "end_time": "2022-09-18T20:26:35.149592",
     "exception": false,
     "start_time": "2022-09-18T20:25:37.762315",
     "status": "completed"
    },
    "tags": []
   },
   "outputs": [
    {
     "name": "stdout",
     "output_type": "stream",
     "text": [
      "Best 3 classifiers: \n",
      "Acc: 0.810, SVC(C=0.9000000000000001)\n",
      "Acc: 0.809, SVC(C=0.9500000000000002)\n",
      "Acc: 0.809, SVC(C=1.0000000000000002)\n"
     ]
    }
   ],
   "source": [
    "best_svc = hyperparameter_grid_search(evaluate_svc, {\n",
    "    \"C\": np.arange(0.7, 1.2, 0.05)\n",
    "}, train_tfidf_vec, train_classes, val_tfidf_vec, val_classes)['clf']"
   ]
  },
  {
   "cell_type": "code",
   "execution_count": 16,
   "id": "b5ef2c92",
   "metadata": {
    "execution": {
     "iopub.execute_input": "2022-09-18T20:26:35.172052Z",
     "iopub.status.busy": "2022-09-18T20:26:35.171629Z",
     "iopub.status.idle": "2022-09-18T20:32:14.794698Z",
     "shell.execute_reply": "2022-09-18T20:32:14.793251Z"
    },
    "papermill": {
     "duration": 339.64515,
     "end_time": "2022-09-18T20:32:14.804930",
     "exception": false,
     "start_time": "2022-09-18T20:26:35.159780",
     "status": "completed"
    },
    "tags": []
   },
   "outputs": [
    {
     "name": "stdout",
     "output_type": "stream",
     "text": [
      "Best 3 classifiers: \n",
      "Acc: 0.773, AdaBoostClassifier(learning_rate=0.2, n_estimators=300)\n",
      "Acc: 0.773, AdaBoostClassifier(learning_rate=0.5, n_estimators=200)\n",
      "Acc: 0.772, AdaBoostClassifier(learning_rate=0.2, n_estimators=250)\n"
     ]
    }
   ],
   "source": [
    "best_ada = hyperparameter_grid_search(evaluate_ada, {\n",
    "    \"n_estimators\": [100,  200, 250, 300],\n",
    "    \"learning_rate\": [0.2, 0.5, 0.7]\n",
    "}, train_tfidf_vec, train_classes, val_tfidf_vec, val_classes)['clf']"
   ]
  },
  {
   "cell_type": "code",
   "execution_count": 17,
   "id": "16c6b0ee",
   "metadata": {
    "execution": {
     "iopub.execute_input": "2022-09-18T20:32:14.823717Z",
     "iopub.status.busy": "2022-09-18T20:32:14.823162Z",
     "iopub.status.idle": "2022-09-18T20:32:19.722331Z",
     "shell.execute_reply": "2022-09-18T20:32:19.720759Z"
    },
    "papermill": {
     "duration": 4.91217,
     "end_time": "2022-09-18T20:32:19.725864",
     "exception": false,
     "start_time": "2022-09-18T20:32:14.813694",
     "status": "completed"
    },
    "tags": []
   },
   "outputs": [
    {
     "name": "stdout",
     "output_type": "stream",
     "text": [
      "Best 3 classifiers: \n",
      "Acc: 0.727, KNeighborsClassifier()\n",
      "Acc: 0.726, KNeighborsClassifier(n_neighbors=8)\n",
      "Acc: 0.724, KNeighborsClassifier(n_neighbors=10)\n"
     ]
    }
   ],
   "source": [
    "best_knn = hyperparameter_grid_search(evaluate_knn, {\n",
    "    \"n_neighbors\": [1, 2, 3, 5, 6, 7, 8, 10, 50, 100, 200, 250, 300]\n",
    "}, train_tfidf_vec, train_classes, val_tfidf_vec, val_classes)['clf']"
   ]
  },
  {
   "cell_type": "markdown",
   "id": "6fd77a44",
   "metadata": {
    "papermill": {
     "duration": 0.008468,
     "end_time": "2022-09-18T20:32:19.745210",
     "exception": false,
     "start_time": "2022-09-18T20:32:19.736742",
     "status": "completed"
    },
    "tags": []
   },
   "source": [
    "# Predict test"
   ]
  },
  {
   "cell_type": "code",
   "execution_count": 18,
   "id": "087791ff",
   "metadata": {
    "execution": {
     "iopub.execute_input": "2022-09-18T20:32:19.765463Z",
     "iopub.status.busy": "2022-09-18T20:32:19.764899Z",
     "iopub.status.idle": "2022-09-18T20:32:26.584135Z",
     "shell.execute_reply": "2022-09-18T20:32:26.583184Z"
    },
    "papermill": {
     "duration": 6.831983,
     "end_time": "2022-09-18T20:32:26.586611",
     "exception": false,
     "start_time": "2022-09-18T20:32:19.754628",
     "status": "completed"
    },
    "tags": []
   },
   "outputs": [
    {
     "data": {
      "text/html": [
       "<div>\n",
       "<style scoped>\n",
       "    .dataframe tbody tr th:only-of-type {\n",
       "        vertical-align: middle;\n",
       "    }\n",
       "\n",
       "    .dataframe tbody tr th {\n",
       "        vertical-align: top;\n",
       "    }\n",
       "\n",
       "    .dataframe thead th {\n",
       "        text-align: right;\n",
       "    }\n",
       "</style>\n",
       "<table border=\"1\" class=\"dataframe\">\n",
       "  <thead>\n",
       "    <tr style=\"text-align: right;\">\n",
       "      <th></th>\n",
       "      <th>id</th>\n",
       "      <th>target</th>\n",
       "    </tr>\n",
       "  </thead>\n",
       "  <tbody>\n",
       "    <tr>\n",
       "      <th>0</th>\n",
       "      <td>0</td>\n",
       "      <td>1</td>\n",
       "    </tr>\n",
       "    <tr>\n",
       "      <th>1</th>\n",
       "      <td>2</td>\n",
       "      <td>1</td>\n",
       "    </tr>\n",
       "    <tr>\n",
       "      <th>2</th>\n",
       "      <td>3</td>\n",
       "      <td>1</td>\n",
       "    </tr>\n",
       "    <tr>\n",
       "      <th>3</th>\n",
       "      <td>9</td>\n",
       "      <td>1</td>\n",
       "    </tr>\n",
       "    <tr>\n",
       "      <th>4</th>\n",
       "      <td>11</td>\n",
       "      <td>1</td>\n",
       "    </tr>\n",
       "    <tr>\n",
       "      <th>5</th>\n",
       "      <td>12</td>\n",
       "      <td>1</td>\n",
       "    </tr>\n",
       "    <tr>\n",
       "      <th>6</th>\n",
       "      <td>21</td>\n",
       "      <td>0</td>\n",
       "    </tr>\n",
       "    <tr>\n",
       "      <th>7</th>\n",
       "      <td>22</td>\n",
       "      <td>0</td>\n",
       "    </tr>\n",
       "    <tr>\n",
       "      <th>8</th>\n",
       "      <td>27</td>\n",
       "      <td>0</td>\n",
       "    </tr>\n",
       "    <tr>\n",
       "      <th>9</th>\n",
       "      <td>29</td>\n",
       "      <td>0</td>\n",
       "    </tr>\n",
       "    <tr>\n",
       "      <th>10</th>\n",
       "      <td>30</td>\n",
       "      <td>0</td>\n",
       "    </tr>\n",
       "    <tr>\n",
       "      <th>11</th>\n",
       "      <td>35</td>\n",
       "      <td>0</td>\n",
       "    </tr>\n",
       "    <tr>\n",
       "      <th>12</th>\n",
       "      <td>42</td>\n",
       "      <td>0</td>\n",
       "    </tr>\n",
       "    <tr>\n",
       "      <th>13</th>\n",
       "      <td>43</td>\n",
       "      <td>0</td>\n",
       "    </tr>\n",
       "    <tr>\n",
       "      <th>14</th>\n",
       "      <td>45</td>\n",
       "      <td>0</td>\n",
       "    </tr>\n",
       "    <tr>\n",
       "      <th>15</th>\n",
       "      <td>46</td>\n",
       "      <td>1</td>\n",
       "    </tr>\n",
       "    <tr>\n",
       "      <th>16</th>\n",
       "      <td>47</td>\n",
       "      <td>0</td>\n",
       "    </tr>\n",
       "    <tr>\n",
       "      <th>17</th>\n",
       "      <td>51</td>\n",
       "      <td>1</td>\n",
       "    </tr>\n",
       "    <tr>\n",
       "      <th>18</th>\n",
       "      <td>58</td>\n",
       "      <td>0</td>\n",
       "    </tr>\n",
       "    <tr>\n",
       "      <th>19</th>\n",
       "      <td>60</td>\n",
       "      <td>0</td>\n",
       "    </tr>\n",
       "  </tbody>\n",
       "</table>\n",
       "</div>"
      ],
      "text/plain": [
       "    id  target\n",
       "0    0       1\n",
       "1    2       1\n",
       "2    3       1\n",
       "3    9       1\n",
       "4   11       1\n",
       "5   12       1\n",
       "6   21       0\n",
       "7   22       0\n",
       "8   27       0\n",
       "9   29       0\n",
       "10  30       0\n",
       "11  35       0\n",
       "12  42       0\n",
       "13  43       0\n",
       "14  45       0\n",
       "15  46       1\n",
       "16  47       0\n",
       "17  51       1\n",
       "18  58       0\n",
       "19  60       0"
      ]
     },
     "metadata": {},
     "output_type": "display_data"
    }
   ],
   "source": [
    "test_predictions = best_svc.predict(test_tfidf_vec)\n",
    "\n",
    "sample_submission[\"target\"] = test_predictions\n",
    "\n",
    "display(sample_submission.head(20))\n",
    "\n",
    "sample_submission.to_csv(\"submission.csv\", index=False)"
   ]
  },
  {
   "cell_type": "code",
   "execution_count": null,
   "id": "1c509dd0",
   "metadata": {
    "papermill": {
     "duration": 0.008063,
     "end_time": "2022-09-18T20:32:26.603021",
     "exception": false,
     "start_time": "2022-09-18T20:32:26.594958",
     "status": "completed"
    },
    "tags": []
   },
   "outputs": [],
   "source": []
  },
  {
   "cell_type": "code",
   "execution_count": null,
   "id": "95ec465d",
   "metadata": {
    "papermill": {
     "duration": 0.007794,
     "end_time": "2022-09-18T20:32:26.619101",
     "exception": false,
     "start_time": "2022-09-18T20:32:26.611307",
     "status": "completed"
    },
    "tags": []
   },
   "outputs": [],
   "source": []
  }
 ],
 "metadata": {
  "kernelspec": {
   "display_name": "Python 3",
   "language": "python",
   "name": "python3"
  },
  "language_info": {
   "codemirror_mode": {
    "name": "ipython",
    "version": 3
   },
   "file_extension": ".py",
   "mimetype": "text/x-python",
   "name": "python",
   "nbconvert_exporter": "python",
   "pygments_lexer": "ipython3",
   "version": "3.7.12"
  },
  "papermill": {
   "default_parameters": {},
   "duration": 500.325891,
   "end_time": "2022-09-18T20:32:27.550968",
   "environment_variables": {},
   "exception": null,
   "input_path": "__notebook__.ipynb",
   "output_path": "__notebook__.ipynb",
   "parameters": {},
   "start_time": "2022-09-18T20:24:07.225077",
   "version": "2.3.4"
  }
 },
 "nbformat": 4,
 "nbformat_minor": 5
}
